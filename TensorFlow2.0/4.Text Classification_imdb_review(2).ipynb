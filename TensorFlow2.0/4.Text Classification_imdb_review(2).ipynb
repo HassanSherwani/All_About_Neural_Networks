{
 "cells": [
  {
   "cell_type": "markdown",
   "metadata": {},
   "source": [
    "# Predicting sentiments for IMDB data\n",
    "\n",
    "using LSTM"
   ]
  },
  {
   "cell_type": "markdown",
   "metadata": {},
   "source": [
    "# 1- Import key Modules"
   ]
  },
  {
   "cell_type": "code",
   "execution_count": 1,
   "metadata": {},
   "outputs": [],
   "source": [
    "# support both Python 2 and Python 3 with minimal overhead.\n",
    "from __future__ import absolute_import, division, print_function\n",
    "\n",
    "# I am an engineer. I care only about error not warning. So, let's be maverick and ignore warnings.\n",
    "import warnings\n",
    "warnings.filterwarnings('ignore')"
   ]
  },
  {
   "cell_type": "code",
   "execution_count": 2,
   "metadata": {},
   "outputs": [],
   "source": [
    "import numpy as np\n",
    "import pandas as pd"
   ]
  },
  {
   "cell_type": "code",
   "execution_count": 3,
   "metadata": {},
   "outputs": [
    {
     "name": "stderr",
     "output_type": "stream",
     "text": [
      "Using TensorFlow backend.\n"
     ]
    }
   ],
   "source": [
    "from keras.preprocessing import sequence\n",
    "from keras.models import Sequential\n",
    "from keras.layers import LSTM\n",
    "from keras.layers import Embedding\n",
    "from keras.layers import Dense"
   ]
  },
  {
   "cell_type": "code",
   "execution_count": 4,
   "metadata": {},
   "outputs": [
    {
     "name": "stdout",
     "output_type": "stream",
     "text": [
      "Populating the interactive namespace from numpy and matplotlib\n"
     ]
    }
   ],
   "source": [
    "# Visualization \n",
    "import matplotlib.pyplot as plt\n",
    "import seaborn as sns\n",
    "from pprint import pprint\n",
    "%matplotlib inline\n",
    "%pylab inline"
   ]
  },
  {
   "cell_type": "markdown",
   "metadata": {},
   "source": [
    "# 2-Loading and preparing data"
   ]
  },
  {
   "cell_type": "code",
   "execution_count": 5,
   "metadata": {},
   "outputs": [],
   "source": [
    "from keras.datasets import imdb\n",
    "max_words = 20000\n",
    "(x_train, y_train), (x_test, y_test) = imdb.load_data(num_words=max_words)"
   ]
  },
  {
   "cell_type": "code",
   "execution_count": 6,
   "metadata": {},
   "outputs": [
    {
     "name": "stdout",
     "output_type": "stream",
     "text": [
      "X_train length:  25000\n",
      "X_test length:  25000\n"
     ]
    }
   ],
   "source": [
    "print(\"X_train length: \", len(x_train))\n",
    "print(\"X_test length: \", len(x_test))"
   ]
  },
  {
   "cell_type": "code",
   "execution_count": 7,
   "metadata": {},
   "outputs": [],
   "source": [
    "word_to_index = imdb.get_word_index()\n",
    "index_to_word = {v: k for k, v in word_to_index.items()}"
   ]
  },
  {
   "cell_type": "code",
   "execution_count": 8,
   "metadata": {},
   "outputs": [
    {
     "name": "stdout",
     "output_type": "stream",
     "text": [
      "[1, 14, 22, 16, 43, 530, 973, 1622, 1385, 65, 458, 4468, 66, 3941, 4, 173, 36, 256, 5, 25, 100, 43, 838, 112, 50, 670, 2, 9, 35, 480, 284, 5, 150, 4, 172, 112, 167, 2, 336, 385, 39, 4, 172, 4536, 1111, 17, 546, 38, 13, 447, 4, 192, 50, 16, 6, 147, 2025, 19, 14, 22, 4, 1920, 4613, 469, 4, 22, 71, 87, 12, 16, 43, 530, 38, 76, 15, 13, 1247, 4, 22, 17, 515, 17, 12, 16, 626, 18, 19193, 5, 62, 386, 12, 8, 316, 8, 106, 5, 4, 2223, 5244, 16, 480, 66, 3785, 33, 4, 130, 12, 16, 38, 619, 5, 25, 124, 51, 36, 135, 48, 25, 1415, 33, 6, 22, 12, 215, 28, 77, 52, 5, 14, 407, 16, 82, 10311, 8, 4, 107, 117, 5952, 15, 256, 4, 2, 7, 3766, 5, 723, 36, 71, 43, 530, 476, 26, 400, 317, 46, 7, 4, 12118, 1029, 13, 104, 88, 4, 381, 15, 297, 98, 32, 2071, 56, 26, 141, 6, 194, 7486, 18, 4, 226, 22, 21, 134, 476, 26, 480, 5, 144, 30, 5535, 18, 51, 36, 28, 224, 92, 25, 104, 4, 226, 65, 16, 38, 1334, 88, 12, 16, 283, 5, 16, 4472, 113, 103, 32, 15, 16, 5345, 19, 178, 32]\n"
     ]
    }
   ],
   "source": [
    "print(x_train[0])"
   ]
  },
  {
   "cell_type": "code",
   "execution_count": 9,
   "metadata": {},
   "outputs": [
    {
     "name": "stdout",
     "output_type": "stream",
     "text": [
      "the as you with out themselves powerful lets loves their becomes reaching had journalist of lot from anyone to have after out atmosphere never more room and it so heart shows to years of every never going and help moments or of every chest visual movie except her was several of enough more with is now current film as you of mine potentially unfortunately of you than him that with out themselves her get for was camp of you movie sometimes movie that with scary but pratfalls to story wonderful that in seeing in character to of 70s musicians with heart had shadows they of here that with her serious to have does when from why what have critics they is you that isn't one will very to as itself with other tricky in of seen over landed for anyone of and br show's to whether from than out themselves history he name half some br of 'n odd was two most of mean for 1 any an boat she he should is thought frog but of script you not while history he heart to real at barrel but when from one bit then have two of script their with her nobody most that with wasn't to with armed acting watch an for with heartfelt film want an\n"
     ]
    }
   ],
   "source": [
    "print(\" \".join([index_to_word[x] for x in x_train[0]]))"
   ]
  },
  {
   "cell_type": "code",
   "execution_count": 10,
   "metadata": {},
   "outputs": [
    {
     "name": "stdout",
     "output_type": "stream",
     "text": [
      "Min value: 0 Max value: 1\n"
     ]
    }
   ],
   "source": [
    "print(\"Min value:\", min(y_train), \"Max value:\", max(y_train))"
   ]
  },
  {
   "cell_type": "markdown",
   "metadata": {},
   "source": [
    "### 2.1.average and median"
   ]
  },
  {
   "cell_type": "code",
   "execution_count": 11,
   "metadata": {},
   "outputs": [],
   "source": [
    "import numpy as np\n",
    "\n",
    "average_length = np.mean([len(x) for x in x_train])\n",
    "median_length = sorted([len(x) for x in x_train])[len(x_train) // 2]"
   ]
  },
  {
   "cell_type": "code",
   "execution_count": 12,
   "metadata": {},
   "outputs": [
    {
     "name": "stdout",
     "output_type": "stream",
     "text": [
      "Average sequence length:  238.71364\n",
      "Median sequence length:  178\n"
     ]
    }
   ],
   "source": [
    "print(\"Average sequence length: \", average_length)\n",
    "print(\"Median sequence length: \", median_length)"
   ]
  },
  {
   "cell_type": "markdown",
   "metadata": {},
   "source": [
    "so we shall keep sentence length somewhat close to these values. I will go for average length and hence , sentence lenth will be 240"
   ]
  },
  {
   "cell_type": "markdown",
   "metadata": {},
   "source": [
    "### 2.2.Embedding sequence i.e padding"
   ]
  },
  {
   "cell_type": "code",
   "execution_count": 13,
   "metadata": {},
   "outputs": [
    {
     "name": "stdout",
     "output_type": "stream",
     "text": [
      "X_train shape:  (25000, 240)\n"
     ]
    }
   ],
   "source": [
    "max_sequence_length = 240\n",
    "\n",
    "from keras.preprocessing import sequence\n",
    "\n",
    "x_train = sequence.pad_sequences(x_train, maxlen=max_sequence_length, padding='post', truncating='post')\n",
    "x_test = sequence.pad_sequences(x_test, maxlen=max_sequence_length, padding='post', truncating='post')\n",
    "\n",
    "print('X_train shape: ', x_train.shape)"
   ]
  },
  {
   "cell_type": "markdown",
   "metadata": {},
   "source": [
    "# 3- Model Building"
   ]
  },
  {
   "cell_type": "code",
   "execution_count": 14,
   "metadata": {},
   "outputs": [],
   "source": [
    "from keras.models import Sequential\n",
    "from keras.layers import LSTM\n",
    "from keras.layers import Embedding\n",
    "from keras.layers import Dense\n",
    "from keras.callbacks import EarlyStopping"
   ]
  },
  {
   "cell_type": "markdown",
   "metadata": {},
   "source": [
    "### 3.1.Single layer LSTM Model"
   ]
  },
  {
   "cell_type": "code",
   "execution_count": 15,
   "metadata": {},
   "outputs": [],
   "source": [
    "hidden_size = 32\n",
    "\n",
    "sl_model = Sequential()\n",
    "sl_model.add(Embedding(max_words, hidden_size))\n",
    "sl_model.add(LSTM(hidden_size, activation='tanh', dropout=0.2, recurrent_dropout=0.2))\n",
    "sl_model.add(Dense(1, activation='sigmoid'))\n",
    "sl_model.compile(optimizer='adam', loss='binary_crossentropy', metrics=['accuracy'])"
   ]
  },
  {
   "cell_type": "code",
   "execution_count": 16,
   "metadata": {},
   "outputs": [
    {
     "name": "stdout",
     "output_type": "stream",
     "text": [
      "Model: \"sequential_1\"\n",
      "_________________________________________________________________\n",
      "Layer (type)                 Output Shape              Param #   \n",
      "=================================================================\n",
      "embedding_1 (Embedding)      (None, None, 32)          640000    \n",
      "_________________________________________________________________\n",
      "lstm_1 (LSTM)                (None, 32)                8320      \n",
      "_________________________________________________________________\n",
      "dense_1 (Dense)              (None, 1)                 33        \n",
      "=================================================================\n",
      "Total params: 648,353\n",
      "Trainable params: 648,353\n",
      "Non-trainable params: 0\n",
      "_________________________________________________________________\n"
     ]
    }
   ],
   "source": [
    "sl_model.summary()"
   ]
  },
  {
   "cell_type": "code",
   "execution_count": 17,
   "metadata": {},
   "outputs": [
    {
     "name": "stdout",
     "output_type": "stream",
     "text": [
      "Train on 25000 samples, validate on 25000 samples\n",
      "Epoch 1/3\n",
      "25000/25000 [==============================] - 142s 6ms/step - loss: 0.6846 - accuracy: 0.5432 - val_loss: 0.6785 - val_accuracy: 0.5699\n",
      "Epoch 2/3\n",
      "25000/25000 [==============================] - 137s 5ms/step - loss: 0.6521 - accuracy: 0.6194 - val_loss: 0.6497 - val_accuracy: 0.6054\n",
      "Epoch 3/3\n",
      "25000/25000 [==============================] - 134s 5ms/step - loss: 0.6095 - accuracy: 0.6630 - val_loss: 0.6300 - val_accuracy: 0.6596\n"
     ]
    },
    {
     "data": {
      "text/plain": [
       "<keras.callbacks.callbacks.History at 0x190a7d8c7c8>"
      ]
     },
     "execution_count": 17,
     "metadata": {},
     "output_type": "execute_result"
    }
   ],
   "source": [
    "epochs = 3\n",
    "batch_size=16\n",
    "\n",
    "sl_model.fit(x_train, y_train,validation_data=(x_test,y_test),\n",
    "             callbacks=[EarlyStopping(monitor='val_loss', patience=3, min_delta=0.0001)],\n",
    "             epochs=epochs, batch_size=batch_size, shuffle=True)\n"
   ]
  },
  {
   "cell_type": "code",
   "execution_count": 18,
   "metadata": {},
   "outputs": [
    {
     "name": "stdout",
     "output_type": "stream",
     "text": [
      "25000/25000 [==============================] - 15s 583us/step\n"
     ]
    }
   ],
   "source": [
    "loss, acc = sl_model.evaluate(x_test, y_test)"
   ]
  },
  {
   "cell_type": "code",
   "execution_count": 19,
   "metadata": {},
   "outputs": [
    {
     "name": "stdout",
     "output_type": "stream",
     "text": [
      "Single layer model -- ACC 0.6596400141716003 -- LOSS 0.6300316198921203\n"
     ]
    }
   ],
   "source": [
    "print('Single layer model -- ACC {} -- LOSS {}'.format(acc, loss))"
   ]
  },
  {
   "cell_type": "markdown",
   "metadata": {},
   "source": [
    "### 3.2.Stacked Layered LSTM"
   ]
  },
  {
   "cell_type": "code",
   "execution_count": 21,
   "metadata": {},
   "outputs": [],
   "source": [
    "d_model = Sequential()\n",
    "d_model.add(Embedding(max_words, hidden_size))\n",
    "d_model.add(LSTM(hidden_size, activation='tanh', dropout=0.2, recurrent_dropout=0.2, return_sequences=True))\n",
    "d_model.add(LSTM(hidden_size, activation='tanh', dropout=0.2, recurrent_dropout=0.2))\n",
    "d_model.add(Dense(1, activation='sigmoid'))\n",
    "d_model.compile(optimizer='adam', loss='binary_crossentropy', metrics=['accuracy'])"
   ]
  },
  {
   "cell_type": "code",
   "execution_count": 22,
   "metadata": {},
   "outputs": [
    {
     "name": "stdout",
     "output_type": "stream",
     "text": [
      "Model: \"sequential_2\"\n",
      "_________________________________________________________________\n",
      "Layer (type)                 Output Shape              Param #   \n",
      "=================================================================\n",
      "embedding_2 (Embedding)      (None, None, 32)          640000    \n",
      "_________________________________________________________________\n",
      "lstm_2 (LSTM)                (None, None, 32)          8320      \n",
      "_________________________________________________________________\n",
      "lstm_3 (LSTM)                (None, 32)                8320      \n",
      "_________________________________________________________________\n",
      "dense_2 (Dense)              (None, 1)                 33        \n",
      "=================================================================\n",
      "Total params: 656,673\n",
      "Trainable params: 656,673\n",
      "Non-trainable params: 0\n",
      "_________________________________________________________________\n"
     ]
    }
   ],
   "source": [
    "d_model.summary()"
   ]
  },
  {
   "cell_type": "code",
   "execution_count": 23,
   "metadata": {},
   "outputs": [
    {
     "name": "stdout",
     "output_type": "stream",
     "text": [
      "Train on 25000 samples, validate on 25000 samples\n",
      "Epoch 1/3\n",
      "25000/25000 [==============================] - 258s 10ms/step - loss: 0.6953 - accuracy: 0.5033 - val_loss: 0.6931 - val_accuracy: 0.5000\n",
      "Epoch 2/3\n",
      "25000/25000 [==============================] - 264s 11ms/step - loss: 0.6911 - accuracy: 0.5207 - val_loss: 0.6638 - val_accuracy: 0.6416\n",
      "Epoch 3/3\n",
      "25000/25000 [==============================] - 261s 10ms/step - loss: 0.6518 - accuracy: 0.6000 - val_loss: 0.6526 - val_accuracy: 0.6023\n"
     ]
    }
   ],
   "source": [
    "history=d_model.fit(x_train, y_train,validation_data=(x_test,y_test),\n",
    "                    callbacks=[EarlyStopping(monitor='val_loss', patience=3, min_delta=0.0001)],\n",
    "                    epochs=epochs, batch_size=batch_size, shuffle=True)"
   ]
  },
  {
   "cell_type": "code",
   "execution_count": 24,
   "metadata": {},
   "outputs": [
    {
     "name": "stdout",
     "output_type": "stream",
     "text": [
      "25000/25000 [==============================] - 31s 1ms/step\n"
     ]
    }
   ],
   "source": [
    "d_loss, d_acc = d_model.evaluate(x_test, y_test)"
   ]
  },
  {
   "cell_type": "code",
   "execution_count": 25,
   "metadata": {},
   "outputs": [
    {
     "name": "stdout",
     "output_type": "stream",
     "text": [
      "Single layer model -- ACC 0.6596400141716003 -- LOSS 0.6300316198921203\n",
      "Double layer model -- ACC 0.6023200154304504 -- LOSS 0.6525506904411316\n"
     ]
    }
   ],
   "source": [
    "print('Single layer model -- ACC {} -- LOSS {}'.format(acc, loss))\n",
    "print('Double layer model -- ACC {} -- LOSS {}'.format(d_acc, d_loss))"
   ]
  },
  {
   "cell_type": "markdown",
   "metadata": {},
   "source": [
    "### 3.3.Plotting results\n",
    "\n",
    "from stacked layer"
   ]
  },
  {
   "cell_type": "code",
   "execution_count": 26,
   "metadata": {},
   "outputs": [],
   "source": [
    "import matplotlib.pyplot as plt\n",
    "plt.style.use('ggplot')\n",
    "\n",
    "def plot_history(history):\n",
    "    acc = history.history['accuracy']\n",
    "    val_acc = history.history['val_accuracy']\n",
    "    loss = history.history['loss']\n",
    "    val_loss = history.history['val_loss']\n",
    "    x = range(1, len(acc) + 1)\n",
    "\n",
    "    plt.figure(figsize=(12, 5))\n",
    "    plt.subplot(1, 2, 1)\n",
    "    plt.plot(x, acc, 'b', label='Training acc')\n",
    "    plt.plot(x, val_acc, 'r', label='Validation acc')\n",
    "    plt.title('Training and validation accuracy')\n",
    "    plt.legend()\n",
    "    plt.subplot(1, 2, 2)\n",
    "    plt.plot(x, loss, 'b', label='Training loss')\n",
    "    plt.plot(x, val_loss, 'r', label='Validation loss')\n",
    "    plt.title('Training and validation loss')\n",
    "    plt.legend()"
   ]
  },
  {
   "cell_type": "code",
   "execution_count": 27,
   "metadata": {},
   "outputs": [
    {
     "data": {
      "image/png": "[encoded data removed]",
      "text/plain": [
       "<Figure size 864x360 with 2 Axes>"
      ]
     },
     "metadata": {},
     "output_type": "display_data"
    }
   ],
   "source": [
    "plot_history(history)"
   ]
  },
  {
   "cell_type": "markdown",
   "metadata": {},
   "source": [
    "### 3.4.weights at each step of neural network "
   ]
  },
  {
   "cell_type": "code",
   "execution_count": 28,
   "metadata": {},
   "outputs": [
    {
     "data": {
      "image/png": "[encoded data removed]",
      "text/plain": [
       "<Figure size 432x288 with 1 Axes>"
      ]
     },
     "metadata": {},
     "output_type": "display_data"
    }
   ],
   "source": [
    "plt.hist(d_model.get_weights()[0].ravel(),100)\n",
    "plt.show()"
   ]
  },
  {
   "cell_type": "code",
   "execution_count": 29,
   "metadata": {},
   "outputs": [
    {
     "data": {
      "text/plain": [
       "[<tf.Variable 'embedding_2/embeddings:0' shape=(20000, 32) dtype=float32, numpy=\n",
       " array([[-0.03957539,  0.04867855, -0.00528903, ..., -0.07966207,\n",
       "         -0.02418102,  0.01989377],\n",
       "        [ 0.11441696, -0.18722023, -0.07758954, ..., -0.03676657,\n",
       "         -0.02198318, -0.01651671],\n",
       "        [-0.02501951,  0.0916939 ,  0.0589357 , ...,  0.06555435,\n",
       "         -0.07095285,  0.00728404],\n",
       "        ...,\n",
       "        [ 0.02482207,  0.03990304, -0.04681574, ..., -0.05974245,\n",
       "          0.02677533, -0.03966519],\n",
       "        [ 0.02948516, -0.01596995,  0.05836472, ...,  0.0127369 ,\n",
       "         -0.0062913 , -0.01226743],\n",
       "        [-0.03468117,  0.0161945 , -0.00872894, ...,  0.04947216,\n",
       "          0.00632345, -0.01442716]], dtype=float32)>,\n",
       " <tf.Variable 'lstm_2/kernel:0' shape=(32, 128) dtype=float32, numpy=\n",
       " array([[ 0.08745595, -0.33274463, -0.25328448, ..., -0.0954391 ,\n",
       "         -0.36018792, -0.34871098],\n",
       "        [ 0.24446997,  0.35304847,  0.61703163, ..., -0.27991885,\n",
       "          0.3491278 ,  0.5421137 ],\n",
       "        [ 0.03282177,  0.3704535 ,  0.483804  , ..., -0.2822894 ,\n",
       "          0.42038664,  0.58290285],\n",
       "        ...,\n",
       "        [-0.14123641, -0.5151092 , -0.21880859, ...,  0.26943588,\n",
       "         -1.002161  , -0.7747166 ],\n",
       "        [-0.19851902, -0.35921982, -0.3639783 , ...,  0.33684954,\n",
       "         -0.4249695 , -0.9179726 ],\n",
       "        [ 0.06428827,  0.03949993,  0.2159672 , ..., -0.09565804,\n",
       "         -0.05705604, -0.01518791]], dtype=float32)>,\n",
       " <tf.Variable 'lstm_2/recurrent_kernel:0' shape=(32, 128) dtype=float32, numpy=\n",
       " array([[ 0.05885103, -0.37037   , -0.1319577 , ..., -0.06064443,\n",
       "         -0.11699435,  0.12924893],\n",
       "        [ 0.16890763,  0.01800499, -0.11640036, ..., -0.05237168,\n",
       "         -0.15331775,  0.02880491],\n",
       "        [ 0.07885358, -0.17937592,  0.05270179, ..., -0.13466202,\n",
       "          0.10296798,  0.20709279],\n",
       "        ...,\n",
       "        [ 0.06560164,  0.01050404,  0.06417221, ..., -0.10122095,\n",
       "         -0.13288704,  0.17961556],\n",
       "        [-0.22369209,  0.01522343,  0.01501885, ..., -0.09735042,\n",
       "         -0.21627514, -0.14476496],\n",
       "        [ 0.04311934,  0.08796837,  0.07240181, ...,  0.04761742,\n",
       "          0.17758724,  0.01573156]], dtype=float32)>,\n",
       " <tf.Variable 'lstm_2/bias:0' shape=(128,) dtype=float32, numpy=\n",
       " array([ 1.03353597e-02, -1.10286027e-02, -6.44153962e-03, -5.29564284e-02,\n",
       "        -5.24923354e-02, -8.33378360e-02, -6.48178086e-02, -3.16023305e-02,\n",
       "        -8.85479972e-02, -2.11674906e-02,  4.65438552e-02, -2.25321632e-02,\n",
       "         2.59597301e-02, -5.57718389e-02, -4.65602875e-02, -1.01670712e-01,\n",
       "        -5.46080582e-02, -9.50856283e-02, -4.76531945e-02, -1.06788106e-01,\n",
       "        -1.24865480e-01, -2.33083978e-04, -6.25389293e-02, -1.12197045e-02,\n",
       "        -1.32115468e-01, -9.78308395e-02, -6.09322153e-02,  3.97954732e-02,\n",
       "        -2.95518804e-02, -1.00337230e-01, -5.87665699e-02, -5.90497889e-02,\n",
       "         1.04955518e+00,  9.96942937e-01,  1.04602420e+00,  9.77503121e-01,\n",
       "         1.03710520e+00,  9.43755567e-01,  8.89229596e-01,  1.00802732e+00,\n",
       "         1.12151110e+00,  1.06782424e+00,  1.06716740e+00,  9.56588387e-01,\n",
       "         1.03342342e+00,  9.80064392e-01,  9.82273877e-01,  8.91121805e-01,\n",
       "         9.85526741e-01,  9.33663547e-01,  9.93283153e-01,  1.06517541e+00,\n",
       "         8.92821133e-01,  1.06750727e+00,  9.51167345e-01,  9.55592513e-01,\n",
       "         9.29087460e-01,  9.76393223e-01,  9.62352157e-01,  1.12325382e+00,\n",
       "         1.13928509e+00,  9.73423958e-01,  9.85952616e-01,  1.08260310e+00,\n",
       "         1.40555218e-01,  1.23642594e-01,  3.86820734e-02, -1.13585452e-02,\n",
       "        -2.15507206e-02, -2.22634096e-02,  6.71633780e-02, -4.41318899e-02,\n",
       "         3.54664288e-02,  1.08265124e-01,  1.23281583e-01,  2.28635408e-03,\n",
       "         5.24969511e-02, -7.55047128e-02,  5.16280122e-02,  5.13079390e-02,\n",
       "         6.61990494e-02,  4.56609949e-02,  2.56519839e-02, -6.70470521e-02,\n",
       "         8.38403925e-02, -4.49933670e-02, -8.00972059e-02, -1.00152753e-02,\n",
       "        -2.09200233e-02, -9.83475801e-03, -3.59533802e-02, -3.24474126e-02,\n",
       "         1.74098536e-02,  2.27571074e-02, -4.52409312e-02,  8.34011007e-03,\n",
       "         5.36703272e-03,  2.67719366e-02,  2.64423359e-02, -1.14275388e-01,\n",
       "         7.71981943e-03, -1.43869996e-01, -2.35299319e-02, -4.11587842e-02,\n",
       "         3.61233577e-02, -1.04959548e-01,  1.31705990e-02,  5.76072896e-04,\n",
       "         2.31826790e-02, -1.06162980e-01,  2.32701581e-02, -9.76459235e-02,\n",
       "        -3.76537405e-02, -1.47765186e-02, -1.68469723e-03, -1.59587175e-01,\n",
       "        -1.15456328e-01,  2.89527886e-02, -1.13017134e-01, -2.53366604e-02,\n",
       "        -7.45324343e-02, -6.53498173e-02, -5.86601719e-02,  6.43352494e-02,\n",
       "         5.16774021e-02, -1.10434517e-01,  1.56142907e-02,  3.37592699e-02],\n",
       "       dtype=float32)>,\n",
       " <tf.Variable 'lstm_3/kernel:0' shape=(32, 128) dtype=float32, numpy=\n",
       " array([[-0.42107826, -0.08840398, -0.29114643, ..., -0.14812341,\n",
       "          0.1821678 , -0.12673089],\n",
       "        [-0.02247521,  0.09043892,  0.28675064, ..., -0.18362775,\n",
       "         -0.08044758, -0.13565002],\n",
       "        [-0.01289267, -0.0301381 , -0.10322237, ..., -0.1089154 ,\n",
       "         -0.14257255,  0.2794019 ],\n",
       "        ...,\n",
       "        [-0.18899216,  0.17697026, -0.06337201, ...,  0.1077631 ,\n",
       "          0.18009345,  0.23420526],\n",
       "        [ 0.07347584, -0.05798869,  0.09585845, ...,  0.28522128,\n",
       "          0.11613601,  0.05077255],\n",
       "        [-0.07265795,  0.04281376,  0.06287015, ..., -0.21942608,\n",
       "         -0.30551103,  0.16320673]], dtype=float32)>,\n",
       " <tf.Variable 'lstm_3/recurrent_kernel:0' shape=(32, 128) dtype=float32, numpy=\n",
       " array([[ 0.02209317, -0.04906135, -0.2395435 , ...,  0.10893366,\n",
       "         -0.03729212, -0.22687894],\n",
       "        [ 0.08100367, -0.07495176,  0.43244514, ..., -0.09664518,\n",
       "          0.06741617,  0.06565394],\n",
       "        [-0.06330217, -0.0318618 , -0.2394257 , ..., -0.06565033,\n",
       "         -0.1393548 ,  0.01382157],\n",
       "        ...,\n",
       "        [-0.12973863, -0.03810729, -0.20019764, ...,  0.04547727,\n",
       "         -0.04089075,  0.01920853],\n",
       "        [ 0.2626438 , -0.07161339, -0.20889367, ..., -0.05487175,\n",
       "         -0.06895183,  0.03659102],\n",
       "        [-0.06017606, -0.00338662, -0.25757122, ..., -0.06860294,\n",
       "         -0.19971228, -0.07221747]], dtype=float32)>,\n",
       " <tf.Variable 'lstm_3/bias:0' shape=(128,) dtype=float32, numpy=\n",
       " array([-2.75522824e-02, -1.92529440e-01, -2.09544972e-01,  2.50037797e-02,\n",
       "        -6.31066561e-02, -7.73272142e-02,  2.35778522e-02, -6.18728660e-02,\n",
       "        -2.31046453e-02, -4.11471277e-02,  5.59715256e-02, -1.61379352e-02,\n",
       "        -6.13328852e-02,  2.57306527e-02,  2.78039579e-03, -4.32569422e-02,\n",
       "        -5.66745289e-02, -1.28983989e-01, -7.31039047e-02,  5.48319099e-03,\n",
       "        -2.72983938e-01, -1.08126678e-01,  4.11861530e-03,  8.32587555e-02,\n",
       "        -1.73754588e-01, -1.90773811e-02, -3.88268493e-02, -1.75201610e-01,\n",
       "        -9.82211977e-02, -8.26246217e-02, -1.65705103e-02, -7.53315613e-02,\n",
       "         1.15960574e+00,  7.86269128e-01,  1.06639361e+00,  1.11514950e+00,\n",
       "         9.53183293e-01,  1.19691348e+00,  1.06053030e+00,  9.32337761e-01,\n",
       "         9.99537885e-01,  9.94758189e-01,  1.12920511e+00,  9.52715695e-01,\n",
       "         1.03067553e+00,  1.20358133e+00,  1.03502595e+00,  1.01866674e+00,\n",
       "         1.08784509e+00,  8.74522746e-01,  1.26765656e+00,  1.08136797e+00,\n",
       "         7.76256621e-01,  1.01422954e+00,  1.01964116e+00,  1.08274794e+00,\n",
       "         8.18164051e-01,  1.19268072e+00,  1.19789076e+00,  8.15391123e-01,\n",
       "         9.43472803e-01,  1.04239881e+00,  1.33578658e+00,  9.76594925e-01,\n",
       "         6.94123358e-02, -6.53096735e-02,  5.98422252e-02, -7.96871781e-02,\n",
       "        -1.70316864e-02, -6.82861954e-02, -8.86822194e-02,  6.92989975e-02,\n",
       "         2.96913963e-02,  4.10178304e-02, -4.39737253e-02,  7.65834749e-02,\n",
       "        -7.58349895e-02, -1.97100744e-01, -1.05516970e-01, -4.14126925e-03,\n",
       "         8.90653655e-02, -2.45437324e-02, -5.00595830e-02, -4.48799208e-02,\n",
       "        -1.70279332e-02,  1.87559947e-02,  6.95253490e-03,  7.78169855e-02,\n",
       "         1.60992425e-02,  2.73683108e-02, -6.40030205e-02, -1.12814689e-03,\n",
       "        -9.52992961e-02,  4.05689031e-02, -3.42290252e-02,  9.07448009e-02,\n",
       "         3.29207033e-02, -2.60938108e-01, -6.71682209e-02, -1.98383033e-02,\n",
       "        -8.85782987e-02,  7.27669597e-02, -7.36966804e-02, -8.89681950e-02,\n",
       "        -1.49150714e-01, -4.82668839e-02,  1.03249416e-01, -3.68000334e-03,\n",
       "        -5.46925105e-02, -2.42426340e-02, -8.50463868e-04,  3.64242941e-02,\n",
       "         4.63344529e-02, -1.91774189e-01, -1.14470040e-02, -2.99645513e-02,\n",
       "        -3.00025880e-01, -4.00135629e-02,  7.48637766e-02,  3.35580781e-02,\n",
       "        -2.52165586e-01,  5.45122102e-02,  1.90434437e-02, -2.48210371e-01,\n",
       "        -1.56181082e-01, -4.90771979e-02, -2.82355975e-02, -1.20794840e-01],\n",
       "       dtype=float32)>,\n",
       " <tf.Variable 'dense_2/kernel:0' shape=(32, 1) dtype=float32, numpy=\n",
       " array([[ 0.27625033],\n",
       "        [ 0.04462394],\n",
       "        [-0.34326184],\n",
       "        [-0.24032938],\n",
       "        [-0.21525364],\n",
       "        [-0.09421964],\n",
       "        [ 0.07831343],\n",
       "        [-0.12544782],\n",
       "        [-0.26730907],\n",
       "        [ 0.07427832],\n",
       "        [-0.00903923],\n",
       "        [-0.12319392],\n",
       "        [ 0.26990253],\n",
       "        [-0.07515626],\n",
       "        [-0.13940743],\n",
       "        [ 0.14040098],\n",
       "        [ 0.4049586 ],\n",
       "        [ 0.01317547],\n",
       "        [ 0.34636262],\n",
       "        [-0.4538362 ],\n",
       "        [ 0.05549705],\n",
       "        [ 0.09907454],\n",
       "        [-0.209793  ],\n",
       "        [ 0.1963178 ],\n",
       "        [ 0.00364862],\n",
       "        [-0.04006462],\n",
       "        [ 0.31442395],\n",
       "        [ 0.03267967],\n",
       "        [-0.16123785],\n",
       "        [ 0.33541936],\n",
       "        [ 0.27540553],\n",
       "        [ 0.00374326]], dtype=float32)>,\n",
       " <tf.Variable 'dense_2/bias:0' shape=(1,) dtype=float32, numpy=array([0.07024422], dtype=float32)>]"
      ]
     },
     "execution_count": 29,
     "metadata": {},
     "output_type": "execute_result"
    }
   ],
   "source": [
    "d_model.weights"
   ]
  }
 ],
 "metadata": {
  "kernelspec": {
   "display_name": "Python 3.7 (tensorflow)",
   "language": "python",
   "name": "tensorflow"
  },
  "language_info": {
   "codemirror_mode": {
    "name": "ipython",
    "version": 3
   },
   "file_extension": ".py",
   "mimetype": "text/x-python",
   "name": "python",
   "nbconvert_exporter": "python",
   "pygments_lexer": "ipython3",
   "version": "3.7.7"
  }
 },
 "nbformat": 4,
 "nbformat_minor": 4
}
