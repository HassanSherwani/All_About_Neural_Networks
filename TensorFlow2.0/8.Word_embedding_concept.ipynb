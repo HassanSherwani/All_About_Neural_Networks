{
 "cells": [
  {
   "cell_type": "markdown",
   "metadata": {},
   "source": [
    "# Problem\n",
    "\n",
    "- To predict what kind of contraceptive measurements are taken \n",
    "- We shall use neural network to solve this classification problem."
   ]
  },
  {
   "cell_type": "markdown",
   "metadata": {},
   "source": [
    "# 1)- Import Key Modules"
   ]
  },
  {
   "cell_type": "code",
   "execution_count": 1,
   "metadata": {},
   "outputs": [],
   "source": [
    "# support both Python 2 and Python 3 with minimal overhead.\n",
    "from __future__ import absolute_import, division, print_function\n",
    "\n",
    "# I am an engineer. I care only about error not warning. So, let's be maverick and ignore warnings.\n",
    "import warnings\n",
    "warnings.filterwarnings('ignore')"
   ]
  },
  {
   "cell_type": "code",
   "execution_count": 2,
   "metadata": {},
   "outputs": [],
   "source": [
    "##tensorflow >2.0\n",
    "from tensorflow.keras.preprocessing.text import one_hot\n",
    "from tensorflow.keras.layers import Embedding\n",
    "from tensorflow.keras.preprocessing.sequence import pad_sequences\n",
    "from tensorflow.keras.models import Sequential\n",
    "import numpy as np"
   ]
  },
  {
   "cell_type": "markdown",
   "metadata": {},
   "source": [
    "# 2-Example Data"
   ]
  },
  {
   "cell_type": "code",
   "execution_count": 3,
   "metadata": {},
   "outputs": [],
   "source": [
    "sent=[  'the glass of milk',\n",
    "     'the glass of juice',\n",
    "     'the cup of tea',\n",
    "    'I am a good boy',\n",
    "     'I am a good developer',\n",
    "     'understand the meaning of words',\n",
    "     'your videos are good',]"
   ]
  },
  {
   "cell_type": "markdown",
   "metadata": {},
   "source": [
    "# 3-Vectorization"
   ]
  },
  {
   "cell_type": "code",
   "execution_count": 4,
   "metadata": {},
   "outputs": [],
   "source": [
    "### Vocabulary size\n",
    "voc_size=10000"
   ]
  },
  {
   "cell_type": "markdown",
   "metadata": {},
   "source": [
    "### 3.a.One Hot Representation"
   ]
  },
  {
   "cell_type": "code",
   "execution_count": 5,
   "metadata": {},
   "outputs": [
    {
     "name": "stdout",
     "output_type": "stream",
     "text": [
      "[[3973, 2748, 3351, 8365], [3973, 2748, 3351, 9198], [3973, 5632, 3351, 7310], [7859, 4168, 7526, 615, 1186], [7859, 4168, 7526, 615, 3968], [6238, 3973, 2043, 3351, 9500], [5382, 7964, 8514, 615]]\n"
     ]
    }
   ],
   "source": [
    "onehot_repr=[one_hot(words,voc_size)for words in sent] \n",
    "print(onehot_repr)"
   ]
  },
  {
   "cell_type": "markdown",
   "metadata": {},
   "source": [
    "We can check from block 3 if words and numbers are matched"
   ]
  },
  {
   "cell_type": "markdown",
   "metadata": {},
   "source": [
    "### 3.b.Word Embedding Represntation"
   ]
  },
  {
   "cell_type": "code",
   "execution_count": 6,
   "metadata": {},
   "outputs": [
    {
     "name": "stdout",
     "output_type": "stream",
     "text": [
      "[[   0    0    0    0 3973 2748 3351 8365]\n",
      " [   0    0    0    0 3973 2748 3351 9198]\n",
      " [   0    0    0    0 3973 5632 3351 7310]\n",
      " [   0    0    0 7859 4168 7526  615 1186]\n",
      " [   0    0    0 7859 4168 7526  615 3968]\n",
      " [   0    0    0 6238 3973 2043 3351 9500]\n",
      " [   0    0    0    0 5382 7964 8514  615]]\n"
     ]
    }
   ],
   "source": [
    "sent_length=8 # this is what we write as input_dim\n",
    "embedded_docs=pad_sequences(onehot_repr,padding='pre',maxlen=sent_length)\n",
    "print(embedded_docs)"
   ]
  },
  {
   "cell_type": "code",
   "execution_count": 7,
   "metadata": {},
   "outputs": [],
   "source": [
    "dim=10 # for embedding layer"
   ]
  },
  {
   "cell_type": "code",
   "execution_count": 8,
   "metadata": {},
   "outputs": [],
   "source": [
    "model=Sequential()\n",
    "model.add(Embedding(voc_size,10,input_length=sent_length)) # voc_size=10k, sent_len=8, 10 is dim\n",
    "model.compile('adam','mse')"
   ]
  },
  {
   "cell_type": "code",
   "execution_count": 9,
   "metadata": {},
   "outputs": [
    {
     "name": "stdout",
     "output_type": "stream",
     "text": [
      "Model: \"sequential\"\n",
      "_________________________________________________________________\n",
      "Layer (type)                 Output Shape              Param #   \n",
      "=================================================================\n",
      "embedding (Embedding)        (None, 8, 10)             100000    \n",
      "=================================================================\n",
      "Total params: 100,000\n",
      "Trainable params: 100,000\n",
      "Non-trainable params: 0\n",
      "_________________________________________________________________\n"
     ]
    }
   ],
   "source": [
    "model.summary()"
   ]
  },
  {
   "cell_type": "markdown",
   "metadata": {},
   "source": [
    "##### understanding summary"
   ]
  },
  {
   "cell_type": "markdown",
   "metadata": {},
   "source": [
    "10 k(vocabulary size) multplied by 10 (embedding dimension size)"
   ]
  },
  {
   "cell_type": "code",
   "execution_count": 10,
   "metadata": {},
   "outputs": [
    {
     "data": {
      "text/plain": [
       "array([[-0.00763921, -0.04744663,  0.01065066,  0.02329439, -0.03941736,\n",
       "         0.00849686,  0.0017413 ,  0.02973366, -0.01896145,  0.02623491],\n",
       "       [-0.00763921, -0.04744663,  0.01065066,  0.02329439, -0.03941736,\n",
       "         0.00849686,  0.0017413 ,  0.02973366, -0.01896145,  0.02623491],\n",
       "       [-0.00763921, -0.04744663,  0.01065066,  0.02329439, -0.03941736,\n",
       "         0.00849686,  0.0017413 ,  0.02973366, -0.01896145,  0.02623491],\n",
       "       [-0.00763921, -0.04744663,  0.01065066,  0.02329439, -0.03941736,\n",
       "         0.00849686,  0.0017413 ,  0.02973366, -0.01896145,  0.02623491],\n",
       "       [-0.02333568, -0.04619519, -0.04012273,  0.04725363, -0.02203379,\n",
       "        -0.01118412, -0.01843702, -0.01922396,  0.04244978,  0.01568328],\n",
       "       [-0.03894145, -0.02323535,  0.0391776 ,  0.01057632,  0.03727842,\n",
       "        -0.00653756, -0.02123624, -0.01711967, -0.02055456,  0.02044381],\n",
       "       [-0.01296425,  0.02319032,  0.00405625, -0.04039415,  0.03479341,\n",
       "         0.02240255, -0.00627903,  0.04904303, -0.03478346, -0.02427337],\n",
       "       [ 0.0119185 , -0.01346827, -0.04068682,  0.03973157, -0.00616077,\n",
       "         0.0130179 , -0.03786733,  0.04726738, -0.02849425, -0.04487189]],\n",
       "      dtype=float32)"
      ]
     },
     "execution_count": 10,
     "metadata": {},
     "output_type": "execute_result"
    }
   ],
   "source": [
    "prob=model.predict(embedded_docs)\n",
    "prob[0]"
   ]
  },
  {
   "cell_type": "code",
   "execution_count": 11,
   "metadata": {},
   "outputs": [
    {
     "data": {
      "text/plain": [
       "(7, 8, 10)"
      ]
     },
     "execution_count": 11,
     "metadata": {},
     "output_type": "execute_result"
    }
   ],
   "source": [
    "prob.shape"
   ]
  },
  {
   "cell_type": "markdown",
   "metadata": {},
   "source": [
    "- 7 is amount of text documents we have i.e rows\n",
    "- 8 is sent_length i.e column or could be called features\n",
    "- 10 is embedding dimension i.e how many values presented as vector inside each sample."
   ]
  },
  {
   "cell_type": "code",
   "execution_count": 12,
   "metadata": {},
   "outputs": [
    {
     "data": {
      "text/plain": [
       "array([   0,    0,    0,    0, 3973, 2748, 3351, 8365])"
      ]
     },
     "execution_count": 12,
     "metadata": {},
     "output_type": "execute_result"
    }
   ],
   "source": [
    "embedded_docs[0]"
   ]
  },
  {
   "cell_type": "code",
   "execution_count": 13,
   "metadata": {},
   "outputs": [
    {
     "data": {
      "text/plain": [
       "(7, 8)"
      ]
     },
     "execution_count": 13,
     "metadata": {},
     "output_type": "execute_result"
    }
   ],
   "source": [
    "embedded_docs.shape"
   ]
  },
  {
   "cell_type": "markdown",
   "metadata": {},
   "source": [
    "here [-0.00763921, -0.04744663,  0.01065066,  0.02329439, -0.03941736,\n",
    "         0.00849686,  0.0017413 ,  0.02973366, -0.01896145,  0.02623491] is for \"0\""
   ]
  },
  {
   "cell_type": "markdown",
   "metadata": {},
   "source": [
    "[0.0119185 , -0.01346827, -0.04068682,  0.03973157, -0.00616077,\n",
    "         0.0130179 , -0.03786733,  0.04726738, -0.02849425, -0.04487189] is for 8365 ie. word milk"
   ]
  },
  {
   "cell_type": "markdown",
   "metadata": {},
   "source": [
    "# END OF NOTEBOOK"
   ]
  }
 ],
 "metadata": {
  "kernelspec": {
   "display_name": "Python 3.7 (tensorflow)",
   "language": "python",
   "name": "tensorflow"
  },
  "language_info": {
   "codemirror_mode": {
    "name": "ipython",
    "version": 3
   },
   "file_extension": ".py",
   "mimetype": "text/x-python",
   "name": "python",
   "nbconvert_exporter": "python",
   "pygments_lexer": "ipython3",
   "version": "3.7.7"
  }
 },
 "nbformat": 4,
 "nbformat_minor": 4
}
