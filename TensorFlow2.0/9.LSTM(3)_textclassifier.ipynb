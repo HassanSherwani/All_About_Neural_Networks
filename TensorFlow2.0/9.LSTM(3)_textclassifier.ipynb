{
 "cells": [
  {
   "cell_type": "markdown",
   "metadata": {},
   "source": [
    "# Implementing LSTM\n",
    "\n",
    "- Using Fake news classifier\n",
    "- based on previous codes, it has been modified for parameters"
   ]
  },
  {
   "cell_type": "markdown",
   "metadata": {},
   "source": [
    "# 1)- Import Key Modules"
   ]
  },
  {
   "cell_type": "code",
   "execution_count": 1,
   "metadata": {},
   "outputs": [],
   "source": [
    "# support both Python 2 and Python 3 with minimal overhead.\n",
    "from __future__ import absolute_import, division, print_function\n",
    "\n",
    "# I am an engineer. I care only about error not warning. So, let's be maverick and ignore warnings.\n",
    "import warnings\n",
    "warnings.filterwarnings('ignore')"
   ]
  },
  {
   "cell_type": "code",
   "execution_count": 2,
   "metadata": {},
   "outputs": [
    {
     "name": "stderr",
     "output_type": "stream",
     "text": [
      "[nltk_data] Downloading package stopwords to\n",
      "[nltk_data]     C:\\Users\\hassan.sherwani\\AppData\\Roaming\\nltk_data...\n",
      "[nltk_data]   Package stopwords is already up-to-date!\n"
     ]
    },
    {
     "data": {
      "text/plain": [
       "True"
      ]
     },
     "execution_count": 2,
     "metadata": {},
     "output_type": "execute_result"
    }
   ],
   "source": [
    "import pandas as pd\n",
    "import numpy as np\n",
    "from sklearn.model_selection import train_test_split\n",
    "from sklearn.metrics import accuracy_score\n",
    "from sklearn.metrics import confusion_matrix\n",
    "import nltk\n",
    "import re\n",
    "from nltk.corpus import stopwords\n",
    "from nltk.stem.porter import PorterStemmer\n",
    "ps = PorterStemmer()\n",
    "nltk.download('stopwords')"
   ]
  },
  {
   "cell_type": "code",
   "execution_count": 3,
   "metadata": {},
   "outputs": [
    {
     "name": "stderr",
     "output_type": "stream",
     "text": [
      "Using TensorFlow backend.\n"
     ]
    }
   ],
   "source": [
    "from keras.preprocessing.text import Tokenizer\n",
    "from keras.preprocessing.sequence import pad_sequences\n",
    "from keras.models import Sequential\n",
    "from keras.layers import Dense, Embedding, LSTM, SpatialDropout1D,Dropout\n",
    "from keras.utils.np_utils import to_categorical\n",
    "from keras.utils import np_utils"
   ]
  },
  {
   "cell_type": "code",
   "execution_count": 4,
   "metadata": {},
   "outputs": [
    {
     "name": "stdout",
     "output_type": "stream",
     "text": [
      "Populating the interactive namespace from numpy and matplotlib\n"
     ]
    }
   ],
   "source": [
    "# Visualization \n",
    "import matplotlib.pyplot as plt\n",
    "import seaborn as sns\n",
    "from pprint import pprint\n",
    "%matplotlib inline\n",
    "%pylab inline"
   ]
  },
  {
   "cell_type": "markdown",
   "metadata": {},
   "source": [
    "# 2- Loading and preparing data\n",
    "\n",
    "- Dataset: https://www.kaggle.com/c/fake-news/data#"
   ]
  },
  {
   "cell_type": "code",
   "execution_count": 5,
   "metadata": {},
   "outputs": [
    {
     "data": {
      "text/plain": [
       "(20800, 5)"
      ]
     },
     "execution_count": 5,
     "metadata": {},
     "output_type": "execute_result"
    }
   ],
   "source": [
    "df=pd.read_csv('train.csv')\n",
    "df.shape"
   ]
  },
  {
   "cell_type": "code",
   "execution_count": 6,
   "metadata": {},
   "outputs": [
    {
     "data": {
      "text/html": [
       "<div>\n",
       "<style scoped>\n",
       "    .dataframe tbody tr th:only-of-type {\n",
       "        vertical-align: middle;\n",
       "    }\n",
       "\n",
       "    .dataframe tbody tr th {\n",
       "        vertical-align: top;\n",
       "    }\n",
       "\n",
       "    .dataframe thead th {\n",
       "        text-align: right;\n",
       "    }\n",
       "</style>\n",
       "<table border=\"1\" class=\"dataframe\">\n",
       "  <thead>\n",
       "    <tr style=\"text-align: right;\">\n",
       "      <th></th>\n",
       "      <th>id</th>\n",
       "      <th>title</th>\n",
       "      <th>author</th>\n",
       "      <th>text</th>\n",
       "      <th>label</th>\n",
       "    </tr>\n",
       "  </thead>\n",
       "  <tbody>\n",
       "    <tr>\n",
       "      <th>0</th>\n",
       "      <td>0</td>\n",
       "      <td>House Dem Aide: We Didn’t Even See Comey’s Let...</td>\n",
       "      <td>Darrell Lucus</td>\n",
       "      <td>House Dem Aide: We Didn’t Even See Comey’s Let...</td>\n",
       "      <td>1</td>\n",
       "    </tr>\n",
       "    <tr>\n",
       "      <th>1</th>\n",
       "      <td>1</td>\n",
       "      <td>FLYNN: Hillary Clinton, Big Woman on Campus - ...</td>\n",
       "      <td>Daniel J. Flynn</td>\n",
       "      <td>Ever get the feeling your life circles the rou...</td>\n",
       "      <td>0</td>\n",
       "    </tr>\n",
       "    <tr>\n",
       "      <th>2</th>\n",
       "      <td>2</td>\n",
       "      <td>Why the Truth Might Get You Fired</td>\n",
       "      <td>Consortiumnews.com</td>\n",
       "      <td>Why the Truth Might Get You Fired October 29, ...</td>\n",
       "      <td>1</td>\n",
       "    </tr>\n",
       "  </tbody>\n",
       "</table>\n",
       "</div>"
      ],
      "text/plain": [
       "   id                                              title              author  \\\n",
       "0   0  House Dem Aide: We Didn’t Even See Comey’s Let...       Darrell Lucus   \n",
       "1   1  FLYNN: Hillary Clinton, Big Woman on Campus - ...     Daniel J. Flynn   \n",
       "2   2                  Why the Truth Might Get You Fired  Consortiumnews.com   \n",
       "\n",
       "                                                text  label  \n",
       "0  House Dem Aide: We Didn’t Even See Comey’s Let...      1  \n",
       "1  Ever get the feeling your life circles the rou...      0  \n",
       "2  Why the Truth Might Get You Fired October 29, ...      1  "
      ]
     },
     "execution_count": 6,
     "metadata": {},
     "output_type": "execute_result"
    }
   ],
   "source": [
    "df.head(3)"
   ]
  },
  {
   "cell_type": "code",
   "execution_count": 7,
   "metadata": {},
   "outputs": [
    {
     "data": {
      "text/plain": [
       "id           0\n",
       "title      558\n",
       "author    1957\n",
       "text        39\n",
       "label        0\n",
       "dtype: int64"
      ]
     },
     "execution_count": 7,
     "metadata": {},
     "output_type": "execute_result"
    }
   ],
   "source": [
    "df.isnull().sum()"
   ]
  },
  {
   "cell_type": "code",
   "execution_count": 8,
   "metadata": {},
   "outputs": [
    {
     "data": {
      "text/plain": [
       "(18285, 5)"
      ]
     },
     "execution_count": 8,
     "metadata": {},
     "output_type": "execute_result"
    }
   ],
   "source": [
    "###Drop Nan Values\n",
    "df=df.dropna()\n",
    "df.shape"
   ]
  },
  {
   "cell_type": "code",
   "execution_count": 9,
   "metadata": {},
   "outputs": [],
   "source": [
    "df.to_csv('ready_data.csv', index=0)"
   ]
  },
  {
   "cell_type": "code",
   "execution_count": 10,
   "metadata": {},
   "outputs": [
    {
     "data": {
      "text/plain": [
       "(18285, 5)"
      ]
     },
     "execution_count": 10,
     "metadata": {},
     "output_type": "execute_result"
    }
   ],
   "source": [
    "df=pd.read_csv('ready_data.csv')\n",
    "df.shape"
   ]
  },
  {
   "cell_type": "code",
   "execution_count": 11,
   "metadata": {},
   "outputs": [],
   "source": [
    "## Get the Independent Features\n",
    "\n",
    "X=df[['title']]"
   ]
  },
  {
   "cell_type": "code",
   "execution_count": 12,
   "metadata": {},
   "outputs": [],
   "source": [
    "## Get the Dependent features\n",
    "y=df['label']"
   ]
  },
  {
   "cell_type": "code",
   "execution_count": 13,
   "metadata": {},
   "outputs": [
    {
     "name": "stdout",
     "output_type": "stream",
     "text": [
      "(18285, 1)\n",
      "(18285,)\n"
     ]
    }
   ],
   "source": [
    "print(X.shape)\n",
    "print(y.shape)"
   ]
  },
  {
   "cell_type": "code",
   "execution_count": 14,
   "metadata": {},
   "outputs": [
    {
     "data": {
      "text/html": [
       "<div>\n",
       "<style scoped>\n",
       "    .dataframe tbody tr th:only-of-type {\n",
       "        vertical-align: middle;\n",
       "    }\n",
       "\n",
       "    .dataframe tbody tr th {\n",
       "        vertical-align: top;\n",
       "    }\n",
       "\n",
       "    .dataframe thead th {\n",
       "        text-align: right;\n",
       "    }\n",
       "</style>\n",
       "<table border=\"1\" class=\"dataframe\">\n",
       "  <thead>\n",
       "    <tr style=\"text-align: right;\">\n",
       "      <th></th>\n",
       "      <th>title</th>\n",
       "    </tr>\n",
       "  </thead>\n",
       "  <tbody>\n",
       "    <tr>\n",
       "      <th>0</th>\n",
       "      <td>House Dem Aide: We Didn’t Even See Comey’s Let...</td>\n",
       "    </tr>\n",
       "    <tr>\n",
       "      <th>1</th>\n",
       "      <td>FLYNN: Hillary Clinton, Big Woman on Campus - ...</td>\n",
       "    </tr>\n",
       "    <tr>\n",
       "      <th>2</th>\n",
       "      <td>Why the Truth Might Get You Fired</td>\n",
       "    </tr>\n",
       "    <tr>\n",
       "      <th>3</th>\n",
       "      <td>15 Civilians Killed In Single US Airstrike Hav...</td>\n",
       "    </tr>\n",
       "    <tr>\n",
       "      <th>4</th>\n",
       "      <td>Iranian woman jailed for fictional unpublished...</td>\n",
       "    </tr>\n",
       "  </tbody>\n",
       "</table>\n",
       "</div>"
      ],
      "text/plain": [
       "                                               title\n",
       "0  House Dem Aide: We Didn’t Even See Comey’s Let...\n",
       "1  FLYNN: Hillary Clinton, Big Woman on Campus - ...\n",
       "2                  Why the Truth Might Get You Fired\n",
       "3  15 Civilians Killed In Single US Airstrike Hav...\n",
       "4  Iranian woman jailed for fictional unpublished..."
      ]
     },
     "execution_count": 14,
     "metadata": {},
     "output_type": "execute_result"
    }
   ],
   "source": [
    "X.head()"
   ]
  },
  {
   "cell_type": "markdown",
   "metadata": {},
   "source": [
    "### checking target variable"
   ]
  },
  {
   "cell_type": "code",
   "execution_count": 15,
   "metadata": {},
   "outputs": [
    {
     "data": {
      "text/plain": [
       "0    10361\n",
       "1     7924\n",
       "Name: label, dtype: int64"
      ]
     },
     "execution_count": 15,
     "metadata": {},
     "output_type": "execute_result"
    }
   ],
   "source": [
    "df.label.value_counts()"
   ]
  },
  {
   "cell_type": "code",
   "execution_count": 16,
   "metadata": {},
   "outputs": [
    {
     "data": {
      "text/plain": [
       "<matplotlib.axes._subplots.AxesSubplot at 0x2ec11fae6c8>"
      ]
     },
     "execution_count": 16,
     "metadata": {},
     "output_type": "execute_result"
    },
    {
     "data": {
      "image/png": "[encoded data removed]",
      "text/plain": [
       "<Figure size 432x288 with 1 Axes>"
      ]
     },
     "metadata": {
      "needs_background": "light"
     },
     "output_type": "display_data"
    }
   ],
   "source": [
    "df.label.value_counts(normalize=True).plot(kind='bar')"
   ]
  },
  {
   "cell_type": "code",
   "execution_count": 17,
   "metadata": {},
   "outputs": [
    {
     "data": {
      "text/plain": [
       "0    0.566639\n",
       "1    0.433361\n",
       "Name: label, dtype: float64"
      ]
     },
     "execution_count": 17,
     "metadata": {},
     "output_type": "execute_result"
    }
   ],
   "source": [
    "df.label.value_counts(normalize=True)"
   ]
  },
  {
   "cell_type": "markdown",
   "metadata": {},
   "source": [
    "Classes of fake and non-fake news are pretty much balanced. Still, we shall use class weight to avoid any biased outcome"
   ]
  },
  {
   "cell_type": "markdown",
   "metadata": {},
   "source": [
    "### 2.1.Corpus building"
   ]
  },
  {
   "cell_type": "code",
   "execution_count": 18,
   "metadata": {},
   "outputs": [],
   "source": [
    "titles=X.copy()"
   ]
  },
  {
   "cell_type": "code",
   "execution_count": 19,
   "metadata": {},
   "outputs": [],
   "source": [
    "ps = PorterStemmer()\n",
    "corpus = []\n",
    "for i in range(0, len(titles)):\n",
    "    review = re.sub('[^a-zA-Z]', ' ', titles['title'][i])\n",
    "    review = review.lower()\n",
    "    review = review.split()\n",
    "    \n",
    "    review = [ps.stem(word) for word in review if not word in stopwords.words('english')]\n",
    "    review = ' '.join(review)\n",
    "    corpus.append(review)"
   ]
  },
  {
   "cell_type": "code",
   "execution_count": 20,
   "metadata": {},
   "outputs": [],
   "source": [
    "df['cleaned']= corpus"
   ]
  },
  {
   "cell_type": "code",
   "execution_count": 21,
   "metadata": {},
   "outputs": [
    {
     "data": {
      "text/plain": [
       "'hous dem aid even see comey letter jason chaffetz tweet'"
      ]
     },
     "execution_count": 21,
     "metadata": {},
     "output_type": "execute_result"
    }
   ],
   "source": [
    "df.cleaned[0]"
   ]
  },
  {
   "cell_type": "code",
   "execution_count": 22,
   "metadata": {},
   "outputs": [
    {
     "data": {
      "text/plain": [
       "'House Dem Aide: We Didn’t Even See Comey’s Letter Until Jason Chaffetz Tweeted It'"
      ]
     },
     "execution_count": 22,
     "metadata": {},
     "output_type": "execute_result"
    }
   ],
   "source": [
    "df.title[0]"
   ]
  },
  {
   "cell_type": "markdown",
   "metadata": {},
   "source": [
    "### 2.2.train-test Split"
   ]
  },
  {
   "cell_type": "code",
   "execution_count": 23,
   "metadata": {},
   "outputs": [],
   "source": [
    "y=df['label']\n",
    "X=df.cleaned"
   ]
  },
  {
   "cell_type": "code",
   "execution_count": 24,
   "metadata": {},
   "outputs": [
    {
     "name": "stdout",
     "output_type": "stream",
     "text": [
      "(18285,)\n",
      "(18285,)\n"
     ]
    }
   ],
   "source": [
    "print(X.shape)\n",
    "print(y.shape)"
   ]
  },
  {
   "cell_type": "code",
   "execution_count": 25,
   "metadata": {},
   "outputs": [],
   "source": [
    "from sklearn.model_selection import train_test_split\n",
    "y_train, y_test = train_test_split(y, random_state=42)"
   ]
  },
  {
   "cell_type": "markdown",
   "metadata": {},
   "source": [
    "### 2.3. Encoding target variable"
   ]
  },
  {
   "cell_type": "code",
   "execution_count": 26,
   "metadata": {},
   "outputs": [
    {
     "name": "stdout",
     "output_type": "stream",
     "text": [
      "(13713,)\n",
      "(4572,)\n"
     ]
    }
   ],
   "source": [
    "print(y_train.shape)\n",
    "print(y_test.shape)"
   ]
  },
  {
   "cell_type": "code",
   "execution_count": 27,
   "metadata": {},
   "outputs": [],
   "source": [
    "from keras.utils import np_utils\n",
    "def one_hot_encode_object_array(arr):\n",
    "    '''One hot encode a numpy array of objects (e.g. strings)'''\n",
    "    uniques, ids = np.unique(arr, return_inverse=True)\n",
    "    return np_utils.to_categorical(ids, len(uniques))\n",
    "\n",
    "y_train_ohe=one_hot_encode_object_array(y_train)\n",
    "y_test_ohe=one_hot_encode_object_array(y_test)"
   ]
  },
  {
   "cell_type": "code",
   "execution_count": 28,
   "metadata": {},
   "outputs": [
    {
     "name": "stdout",
     "output_type": "stream",
     "text": [
      "(13713, 2)\n",
      "(4572, 2)\n"
     ]
    }
   ],
   "source": [
    "print(y_train_ohe.shape)\n",
    "print(y_test_ohe.shape)"
   ]
  },
  {
   "cell_type": "markdown",
   "metadata": {},
   "source": [
    "### 2.4.Working with X variable"
   ]
  },
  {
   "cell_type": "markdown",
   "metadata": {},
   "source": [
    "- **Convert words to matrix** <br>\n",
    "We need to convert words into matrices. One way is shown through sklearn. Other way is given. We can always match the two\n",
    "\n",
    "- Vectorize text, by turning each text into either a sequence of integers or into a vector.We use Keras Tokenizer.\n",
    "- Limit the data set to the top 5,000 words i.e vocabulary size.\n",
    "- Set the max number of words in each sentence at 20."
   ]
  },
  {
   "cell_type": "markdown",
   "metadata": {},
   "source": [
    "##### 2.4.1-I started by fitting a tokenizer on my document as in here:"
   ]
  },
  {
   "cell_type": "code",
   "execution_count": 29,
   "metadata": {},
   "outputs": [
    {
     "name": "stdout",
     "output_type": "stream",
     "text": [
      "Average sequence length:  52.68170631665299\n"
     ]
    }
   ],
   "source": [
    "#checking average sentence length\n",
    "import numpy as np\n",
    "\n",
    "average_length = np.mean([len(x) for x in X])\n",
    "print(\"Average sequence length: \", average_length)"
   ]
  },
  {
   "cell_type": "code",
   "execution_count": 30,
   "metadata": {},
   "outputs": [],
   "source": [
    "# The maximum number of words to be used. (most frequent)\n",
    "voc_size = 5000 # it is size of our vocabulary\n",
    "# Max number of words in each sentence.\n",
    "sent_length = 50\n",
    "# We can play with this. It is dimension of embedding layer.\n",
    "embedding_vector_features = 40 \n",
    "\n",
    "tokenizer = Tokenizer(num_words=voc_size, filters='!\"#$%&()*+,-./:;<=>?@[\\]^_`{|}~', lower=True)\n",
    "tokenizer.fit_on_texts(X.values)"
   ]
  },
  {
   "cell_type": "code",
   "execution_count": 31,
   "metadata": {},
   "outputs": [
    {
     "name": "stdout",
     "output_type": "stream",
     "text": [
      "Found 13931 unique tokens.\n"
     ]
    }
   ],
   "source": [
    "word_index = tokenizer.word_index\n",
    "print('Found %s unique tokens.' % len(word_index))"
   ]
  },
  {
   "cell_type": "markdown",
   "metadata": {},
   "source": [
    "##### 2.4.2- I wanted to check if my data is fitted correctly so I converted into sequence"
   ]
  },
  {
   "cell_type": "code",
   "execution_count": 32,
   "metadata": {},
   "outputs": [],
   "source": [
    "# convert to sequence\n",
    "X_token = tokenizer.texts_to_sequences(X.values)"
   ]
  },
  {
   "cell_type": "code",
   "execution_count": 33,
   "metadata": {},
   "outputs": [
    {
     "data": {
      "text/html": [
       "<div>\n",
       "<style scoped>\n",
       "    .dataframe tbody tr th:only-of-type {\n",
       "        vertical-align: middle;\n",
       "    }\n",
       "\n",
       "    .dataframe tbody tr th {\n",
       "        vertical-align: top;\n",
       "    }\n",
       "\n",
       "    .dataframe thead th {\n",
       "        text-align: right;\n",
       "    }\n",
       "</style>\n",
       "<table border=\"1\" class=\"dataframe\">\n",
       "  <thead>\n",
       "    <tr style=\"text-align: right;\">\n",
       "      <th></th>\n",
       "      <th>0</th>\n",
       "      <th>1</th>\n",
       "      <th>2</th>\n",
       "      <th>3</th>\n",
       "      <th>4</th>\n",
       "      <th>5</th>\n",
       "      <th>6</th>\n",
       "      <th>7</th>\n",
       "      <th>8</th>\n",
       "      <th>9</th>\n",
       "      <th>...</th>\n",
       "      <th>35</th>\n",
       "      <th>36</th>\n",
       "      <th>37</th>\n",
       "      <th>38</th>\n",
       "      <th>39</th>\n",
       "      <th>40</th>\n",
       "      <th>41</th>\n",
       "      <th>42</th>\n",
       "      <th>43</th>\n",
       "      <th>44</th>\n",
       "    </tr>\n",
       "  </thead>\n",
       "  <tbody>\n",
       "    <tr>\n",
       "      <th>0</th>\n",
       "      <td>31.0</td>\n",
       "      <td>221.0</td>\n",
       "      <td>243.0</td>\n",
       "      <td>50.0</td>\n",
       "      <td>142.0</td>\n",
       "      <td>102.0</td>\n",
       "      <td>509.0</td>\n",
       "      <td>1775.0</td>\n",
       "      <td>3009.0</td>\n",
       "      <td>420.0</td>\n",
       "      <td>...</td>\n",
       "      <td>NaN</td>\n",
       "      <td>NaN</td>\n",
       "      <td>NaN</td>\n",
       "      <td>NaN</td>\n",
       "      <td>NaN</td>\n",
       "      <td>NaN</td>\n",
       "      <td>NaN</td>\n",
       "      <td>NaN</td>\n",
       "      <td>NaN</td>\n",
       "      <td>NaN</td>\n",
       "    </tr>\n",
       "    <tr>\n",
       "      <th>1</th>\n",
       "      <td>829.0</td>\n",
       "      <td>6.0</td>\n",
       "      <td>7.0</td>\n",
       "      <td>110.0</td>\n",
       "      <td>150.0</td>\n",
       "      <td>1090.0</td>\n",
       "      <td>5.0</td>\n",
       "      <td>NaN</td>\n",
       "      <td>NaN</td>\n",
       "      <td>NaN</td>\n",
       "      <td>...</td>\n",
       "      <td>NaN</td>\n",
       "      <td>NaN</td>\n",
       "      <td>NaN</td>\n",
       "      <td>NaN</td>\n",
       "      <td>NaN</td>\n",
       "      <td>NaN</td>\n",
       "      <td>NaN</td>\n",
       "      <td>NaN</td>\n",
       "      <td>NaN</td>\n",
       "      <td>NaN</td>\n",
       "    </tr>\n",
       "  </tbody>\n",
       "</table>\n",
       "<p>2 rows × 45 columns</p>\n",
       "</div>"
      ],
      "text/plain": [
       "      0      1      2      3      4       5      6       7       8      9   \\\n",
       "0   31.0  221.0  243.0   50.0  142.0   102.0  509.0  1775.0  3009.0  420.0   \n",
       "1  829.0    6.0    7.0  110.0  150.0  1090.0    5.0     NaN     NaN    NaN   \n",
       "\n",
       "   ...  35  36  37  38  39  40  41  42  43  44  \n",
       "0  ... NaN NaN NaN NaN NaN NaN NaN NaN NaN NaN  \n",
       "1  ... NaN NaN NaN NaN NaN NaN NaN NaN NaN NaN  \n",
       "\n",
       "[2 rows x 45 columns]"
      ]
     },
     "execution_count": 33,
     "metadata": {},
     "output_type": "execute_result"
    }
   ],
   "source": [
    "tokens_feature=pd.DataFrame(X_token)\n",
    "tokens_feature.head(2)"
   ]
  },
  {
   "cell_type": "code",
   "execution_count": 34,
   "metadata": {},
   "outputs": [
    {
     "data": {
      "text/plain": [
       "(18285, 45)"
      ]
     },
     "execution_count": 34,
     "metadata": {},
     "output_type": "execute_result"
    }
   ],
   "source": [
    "tokens_feature.shape"
   ]
  },
  {
   "cell_type": "markdown",
   "metadata": {},
   "source": [
    "##### check how it is seen in original data"
   ]
  },
  {
   "cell_type": "code",
   "execution_count": 35,
   "metadata": {},
   "outputs": [
    {
     "data": {
      "text/plain": [
       "'House Dem Aide: We Didn’t Even See Comey’s Letter Until Jason Chaffetz Tweeted It'"
      ]
     },
     "execution_count": 35,
     "metadata": {},
     "output_type": "execute_result"
    }
   ],
   "source": [
    "df.title[0]"
   ]
  },
  {
   "cell_type": "code",
   "execution_count": 36,
   "metadata": {},
   "outputs": [
    {
     "data": {
      "text/plain": [
       "'Why the Truth Might Get You Fired'"
      ]
     },
     "execution_count": 36,
     "metadata": {},
     "output_type": "execute_result"
    }
   ],
   "source": [
    "df.title[2]"
   ]
  },
  {
   "cell_type": "markdown",
   "metadata": {},
   "source": [
    "### 2.4.3.pad_sequence:To keep all vectors of same length, I will use pad_sequence"
   ]
  },
  {
   "cell_type": "code",
   "execution_count": 37,
   "metadata": {},
   "outputs": [
    {
     "data": {
      "text/plain": [
       "(18285, 50)"
      ]
     },
     "execution_count": 37,
     "metadata": {},
     "output_type": "execute_result"
    }
   ],
   "source": [
    "X_pd_sq = pad_sequences(X_token,maxlen=sent_length)\n",
    "X_pd_sq.shape"
   ]
  },
  {
   "cell_type": "code",
   "execution_count": 38,
   "metadata": {},
   "outputs": [
    {
     "data": {
      "text/html": [
       "<div>\n",
       "<style scoped>\n",
       "    .dataframe tbody tr th:only-of-type {\n",
       "        vertical-align: middle;\n",
       "    }\n",
       "\n",
       "    .dataframe tbody tr th {\n",
       "        vertical-align: top;\n",
       "    }\n",
       "\n",
       "    .dataframe thead th {\n",
       "        text-align: right;\n",
       "    }\n",
       "</style>\n",
       "<table border=\"1\" class=\"dataframe\">\n",
       "  <thead>\n",
       "    <tr style=\"text-align: right;\">\n",
       "      <th></th>\n",
       "      <th>0</th>\n",
       "      <th>1</th>\n",
       "      <th>2</th>\n",
       "      <th>3</th>\n",
       "      <th>4</th>\n",
       "      <th>5</th>\n",
       "      <th>6</th>\n",
       "      <th>7</th>\n",
       "      <th>8</th>\n",
       "      <th>9</th>\n",
       "      <th>...</th>\n",
       "      <th>40</th>\n",
       "      <th>41</th>\n",
       "      <th>42</th>\n",
       "      <th>43</th>\n",
       "      <th>44</th>\n",
       "      <th>45</th>\n",
       "      <th>46</th>\n",
       "      <th>47</th>\n",
       "      <th>48</th>\n",
       "      <th>49</th>\n",
       "    </tr>\n",
       "  </thead>\n",
       "  <tbody>\n",
       "    <tr>\n",
       "      <th>0</th>\n",
       "      <td>0</td>\n",
       "      <td>0</td>\n",
       "      <td>0</td>\n",
       "      <td>0</td>\n",
       "      <td>0</td>\n",
       "      <td>0</td>\n",
       "      <td>0</td>\n",
       "      <td>0</td>\n",
       "      <td>0</td>\n",
       "      <td>0</td>\n",
       "      <td>...</td>\n",
       "      <td>31</td>\n",
       "      <td>221</td>\n",
       "      <td>243</td>\n",
       "      <td>50</td>\n",
       "      <td>142</td>\n",
       "      <td>102</td>\n",
       "      <td>509</td>\n",
       "      <td>1775</td>\n",
       "      <td>3009</td>\n",
       "      <td>420</td>\n",
       "    </tr>\n",
       "    <tr>\n",
       "      <th>1</th>\n",
       "      <td>0</td>\n",
       "      <td>0</td>\n",
       "      <td>0</td>\n",
       "      <td>0</td>\n",
       "      <td>0</td>\n",
       "      <td>0</td>\n",
       "      <td>0</td>\n",
       "      <td>0</td>\n",
       "      <td>0</td>\n",
       "      <td>0</td>\n",
       "      <td>...</td>\n",
       "      <td>0</td>\n",
       "      <td>0</td>\n",
       "      <td>0</td>\n",
       "      <td>829</td>\n",
       "      <td>6</td>\n",
       "      <td>7</td>\n",
       "      <td>110</td>\n",
       "      <td>150</td>\n",
       "      <td>1090</td>\n",
       "      <td>5</td>\n",
       "    </tr>\n",
       "    <tr>\n",
       "      <th>2</th>\n",
       "      <td>0</td>\n",
       "      <td>0</td>\n",
       "      <td>0</td>\n",
       "      <td>0</td>\n",
       "      <td>0</td>\n",
       "      <td>0</td>\n",
       "      <td>0</td>\n",
       "      <td>0</td>\n",
       "      <td>0</td>\n",
       "      <td>0</td>\n",
       "      <td>...</td>\n",
       "      <td>0</td>\n",
       "      <td>0</td>\n",
       "      <td>0</td>\n",
       "      <td>0</td>\n",
       "      <td>0</td>\n",
       "      <td>0</td>\n",
       "      <td>335</td>\n",
       "      <td>856</td>\n",
       "      <td>33</td>\n",
       "      <td>83</td>\n",
       "    </tr>\n",
       "    <tr>\n",
       "      <th>3</th>\n",
       "      <td>0</td>\n",
       "      <td>0</td>\n",
       "      <td>0</td>\n",
       "      <td>0</td>\n",
       "      <td>0</td>\n",
       "      <td>0</td>\n",
       "      <td>0</td>\n",
       "      <td>0</td>\n",
       "      <td>0</td>\n",
       "      <td>0</td>\n",
       "      <td>...</td>\n",
       "      <td>0</td>\n",
       "      <td>0</td>\n",
       "      <td>0</td>\n",
       "      <td>0</td>\n",
       "      <td>567</td>\n",
       "      <td>34</td>\n",
       "      <td>1157</td>\n",
       "      <td>20</td>\n",
       "      <td>887</td>\n",
       "      <td>1682</td>\n",
       "    </tr>\n",
       "    <tr>\n",
       "      <th>4</th>\n",
       "      <td>0</td>\n",
       "      <td>0</td>\n",
       "      <td>0</td>\n",
       "      <td>0</td>\n",
       "      <td>0</td>\n",
       "      <td>0</td>\n",
       "      <td>0</td>\n",
       "      <td>0</td>\n",
       "      <td>0</td>\n",
       "      <td>0</td>\n",
       "      <td>...</td>\n",
       "      <td>0</td>\n",
       "      <td>0</td>\n",
       "      <td>1187</td>\n",
       "      <td>150</td>\n",
       "      <td>597</td>\n",
       "      <td>3305</td>\n",
       "      <td>253</td>\n",
       "      <td>150</td>\n",
       "      <td>1459</td>\n",
       "      <td>135</td>\n",
       "    </tr>\n",
       "  </tbody>\n",
       "</table>\n",
       "<p>5 rows × 50 columns</p>\n",
       "</div>"
      ],
      "text/plain": [
       "   0   1   2   3   4   5   6   7   8   9   ...  40   41    42   43   44    45  \\\n",
       "0   0   0   0   0   0   0   0   0   0   0  ...  31  221   243   50  142   102   \n",
       "1   0   0   0   0   0   0   0   0   0   0  ...   0    0     0  829    6     7   \n",
       "2   0   0   0   0   0   0   0   0   0   0  ...   0    0     0    0    0     0   \n",
       "3   0   0   0   0   0   0   0   0   0   0  ...   0    0     0    0  567    34   \n",
       "4   0   0   0   0   0   0   0   0   0   0  ...   0    0  1187  150  597  3305   \n",
       "\n",
       "     46    47    48    49  \n",
       "0   509  1775  3009   420  \n",
       "1   110   150  1090     5  \n",
       "2   335   856    33    83  \n",
       "3  1157    20   887  1682  \n",
       "4   253   150  1459   135  \n",
       "\n",
       "[5 rows x 50 columns]"
      ]
     },
     "execution_count": 38,
     "metadata": {},
     "output_type": "execute_result"
    }
   ],
   "source": [
    "pd.DataFrame(X_pd_sq).head()"
   ]
  },
  {
   "cell_type": "markdown",
   "metadata": {},
   "source": [
    "### 2.5. Train test split for X variable"
   ]
  },
  {
   "cell_type": "code",
   "execution_count": 39,
   "metadata": {},
   "outputs": [],
   "source": [
    "from sklearn.model_selection import train_test_split\n",
    "X_train, X_test, y_train, y_test = train_test_split(X_pd_sq,y,random_state=42)"
   ]
  },
  {
   "cell_type": "code",
   "execution_count": 40,
   "metadata": {},
   "outputs": [
    {
     "data": {
      "text/plain": [
       "((13713, 50), (4572, 50))"
      ]
     },
     "execution_count": 40,
     "metadata": {},
     "output_type": "execute_result"
    }
   ],
   "source": [
    "X_train.shape, X_test.shape"
   ]
  },
  {
   "cell_type": "markdown",
   "metadata": {},
   "source": [
    "### 2.6. Double check for target data label\n",
    "\n",
    "original vs one-hot coded"
   ]
  },
  {
   "cell_type": "code",
   "execution_count": 41,
   "metadata": {},
   "outputs": [
    {
     "name": "stdout",
     "output_type": "stream",
     "text": [
      "(13713, 2)\n",
      "(4572, 2)\n"
     ]
    }
   ],
   "source": [
    "print(y_train_ohe.shape)\n",
    "print(y_test_ohe.shape)"
   ]
  },
  {
   "cell_type": "code",
   "execution_count": 42,
   "metadata": {},
   "outputs": [
    {
     "data": {
      "text/plain": [
       "13867    0\n",
       "4127     0\n",
       "5265     0\n",
       "8360     0\n",
       "15699    1\n",
       "Name: label, dtype: int64"
      ]
     },
     "execution_count": 42,
     "metadata": {},
     "output_type": "execute_result"
    }
   ],
   "source": [
    "y_train[:5]"
   ]
  },
  {
   "cell_type": "code",
   "execution_count": 43,
   "metadata": {},
   "outputs": [
    {
     "data": {
      "text/plain": [
       "array([[1., 0.],\n",
       "       [1., 0.],\n",
       "       [1., 0.],\n",
       "       [1., 0.],\n",
       "       [0., 1.]], dtype=float32)"
      ]
     },
     "execution_count": 43,
     "metadata": {},
     "output_type": "execute_result"
    }
   ],
   "source": [
    "y_train_ohe[:5]"
   ]
  },
  {
   "cell_type": "code",
   "execution_count": 44,
   "metadata": {},
   "outputs": [
    {
     "data": {
      "text/plain": [
       "10363    1\n",
       "6134     0\n",
       "13100    0\n",
       "12643    0\n",
       "14556    1\n",
       "Name: label, dtype: int64"
      ]
     },
     "execution_count": 44,
     "metadata": {},
     "output_type": "execute_result"
    }
   ],
   "source": [
    "y_test[:5]"
   ]
  },
  {
   "cell_type": "code",
   "execution_count": 45,
   "metadata": {},
   "outputs": [
    {
     "data": {
      "text/plain": [
       "array([[0., 1.],\n",
       "       [1., 0.],\n",
       "       [1., 0.],\n",
       "       [1., 0.],\n",
       "       [0., 1.]], dtype=float32)"
      ]
     },
     "execution_count": 45,
     "metadata": {},
     "output_type": "execute_result"
    }
   ],
   "source": [
    "y_test_ohe[:5]"
   ]
  },
  {
   "cell_type": "code",
   "execution_count": 46,
   "metadata": {},
   "outputs": [
    {
     "data": {
      "text/plain": [
       "[0, 1]"
      ]
     },
     "execution_count": 46,
     "metadata": {},
     "output_type": "execute_result"
    }
   ],
   "source": [
    "unique_y_labels = list(y_train.value_counts().index)\n",
    "unique_y_labels"
   ]
  },
  {
   "cell_type": "code",
   "execution_count": 47,
   "metadata": {},
   "outputs": [
    {
     "data": {
      "text/plain": [
       "2"
      ]
     },
     "execution_count": 47,
     "metadata": {},
     "output_type": "execute_result"
    }
   ],
   "source": [
    "len(unique_y_labels)"
   ]
  },
  {
   "cell_type": "code",
   "execution_count": 48,
   "metadata": {},
   "outputs": [
    {
     "data": {
      "text/plain": [
       "50"
      ]
     },
     "execution_count": 48,
     "metadata": {},
     "output_type": "execute_result"
    }
   ],
   "source": [
    "X_pd_sq.shape[1]"
   ]
  },
  {
   "cell_type": "markdown",
   "metadata": {},
   "source": [
    "# 3-Build LSTM model\n",
    "The first layer is the embedded layer that uses 40 length vectors to represent each word.<br>\n",
    "SpatialDropout1D performs variational dropout in NLP models.<br>\n",
    "The next layer is the LSTM layer with 100 memory units.<br>\n",
    "The output layer must create 1 output values, one for fake-zero for non-fake class.<br>\n",
    "Activation function is softmax for binary classification.<br>\n",
    "Because it is a binary classification problem, binary_crossentropy is used as the loss function"
   ]
  },
  {
   "cell_type": "code",
   "execution_count": 49,
   "metadata": {},
   "outputs": [],
   "source": [
    "# The maximum number of words to be used. (most frequent/top words)\n",
    "voc_size = 5000 # this is same as size of our vocabulary\n",
    "# Max number of words in each sentence.\n",
    "sent_length=20\n",
    "# This is fixed.\n",
    "embedding_vector_features=40 # dimension of embedding layer\n",
    "epochs=10\n",
    "batch_size=32\n",
    "# for our padding seq\n",
    "input_length=X_pd_sq.shape[1] # same as sent_length\n",
    "uniq_y_label=len(unique_y_labels) # this will be dimension of our output layer i.e 2"
   ]
  },
  {
   "cell_type": "markdown",
   "metadata": {},
   "source": [
    "### 3.1. Defining basic model architecture"
   ]
  },
  {
   "cell_type": "code",
   "execution_count": 50,
   "metadata": {},
   "outputs": [],
   "source": [
    "model = Sequential()\n",
    "model.add(Embedding(voc_size, embedding_vector_features, input_length=X_pd_sq.shape[1]))\n",
    "model.add(SpatialDropout1D(0.2))\n",
    "model.add(LSTM(100, recurrent_dropout=0.2))\n",
    "model.add(Dropout(0.2))\n",
    "model.add(Dense(uniq_y_label, activation='softmax'))\n",
    "model.compile(loss='binary_crossentropy', optimizer='adam', metrics=['accuracy'])"
   ]
  },
  {
   "cell_type": "code",
   "execution_count": 51,
   "metadata": {},
   "outputs": [
    {
     "name": "stdout",
     "output_type": "stream",
     "text": [
      "Model: \"sequential_1\"\n",
      "_________________________________________________________________\n",
      "Layer (type)                 Output Shape              Param #   \n",
      "=================================================================\n",
      "embedding_1 (Embedding)      (None, 50, 40)            200000    \n",
      "_________________________________________________________________\n",
      "spatial_dropout1d_1 (Spatial (None, 50, 40)            0         \n",
      "_________________________________________________________________\n",
      "lstm_1 (LSTM)                (None, 100)               56400     \n",
      "_________________________________________________________________\n",
      "dropout_1 (Dropout)          (None, 100)               0         \n",
      "_________________________________________________________________\n",
      "dense_1 (Dense)              (None, 2)                 202       \n",
      "=================================================================\n",
      "Total params: 256,602\n",
      "Trainable params: 256,602\n",
      "Non-trainable params: 0\n",
      "_________________________________________________________________\n"
     ]
    }
   ],
   "source": [
    "model.summary()"
   ]
  },
  {
   "cell_type": "markdown",
   "metadata": {},
   "source": [
    "##### Summary params calculation\n",
    "https://datascience.stackexchange.com/questions/10615/number-of-parameters-in-an-lstm-model\n",
    "\n",
    "There are three steps:\n",
    "\n",
    "- For embedding layer: Dim of embedded layer(40) * vocab_size(5000)\n",
    "\n",
    "- For LSTM Layer: Now formula is #of params=g*[h(h+i)+biase]\n",
    "\n",
    "where g=lstm layer length i.e 1. For FFNS, RNN has 1 , LSTM has 4 and GRU has 3 layers<br>\n",
    "h=hidden layer size (number of neurons in hidden layer) i.e 100<br>\n",
    "i=Input size/dimension i.e embedding_vector_features that is coming as an input on lstm layer in step2 (40 is value)<br>\n",
    "biase= 100 of neurons for outpt of lstm layer<br>\n",
    "\n",
    "4*[100(100+40)+100]\n",
    "\n",
    "- For Dense (Output): lstm layer acting as input(100) * neurons in output layer(2) + biase(2 as there is only one neuron in output layer)"
   ]
  },
  {
   "cell_type": "markdown",
   "metadata": {},
   "source": [
    "### 3.2.Model Training"
   ]
  },
  {
   "cell_type": "code",
   "execution_count": 52,
   "metadata": {},
   "outputs": [],
   "source": [
    "from tensorflow.keras.layers import Dropout\n",
    "from keras.callbacks import EarlyStopping\n",
    "from sklearn.utils import class_weight\n",
    "\n",
    "class_weights = class_weight.compute_class_weight('balanced',\n",
    "                                                 np.unique(y_train),\n",
    "                                                 y_train)"
   ]
  },
  {
   "cell_type": "code",
   "execution_count": 55,
   "metadata": {},
   "outputs": [
    {
     "name": "stdout",
     "output_type": "stream",
     "text": [
      "Train on 13713 samples, validate on 4572 samples\n",
      "Epoch 1/10\n",
      "13713/13713 [==============================] - 12s 876us/step - loss: 0.2507 - accuracy: 0.8870 - val_loss: 0.1984 - val_accuracy: 0.9178\n",
      "Epoch 2/10\n",
      "13713/13713 [==============================] - 12s 840us/step - loss: 0.1207 - accuracy: 0.9539 - val_loss: 0.1921 - val_accuracy: 0.9213\n",
      "Epoch 3/10\n",
      "13713/13713 [==============================] - 12s 882us/step - loss: 0.0831 - accuracy: 0.9708 - val_loss: 0.2181 - val_accuracy: 0.9186\n",
      "Epoch 4/10\n",
      "13713/13713 [==============================] - 12s 877us/step - loss: 0.0607 - accuracy: 0.9794 - val_loss: 0.2645 - val_accuracy: 0.9140\n",
      "Epoch 5/10\n",
      "13713/13713 [==============================] - 12s 851us/step - loss: 0.0424 - accuracy: 0.9856 - val_loss: 0.2997 - val_accuracy: 0.9167\n"
     ]
    }
   ],
   "source": [
    "history=model.fit(X_train,y_train_ohe,validation_data=(X_test,y_test_ohe),\n",
    "                          class_weight=class_weights,epochs=epochs,batch_size=batch_size,\n",
    "                          callbacks=[EarlyStopping(monitor='val_loss', patience=3, \n",
    "                                                   min_delta=0.0001)])"
   ]
  },
  {
   "cell_type": "markdown",
   "metadata": {},
   "source": [
    "# 4- Model Evaluation"
   ]
  },
  {
   "cell_type": "markdown",
   "metadata": {},
   "source": [
    "### 4.1.Accuracy and loss scores"
   ]
  },
  {
   "cell_type": "code",
   "execution_count": 56,
   "metadata": {},
   "outputs": [
    {
     "name": "stdout",
     "output_type": "stream",
     "text": [
      "4572/4572 [==============================] - 1s 264us/step\n",
      "Test set\n",
      "  Loss: 0.300\n",
      "  Accuracy: 0.917\n"
     ]
    }
   ],
   "source": [
    "accr = model.evaluate(X_test,y_test_ohe)\n",
    "print('Test set\\n  Loss: {:0.3f}\\n  Accuracy: {:0.3f}'.format(accr[0],accr[1]))"
   ]
  },
  {
   "cell_type": "markdown",
   "metadata": {},
   "source": [
    "### 4.2.probabilities ditribution"
   ]
  },
  {
   "cell_type": "code",
   "execution_count": 57,
   "metadata": {},
   "outputs": [
    {
     "data": {
      "text/plain": [
       "array([[1.2852210e-03, 9.9871480e-01],\n",
       "       [9.9999225e-01, 7.7792429e-06],\n",
       "       [9.9676538e-01, 3.2346332e-03],\n",
       "       [9.8869205e-01, 1.1307931e-02],\n",
       "       [4.3335461e-04, 9.9956661e-01]], dtype=float32)"
      ]
     },
     "execution_count": 57,
     "metadata": {},
     "output_type": "execute_result"
    }
   ],
   "source": [
    "# predict probabilities for test set\n",
    "y_pred = model.predict(X_test)\n",
    "y_pred[:5]"
   ]
  },
  {
   "cell_type": "markdown",
   "metadata": {},
   "source": [
    "**This is probabilities of our output. We need to convert to crisp classes.**"
   ]
  },
  {
   "cell_type": "code",
   "execution_count": 58,
   "metadata": {},
   "outputs": [
    {
     "data": {
      "text/plain": [
       "array([1, 0, 0, 0, 1], dtype=int64)"
      ]
     },
     "execution_count": 58,
     "metadata": {},
     "output_type": "execute_result"
    }
   ],
   "source": [
    "# predict crisp classes for test set. Output will be 1-D\n",
    "yhat_classes = model.predict_classes(X_test, verbose=0)\n",
    "yhat_classes[:5]"
   ]
  },
  {
   "cell_type": "markdown",
   "metadata": {},
   "source": [
    "**compare with original**"
   ]
  },
  {
   "cell_type": "code",
   "execution_count": 59,
   "metadata": {},
   "outputs": [
    {
     "data": {
      "text/plain": [
       "array([[0., 1.],\n",
       "       [1., 0.],\n",
       "       [1., 0.],\n",
       "       [1., 0.],\n",
       "       [0., 1.]], dtype=float32)"
      ]
     },
     "execution_count": 59,
     "metadata": {},
     "output_type": "execute_result"
    }
   ],
   "source": [
    "y_test_ohe[:5]"
   ]
  },
  {
   "cell_type": "code",
   "execution_count": 60,
   "metadata": {},
   "outputs": [],
   "source": [
    "#Other way to do it\n",
    "y_test_class = np.argmax(y_test_ohe,axis=1)\n",
    "y_pred_class = np.argmax(y_pred,axis=1)"
   ]
  },
  {
   "cell_type": "code",
   "execution_count": 61,
   "metadata": {},
   "outputs": [
    {
     "data": {
      "text/plain": [
       "array([1, 0, 0, 0, 1], dtype=int64)"
      ]
     },
     "execution_count": 61,
     "metadata": {},
     "output_type": "execute_result"
    }
   ],
   "source": [
    "y_test_class[:5]"
   ]
  },
  {
   "cell_type": "code",
   "execution_count": 62,
   "metadata": {},
   "outputs": [
    {
     "data": {
      "text/plain": [
       "array([1, 0, 0, 0, 1], dtype=int64)"
      ]
     },
     "execution_count": 62,
     "metadata": {},
     "output_type": "execute_result"
    }
   ],
   "source": [
    "y_pred_class[:5]"
   ]
  },
  {
   "cell_type": "markdown",
   "metadata": {},
   "source": [
    "So all five example we chose were predicted correctly"
   ]
  },
  {
   "cell_type": "markdown",
   "metadata": {},
   "source": [
    "### 4.3.Classification Report"
   ]
  },
  {
   "cell_type": "code",
   "execution_count": 63,
   "metadata": {},
   "outputs": [
    {
     "name": "stdout",
     "output_type": "stream",
     "text": [
      "              precision    recall  f1-score   support\n",
      "\n",
      "           0       0.94      0.91      0.93      2600\n",
      "           1       0.89      0.92      0.90      1972\n",
      "\n",
      "    accuracy                           0.92      4572\n",
      "   macro avg       0.91      0.92      0.92      4572\n",
      "weighted avg       0.92      0.92      0.92      4572\n",
      "\n"
     ]
    }
   ],
   "source": [
    "from sklearn.metrics import classification_report,confusion_matrix\n",
    "print(classification_report(y_test_class,y_pred_class))"
   ]
  },
  {
   "cell_type": "markdown",
   "metadata": {},
   "source": [
    "### 4.4.Confusion Matrix"
   ]
  },
  {
   "cell_type": "code",
   "execution_count": 64,
   "metadata": {},
   "outputs": [
    {
     "name": "stdout",
     "output_type": "stream",
     "text": [
      "[[2378  222]\n",
      " [ 159 1813]]\n"
     ]
    }
   ],
   "source": [
    "print(confusion_matrix(y_test_class,y_pred_class))"
   ]
  },
  {
   "cell_type": "code",
   "execution_count": 65,
   "metadata": {},
   "outputs": [
    {
     "data": {
      "text/plain": [
       "<Figure size 864x864 with 0 Axes>"
      ]
     },
     "metadata": {},
     "output_type": "display_data"
    },
    {
     "data": {
      "image/png": "[encoded data removed]",
      "text/plain": [
       "<Figure size 432x288 with 2 Axes>"
      ]
     },
     "metadata": {
      "needs_background": "light"
     },
     "output_type": "display_data"
    }
   ],
   "source": [
    "import scikitplot as skplt\n",
    "plt.figure(figsize=(12,12))\n",
    "skplt.metrics.plot_confusion_matrix(y_test_class,y_pred_class)\n",
    "plt.show()"
   ]
  },
  {
   "cell_type": "markdown",
   "metadata": {},
   "source": [
    "### 4.5.Plotting Accuracy and loss scores"
   ]
  },
  {
   "cell_type": "code",
   "execution_count": 66,
   "metadata": {},
   "outputs": [
    {
     "name": "stdout",
     "output_type": "stream",
     "text": [
      "Training Accuracy: 0.9954\n",
      "Training Loss: 0.0181\n"
     ]
    }
   ],
   "source": [
    "# for training set\n",
    "loss, accuracy = model.evaluate(X_train, y_train_ohe, verbose=False)\n",
    "print(\"Training Accuracy: {:.4f}\".format(accuracy))\n",
    "print(\"Training Loss: {:.4f}\".format(loss))"
   ]
  },
  {
   "cell_type": "code",
   "execution_count": 67,
   "metadata": {},
   "outputs": [
    {
     "name": "stdout",
     "output_type": "stream",
     "text": [
      "Testing Accuracy:  0.9167\n",
      "Testing Loss:  0.2997\n"
     ]
    }
   ],
   "source": [
    "# For test set\n",
    "loss, accuracy = model.evaluate(X_test, y_test_ohe, verbose=False)\n",
    "print(\"Testing Accuracy:  {:.4f}\".format(accuracy))\n",
    "print(\"Testing Loss:  {:.4f}\".format(loss))"
   ]
  },
  {
   "cell_type": "code",
   "execution_count": 68,
   "metadata": {},
   "outputs": [],
   "source": [
    "import matplotlib.pyplot as plt\n",
    "plt.style.use('ggplot')\n",
    "\n",
    "def plot_history(history):\n",
    "    acc = history.history['accuracy']\n",
    "    val_acc = history.history['val_accuracy']\n",
    "    loss = history.history['loss']\n",
    "    val_loss = history.history['val_loss']\n",
    "    x = range(1, len(acc) + 1)\n",
    "\n",
    "    plt.figure(figsize=(12, 5))\n",
    "    plt.subplot(1, 2, 1)\n",
    "    plt.plot(x, acc, 'b', label='Training acc')\n",
    "    plt.plot(x, val_acc, 'r', label='Validation acc')\n",
    "    plt.title('Training and validation accuracy')\n",
    "    plt.legend()\n",
    "    plt.subplot(1, 2, 2)\n",
    "    plt.plot(x, loss, 'b', label='Training loss')\n",
    "    plt.plot(x, val_loss, 'r', label='Validation loss')\n",
    "    plt.title('Training and validation loss')\n",
    "    plt.legend()"
   ]
  },
  {
   "cell_type": "code",
   "execution_count": 69,
   "metadata": {},
   "outputs": [
    {
     "data": {
      "image/png": "[encoded data removed]",
      "text/plain": [
       "<Figure size 864x360 with 2 Axes>"
      ]
     },
     "metadata": {},
     "output_type": "display_data"
    }
   ],
   "source": [
    "plot_history(history)"
   ]
  },
  {
   "cell_type": "markdown",
   "metadata": {},
   "source": [
    "### 4.6.weights at each step of neural network at each time step"
   ]
  },
  {
   "cell_type": "code",
   "execution_count": 70,
   "metadata": {},
   "outputs": [
    {
     "data": {
      "image/png": "[encoded data removed]",
      "text/plain": [
       "<Figure size 432x288 with 1 Axes>"
      ]
     },
     "metadata": {},
     "output_type": "display_data"
    }
   ],
   "source": [
    "plt.hist(model.get_weights()[0].ravel(),100)\n",
    "plt.show()"
   ]
  },
  {
   "cell_type": "code",
   "execution_count": 71,
   "metadata": {},
   "outputs": [
    {
     "data": {
      "text/plain": [
       "[<tf.Variable 'embedding_1/embeddings:0' shape=(5000, 40) dtype=float32, numpy=\n",
       " array([[ 0.02685678,  0.0264054 , -0.00854015, ...,  0.06233399,\n",
       "         -0.03318567, -0.00651845],\n",
       "        [ 0.02767581,  0.02757649, -0.05430548, ...,  0.02912684,\n",
       "         -0.0400617 , -0.01366112],\n",
       "        [ 0.0066477 , -0.10161695,  0.03925545, ..., -0.04543609,\n",
       "          0.08596822, -0.05501283],\n",
       "        ...,\n",
       "        [-0.0114033 , -0.00593205, -0.0274486 , ...,  0.03189726,\n",
       "         -0.01599741, -0.05362242],\n",
       "        [ 0.00472634,  0.06259213,  0.0001425 , ...,  0.07499982,\n",
       "         -0.01840282,  0.05368747],\n",
       "        [-0.01221752, -0.01014705, -0.03743995, ..., -0.01540675,\n",
       "          0.01227286,  0.03622774]], dtype=float32)>,\n",
       " <tf.Variable 'lstm_1/kernel:0' shape=(40, 400) dtype=float32, numpy=\n",
       " array([[-0.07727136,  0.165171  ,  0.14297888, ..., -0.1243658 ,\n",
       "         -0.05707882,  0.07335225],\n",
       "        [-0.11191288,  0.12775658,  0.07915514, ..., -0.3135947 ,\n",
       "         -0.1030724 , -0.10044271],\n",
       "        [ 0.14424007, -0.06172795, -0.15951955, ...,  0.0926239 ,\n",
       "          0.15793224,  0.07878482],\n",
       "        ...,\n",
       "        [-0.29438883,  0.00702344, -0.09700647, ..., -0.28408134,\n",
       "         -0.17256863, -0.16230671],\n",
       "        [ 0.11600503,  0.0034327 , -0.09167784, ...,  0.20873447,\n",
       "          0.33511698,  0.26543966],\n",
       "        [-0.17691341,  0.21290031,  0.08146346, ..., -0.2068236 ,\n",
       "          0.06162818, -0.09076358]], dtype=float32)>,\n",
       " <tf.Variable 'lstm_1/recurrent_kernel:0' shape=(100, 400) dtype=float32, numpy=\n",
       " array([[ 0.06832259,  0.04560254,  0.01920734, ...,  0.03162665,\n",
       "          0.06887987, -0.02772145],\n",
       "        [-0.01094616, -0.01106624, -0.06456967, ...,  0.04000886,\n",
       "         -0.0036828 , -0.09598095],\n",
       "        [ 0.08102609,  0.0462602 ,  0.04431024, ...,  0.08572308,\n",
       "          0.04328832,  0.10560354],\n",
       "        ...,\n",
       "        [ 0.06792223, -0.01462735,  0.13285962, ..., -0.00425146,\n",
       "          0.01078076,  0.13352017],\n",
       "        [ 0.10207795, -0.02411908,  0.01938483, ...,  0.08381377,\n",
       "         -0.00947971,  0.0735691 ],\n",
       "        [-0.04964849, -0.12575038, -0.04339847, ..., -0.06677776,\n",
       "         -0.10058913,  0.05016376]], dtype=float32)>,\n",
       " <tf.Variable 'lstm_1/bias:0' shape=(400,) dtype=float32, numpy=\n",
       " array([-1.69325504e-03, -1.63754784e-02,  7.54466979e-03,  1.34159895e-02,\n",
       "         2.39604376e-02,  1.04370877e-01, -2.58513018e-02,  4.16164584e-02,\n",
       "         6.23908751e-02, -3.93434316e-02, -8.70159268e-03,  1.31058311e-02,\n",
       "         9.16685387e-02,  4.06148657e-02, -2.70220470e-02,  4.28260630e-03,\n",
       "         3.64447460e-02, -2.43392540e-03,  5.19716274e-03,  9.78993773e-02,\n",
       "        -5.08636348e-02,  1.91372703e-03, -3.58131155e-02,  1.02081031e-01,\n",
       "         1.15238219e-01,  9.14130942e-04,  9.34368968e-02,  8.52530003e-02,\n",
       "        -1.75829493e-02,  1.33643195e-01,  7.04234838e-02,  1.23121822e-02,\n",
       "         9.36098322e-02,  3.34356949e-02, -2.78762002e-02,  2.33503170e-02,\n",
       "         2.87783034e-02, -1.18693020e-02, -3.05695478e-02,  6.82672113e-02,\n",
       "         4.42187004e-02,  9.59737971e-02, -8.08724260e-04,  2.92223804e-02,\n",
       "         1.01269655e-01, -2.94164964e-03, -1.72362961e-02,  7.71901524e-03,\n",
       "         6.64195716e-02,  6.84430450e-03, -4.53848243e-02,  6.85935766e-02,\n",
       "         1.11138821e-02, -5.59062771e-02, -3.69517435e-03,  3.15947048e-02,\n",
       "         8.24145675e-02,  3.63643803e-02,  1.11235030e-01, -5.90391550e-03,\n",
       "         3.93925086e-02,  2.39440817e-02,  8.77521783e-02, -7.20925927e-02,\n",
       "         1.34797441e-02, -1.63261611e-02, -1.51525037e-02,  7.62165114e-02,\n",
       "         3.14590409e-02,  6.23979792e-02,  1.71941910e-02,  5.67587726e-02,\n",
       "         1.90482885e-02,  3.93219106e-02,  3.45914587e-02,  4.10123989e-02,\n",
       "         6.45731986e-02, -2.77521480e-02, -3.99479177e-03,  2.03187577e-02,\n",
       "         3.19695882e-02,  1.03851147e-01,  9.31883305e-02, -7.37377778e-02,\n",
       "         9.39623713e-02, -1.47777125e-02,  6.04160428e-02,  5.92217967e-02,\n",
       "         4.76591960e-02,  1.47874262e-02, -1.53306145e-02,  3.54535058e-02,\n",
       "         2.67534088e-02,  6.72825798e-02, -2.73826327e-02,  1.46758454e-02,\n",
       "         8.70378688e-02,  8.43034184e-04,  8.57847780e-02,  7.66402334e-02,\n",
       "         9.89701271e-01,  9.98335183e-01,  9.96420503e-01,  9.94042218e-01,\n",
       "         1.00392962e+00,  1.01657736e+00,  9.70499396e-01,  9.70435143e-01,\n",
       "         1.00515175e+00,  9.42556858e-01,  9.88653779e-01,  9.67428029e-01,\n",
       "         1.01103318e+00,  9.80349064e-01,  9.84423876e-01,  9.90179479e-01,\n",
       "         1.04260659e+00,  1.04422283e+00,  1.01271391e+00,  9.90404069e-01,\n",
       "         9.49470043e-01,  9.70192969e-01,  9.80475843e-01,  9.64606166e-01,\n",
       "         9.82221007e-01,  9.72345173e-01,  1.01082790e+00,  1.05084312e+00,\n",
       "         9.99879837e-01,  9.91532087e-01,  9.97820795e-01,  9.55653846e-01,\n",
       "         9.99082685e-01,  1.01113045e+00,  9.87912953e-01,  1.02713895e+00,\n",
       "         1.01314950e+00,  1.02468240e+00,  9.34830666e-01,  1.02878463e+00,\n",
       "         9.95980799e-01,  9.54221249e-01,  9.86583531e-01,  1.01152503e+00,\n",
       "         1.03141034e+00,  1.00960970e+00,  9.21175539e-01,  9.70025182e-01,\n",
       "         9.50992465e-01,  9.80080426e-01,  9.82749522e-01,  1.01157022e+00,\n",
       "         9.63821650e-01,  8.89477134e-01,  9.94453728e-01,  1.02297425e+00,\n",
       "         9.59702671e-01,  9.77958262e-01,  1.01870072e+00,  9.90567803e-01,\n",
       "         9.16487575e-01,  9.82675135e-01,  1.00126684e+00,  9.24979746e-01,\n",
       "         1.00294709e+00,  9.89184022e-01,  9.84050870e-01,  1.02431345e+00,\n",
       "         9.74097788e-01,  9.17706490e-01,  1.01144814e+00,  9.53896523e-01,\n",
       "         9.81096745e-01,  9.99198079e-01,  1.01852965e+00,  9.99289095e-01,\n",
       "         9.45519686e-01,  1.00337815e+00,  9.85493720e-01,  9.95891809e-01,\n",
       "         1.00884581e+00,  9.98089790e-01,  1.02615154e+00,  9.19344962e-01,\n",
       "         9.94369686e-01,  9.82109010e-01,  9.89830077e-01,  1.00995326e+00,\n",
       "         9.55350518e-01,  1.01088870e+00,  1.00990367e+00,  9.80202734e-01,\n",
       "         1.03116739e+00,  9.67326283e-01,  9.90217507e-01,  9.40076172e-01,\n",
       "         1.03932989e+00,  9.79769826e-01,  9.88418877e-01,  9.95642483e-01,\n",
       "         3.34203243e-02,  3.49227595e-03, -4.66386741e-03,  1.66609436e-02,\n",
       "         1.00835161e-02, -2.32672784e-02, -2.52315346e-02, -3.18463147e-02,\n",
       "        -3.20985541e-02, -1.47047651e-03, -1.41912522e-02,  1.45640094e-02,\n",
       "         3.78177352e-02, -1.99986771e-02,  3.47099975e-02,  1.88879836e-02,\n",
       "         7.11266557e-03, -5.46202622e-02, -1.76215582e-02,  9.65603977e-04,\n",
       "         1.10246260e-02,  8.14693887e-03,  8.89766216e-03,  6.34459918e-03,\n",
       "        -3.96479340e-03,  2.96010040e-02, -6.28383690e-03, -3.32702249e-02,\n",
       "        -2.22488702e-03, -2.65644072e-03,  1.11355679e-02,  3.77133712e-02,\n",
       "        -7.96776847e-04,  1.23632848e-02, -1.30233550e-02, -8.86572152e-03,\n",
       "        -5.31729637e-03, -3.66975851e-02,  1.53377103e-02, -5.01045678e-03,\n",
       "        -1.77914798e-02, -2.91248970e-03, -5.13138529e-03, -2.59294407e-03,\n",
       "         1.17154233e-02,  5.16217537e-02, -2.94076419e-03, -2.97906697e-02,\n",
       "         9.52317193e-03, -1.06377108e-02, -2.40859408e-02, -1.02648344e-02,\n",
       "        -3.28616835e-02, -2.36477163e-02,  2.65872460e-02,  2.14730799e-02,\n",
       "         1.60901286e-02, -2.05625854e-02,  4.52078283e-02,  9.90607496e-03,\n",
       "         7.83303659e-03, -2.93007470e-03,  4.25180830e-02,  2.46712267e-02,\n",
       "         1.21302614e-02, -1.56833697e-02,  2.81020766e-03, -5.61982486e-03,\n",
       "        -2.44610338e-03,  2.20303442e-02, -7.18429964e-03, -3.28644514e-02,\n",
       "        -1.85414236e-02,  1.08518433e-02,  3.28557263e-03,  1.07730571e-02,\n",
       "         5.28756296e-03,  2.79814079e-02,  5.70091233e-03,  8.82560667e-03,\n",
       "         3.32153169e-03,  2.94409283e-02, -1.94750503e-02, -9.29796696e-03,\n",
       "        -1.07917627e-02, -1.83604546e-02,  2.00773198e-02,  1.83548138e-03,\n",
       "         4.45957072e-02,  2.38820259e-03,  6.57754019e-02,  2.66442727e-02,\n",
       "         1.37140183e-02,  3.67388912e-02, -1.50929636e-03,  1.22185582e-02,\n",
       "         2.21706424e-02,  4.27877381e-02, -5.07085538e-03, -3.50107928e-03,\n",
       "        -8.82929750e-03, -1.19670304e-02,  1.07081393e-02,  8.80105607e-03,\n",
       "         1.89584997e-02,  9.37204808e-02, -3.11191026e-02,  4.88986820e-02,\n",
       "         4.91183512e-02, -5.05382381e-02, -1.01470705e-02,  1.74861792e-02,\n",
       "         8.25485885e-02,  2.54295953e-02, -3.31920497e-02, -3.14353174e-03,\n",
       "         2.61714421e-02,  1.19941123e-02,  2.51159607e-03,  8.52371454e-02,\n",
       "        -5.02735712e-02, -4.78296028e-03, -3.78547981e-02,  1.09506436e-01,\n",
       "         1.16629697e-01, -4.68982523e-03,  8.06703344e-02,  7.21639469e-02,\n",
       "        -1.24703404e-02,  1.18278168e-01,  5.46760969e-02,  1.47261424e-02,\n",
       "         8.55461508e-02,  3.09095345e-02, -2.94532832e-02,  1.01524591e-02,\n",
       "         2.19902657e-02, -1.39452452e-02, -3.36048342e-02,  5.95480651e-02,\n",
       "         3.76684368e-02,  8.99105072e-02,  3.11735529e-03,  1.85649544e-02,\n",
       "         9.18680429e-02, -1.27002141e-02, -9.66167171e-03,  6.36474742e-03,\n",
       "         6.07056692e-02,  1.55528681e-03, -5.00178337e-02,  6.27050474e-02,\n",
       "         4.89222631e-02, -5.62163554e-02, -1.67137000e-03,  2.49971822e-02,\n",
       "         8.02234635e-02,  2.96691582e-02,  1.15250841e-01, -6.19385904e-03,\n",
       "         2.08156500e-02,  1.78020746e-02,  8.08080211e-02, -7.30994865e-02,\n",
       "        -1.53179793e-03, -1.89108197e-02, -1.47993974e-02,  7.24553317e-02,\n",
       "         1.99190192e-02,  8.18451941e-02,  9.30930395e-03,  3.70059423e-02,\n",
       "         1.47290342e-02,  3.05086263e-02,  2.94445474e-02,  3.09624374e-02,\n",
       "         6.44026175e-02, -3.03501654e-02, -1.00394161e-02,  1.14614610e-02,\n",
       "         2.81317290e-02,  9.51756835e-02,  7.77352303e-02, -6.06118739e-02,\n",
       "         8.25747028e-02, -1.64601859e-02,  5.26472144e-02,  4.92822006e-02,\n",
       "         5.04992381e-02,  8.84001423e-03, -1.89102869e-02,  2.14107167e-02,\n",
       "         1.39013669e-02,  5.39367907e-02, -3.39130051e-02,  1.37617365e-02,\n",
       "         7.16678426e-02, -9.97561309e-03,  7.38898963e-02,  6.61904886e-02],\n",
       "       dtype=float32)>,\n",
       " <tf.Variable 'dense_1/kernel:0' shape=(100, 2) dtype=float32, numpy=\n",
       " array([[ 0.3418739 , -0.05991156],\n",
       "        [ 0.07854427,  0.24439874],\n",
       "        [ 0.18749931, -0.2788192 ],\n",
       "        [ 0.11764877, -0.39714718],\n",
       "        [-0.03454882, -0.33364683],\n",
       "        [-0.4142509 ,  0.33537024],\n",
       "        [-0.12436686, -0.02175375],\n",
       "        [ 0.1206241 , -0.4017492 ],\n",
       "        [-0.41934937,  0.3105219 ],\n",
       "        [-0.21206732,  0.07566408],\n",
       "        [-0.01812831,  0.30272695],\n",
       "        [ 0.01203387,  0.4111136 ],\n",
       "        [ 0.30453148, -0.4517297 ],\n",
       "        [-0.18133885,  0.40925223],\n",
       "        [ 0.11730806, -0.10539979],\n",
       "        [ 0.1726748 , -0.23302585],\n",
       "        [-0.19429831, -0.09494551],\n",
       "        [-0.342123  ,  0.33759943],\n",
       "        [ 0.08782429,  0.23675013],\n",
       "        [ 0.4017272 , -0.20162073],\n",
       "        [ 0.11289838,  0.27460045],\n",
       "        [ 0.3493235 , -0.21109328],\n",
       "        [-0.02777697, -0.1364913 ],\n",
       "        [-0.42865556,  0.10985037],\n",
       "        [ 0.28723288, -0.40404284],\n",
       "        [ 0.21065907, -0.40301526],\n",
       "        [ 0.48649868, -0.41017577],\n",
       "        [-0.22214775,  0.28673527],\n",
       "        [ 0.02866888, -0.24670768],\n",
       "        [ 0.39147174, -0.41628394],\n",
       "        [ 0.22750914, -0.44527766],\n",
       "        [ 0.00940694,  0.31007126],\n",
       "        [ 0.21492535, -0.43800908],\n",
       "        [ 0.05481395, -0.40815443],\n",
       "        [-0.05580162, -0.04585853],\n",
       "        [-0.18366085,  0.01558112],\n",
       "        [-0.22090787,  0.16817744],\n",
       "        [-0.1356034 ,  0.25946102],\n",
       "        [ 0.2464157 , -0.24481057],\n",
       "        [-0.4401675 ,  0.25055507],\n",
       "        [-0.30390072,  0.29037377],\n",
       "        [ 0.23032627, -0.46433857],\n",
       "        [ 0.22210088, -0.25505194],\n",
       "        [ 0.3024537 , -0.05696083],\n",
       "        [ 0.3960333 , -0.34867904],\n",
       "        [ 0.34248838, -0.19636913],\n",
       "        [ 0.26708937, -0.2058532 ],\n",
       "        [-0.3516103 ,  0.09643279],\n",
       "        [-0.40354598,  0.25308937],\n",
       "        [-0.07798213,  0.4287608 ],\n",
       "        [-0.01561344,  0.28043827],\n",
       "        [-0.45636642,  0.40527812],\n",
       "        [ 0.31887123, -0.11878251],\n",
       "        [-0.33970168,  0.0310908 ],\n",
       "        [-0.02799436,  0.2871228 ],\n",
       "        [-0.17752282,  0.08513688],\n",
       "        [ 0.46650356, -0.25706613],\n",
       "        [-0.26356998,  0.3667389 ],\n",
       "        [ 0.4574288 , -0.34002092],\n",
       "        [ 0.05574099, -0.03075617],\n",
       "        [ 0.36752507,  0.03024055],\n",
       "        [-0.3464343 ,  0.28459117],\n",
       "        [ 0.33156046, -0.38341266],\n",
       "        [ 0.04980076,  0.24330841],\n",
       "        [ 0.38865128, -0.25856885],\n",
       "        [-0.00694216,  0.36570334],\n",
       "        [-0.15299352,  0.19280055],\n",
       "        [-0.45696774,  0.10833148],\n",
       "        [-0.43296167,  0.17895272],\n",
       "        [-0.20886989,  0.37692982],\n",
       "        [ 0.28870302,  0.0056204 ],\n",
       "        [-0.31596974,  0.27621752],\n",
       "        [-0.14694215,  0.08953831],\n",
       "        [-0.3303701 ,  0.1834014 ],\n",
       "        [-0.30787057,  0.09956278],\n",
       "        [ 0.22597553, -0.415474  ],\n",
       "        [-0.27593914,  0.4333131 ],\n",
       "        [ 0.07088149,  0.02271875],\n",
       "        [-0.21167465,  0.01635978],\n",
       "        [ 0.3001909 , -0.07365156],\n",
       "        [-0.19107492,  0.32787287],\n",
       "        [ 0.42074323, -0.44600922],\n",
       "        [-0.45224217,  0.18243496],\n",
       "        [ 0.32575017, -0.00236215],\n",
       "        [-0.4655717 ,  0.3531924 ],\n",
       "        [-0.05318347,  0.3291174 ],\n",
       "        [-0.3214975 ,  0.26973075],\n",
       "        [ 0.46671185, -0.3305487 ],\n",
       "        [ 0.3087853 , -0.3874274 ],\n",
       "        [-0.07324071,  0.21272497],\n",
       "        [-0.13580866, -0.2972235 ],\n",
       "        [ 0.37396908, -0.19127983],\n",
       "        [ 0.17478691, -0.15120889],\n",
       "        [ 0.29753196, -0.39263105],\n",
       "        [ 0.02583451,  0.29689226],\n",
       "        [ 0.34316212, -0.11069773],\n",
       "        [ 0.1777052 , -0.2852254 ],\n",
       "        [ 0.05880701, -0.30934882],\n",
       "        [-0.3992543 ,  0.49410105],\n",
       "        [-0.45123976,  0.3983261 ]], dtype=float32)>,\n",
       " <tf.Variable 'dense_1/bias:0' shape=(2,) dtype=float32, numpy=array([-0.10167719,  0.10167638], dtype=float32)>]"
      ]
     },
     "execution_count": 71,
     "metadata": {},
     "output_type": "execute_result"
    }
   ],
   "source": [
    "model.weights"
   ]
  }
 ],
 "metadata": {
  "kernelspec": {
   "display_name": "Python 3.7 (tensorflow)",
   "language": "python",
   "name": "tensorflow"
  },
  "language_info": {
   "codemirror_mode": {
    "name": "ipython",
    "version": 3
   },
   "file_extension": ".py",
   "mimetype": "text/x-python",
   "name": "python",
   "nbconvert_exporter": "python",
   "pygments_lexer": "ipython3",
   "version": "3.7.7"
  }
 },
 "nbformat": 4,
 "nbformat_minor": 4
}
