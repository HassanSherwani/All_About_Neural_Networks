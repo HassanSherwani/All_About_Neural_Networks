{
 "cells": [
  {
   "cell_type": "markdown",
   "metadata": {},
   "source": [
    "# Quick start\n",
    "\n",
    "- To check data and model if it preditcs or not.\n",
    "- This is only for intent dataset\n",
    "- Model implemented in for 8640 data samples after filtering"
   ]
  },
  {
   "cell_type": "markdown",
   "metadata": {},
   "source": [
    "# 1)- Import Key Modules"
   ]
  },
  {
   "cell_type": "code",
   "execution_count": 1,
   "metadata": {},
   "outputs": [],
   "source": [
    "# support both Python 2 and Python 3 with minimal overhead.\n",
    "from __future__ import absolute_import, division, print_function\n",
    "\n",
    "# I am an engineer. I care only about error not warning. So, let's be maverick and ignore warnings.\n",
    "import warnings\n",
    "warnings.filterwarnings('ignore')"
   ]
  },
  {
   "cell_type": "code",
   "execution_count": 2,
   "metadata": {},
   "outputs": [],
   "source": [
    "import pickle\n",
    "import pandas as pd\n",
    "import numpy as np\n",
    "from nltk.stem.porter import PorterStemmer\n",
    "import re\n",
    "import string\n",
    "from sklearn.feature_extraction.text import CountVectorizer\n",
    "from sklearn.linear_model import LogisticRegression\n",
    "from sklearn.naive_bayes import MultinomialNB\n",
    "from sklearn.ensemble import RandomForestClassifier"
   ]
  },
  {
   "cell_type": "code",
   "execution_count": 3,
   "metadata": {},
   "outputs": [],
   "source": [
    "import logging\n",
    "import pandas as pd\n",
    "import numpy as np\n",
    "from numpy import random\n",
    "import gensim\n",
    "import nltk\n",
    "from sklearn.model_selection import train_test_split\n",
    "from sklearn.feature_extraction.text import CountVectorizer, TfidfVectorizer\n",
    "from sklearn.metrics import accuracy_score, confusion_matrix\n",
    "import matplotlib.pyplot as plt\n",
    "from nltk.corpus import stopwords\n",
    "import re\n",
    "from bs4 import BeautifulSoup"
   ]
  },
  {
   "cell_type": "code",
   "execution_count": 4,
   "metadata": {},
   "outputs": [
    {
     "name": "stderr",
     "output_type": "stream",
     "text": [
      "Using TensorFlow backend.\n"
     ]
    }
   ],
   "source": [
    "import itertools\n",
    "import os\n",
    "\n",
    "%matplotlib inline\n",
    "import matplotlib.pyplot as plt\n",
    "import numpy as np\n",
    "import pandas as pd\n",
    "import tensorflow as tf\n",
    "\n",
    "from sklearn.preprocessing import LabelBinarizer, LabelEncoder\n",
    "from sklearn.metrics import confusion_matrix\n",
    "\n",
    "from tensorflow import keras\n",
    "from keras.models import Sequential\n",
    "from keras.layers import Dense, Activation, Dropout\n",
    "from keras.preprocessing import text, sequence\n",
    "from keras import utils"
   ]
  },
  {
   "cell_type": "markdown",
   "metadata": {},
   "source": [
    "# 2)- Loading Data"
   ]
  },
  {
   "cell_type": "code",
   "execution_count": 5,
   "metadata": {},
   "outputs": [],
   "source": [
    "data=pd.read_pickle('file_clean_intent.pkl')"
   ]
  },
  {
   "cell_type": "code",
   "execution_count": 6,
   "metadata": {},
   "outputs": [
    {
     "data": {
      "text/plain": [
       "30"
      ]
     },
     "execution_count": 6,
     "metadata": {},
     "output_type": "execute_result"
    }
   ],
   "source": [
    "data.dep.nunique()"
   ]
  },
  {
   "cell_type": "code",
   "execution_count": 7,
   "metadata": {},
   "outputs": [],
   "source": [
    "counts=data['dep'].value_counts()\n",
    "df = data.loc[data['dep'].isin(counts.index[counts > 150])]"
   ]
  },
  {
   "cell_type": "code",
   "execution_count": 8,
   "metadata": {},
   "outputs": [
    {
     "name": "stdout",
     "output_type": "stream",
     "text": [
      "(9477, 4)\n",
      "(8640, 4)\n"
     ]
    }
   ],
   "source": [
    "print(data.shape)\n",
    "print(df.shape)"
   ]
  },
  {
   "cell_type": "code",
   "execution_count": 9,
   "metadata": {},
   "outputs": [
    {
     "data": {
      "text/plain": [
       "10"
      ]
     },
     "execution_count": 9,
     "metadata": {},
     "output_type": "execute_result"
    }
   ],
   "source": [
    "df.dep.nunique()"
   ]
  },
  {
   "cell_type": "code",
   "execution_count": 10,
   "metadata": {},
   "outputs": [],
   "source": [
    "myfeat=[\"Order management\",\"product complaints - products (Reklamation Produkte)\",\"Software/Webshop/App\",\n",
    "        \"Shipping issues\",\"Customer feedback\",\"ShareWithSaal\",\"Payment (Bezahlung)\",\n",
    "        \"product complaints - colours (Reklamation Farben)\",\"Product (Produkt)\",\"Marketing\"]"
   ]
  },
  {
   "cell_type": "markdown",
   "metadata": {},
   "source": [
    "### 2.1 Data Clean"
   ]
  },
  {
   "cell_type": "code",
   "execution_count": 11,
   "metadata": {},
   "outputs": [],
   "source": [
    "REPLACE_BY_SPACE_RE = re.compile('[/(){}\\[\\]\\|@,;]')\n",
    "BAD_SYMBOLS_RE = re.compile('[^0-9a-z #+_]')\n",
    "STOPWORDS = set(stopwords.words('english'))\n",
    "\n",
    "def clean_text(text):\n",
    "    \"\"\"\n",
    "        text: a string\n",
    "        \n",
    "        return: modified initial string\n",
    "    \"\"\"\n",
    "    text = BeautifulSoup(text, \"lxml\").text # HTML decoding\n",
    "    text = text.lower() # lowercase text\n",
    "    text = REPLACE_BY_SPACE_RE.sub(' ', text) # replace REPLACE_BY_SPACE_RE symbols by space in text\n",
    "    text = BAD_SYMBOLS_RE.sub('', text) # delete symbols which are in BAD_SYMBOLS_RE from text\n",
    "    text = ' '.join(word for word in text.split() if word not in STOPWORDS) # delete stopwors from text\n",
    "    return text\n",
    "    \n",
    "df['clean'] = df['firstmessage'].apply(clean_text)"
   ]
  },
  {
   "cell_type": "markdown",
   "metadata": {},
   "source": [
    "### 2.2.Train-Test"
   ]
  },
  {
   "cell_type": "code",
   "execution_count": 12,
   "metadata": {},
   "outputs": [],
   "source": [
    "train_size = int(len(df) * 0.70)\n",
    "train_posts = df[['clean'][:train_size]]\n",
    "train_tags = df[['dep'][:train_size]]\n",
    "\n",
    "test_posts = df[['clean'][train_size:]]\n",
    "test_tags = df[['dep'][train_size:]]"
   ]
  },
  {
   "cell_type": "code",
   "execution_count": 13,
   "metadata": {},
   "outputs": [
    {
     "name": "stdout",
     "output_type": "stream",
     "text": [
      "(8640, 1)\n"
     ]
    }
   ],
   "source": [
    "print(train_posts.shape)"
   ]
  },
  {
   "cell_type": "code",
   "execution_count": 14,
   "metadata": {},
   "outputs": [
    {
     "data": {
      "text/plain": [
       "pandas.core.frame.DataFrame"
      ]
     },
     "execution_count": 14,
     "metadata": {},
     "output_type": "execute_result"
    }
   ],
   "source": [
    "type(train_posts)"
   ]
  },
  {
   "cell_type": "code",
   "execution_count": 15,
   "metadata": {},
   "outputs": [
    {
     "data": {
      "text/html": [
       "<div>\n",
       "<style scoped>\n",
       "    .dataframe tbody tr th:only-of-type {\n",
       "        vertical-align: middle;\n",
       "    }\n",
       "\n",
       "    .dataframe tbody tr th {\n",
       "        vertical-align: top;\n",
       "    }\n",
       "\n",
       "    .dataframe thead th {\n",
       "        text-align: right;\n",
       "    }\n",
       "</style>\n",
       "<table border=\"1\" class=\"dataframe\">\n",
       "  <thead>\n",
       "    <tr style=\"text-align: right;\">\n",
       "      <th></th>\n",
       "      <th>clean</th>\n",
       "    </tr>\n",
       "  </thead>\n",
       "  <tbody>\n",
       "    <tr>\n",
       "      <th>0</th>\n",
       "      <td>helloi tried apply voucher order received mail...</td>\n",
       "    </tr>\n",
       "    <tr>\n",
       "      <th>1</th>\n",
       "      <td>hi tracking number please thank youkind regard...</td>\n",
       "    </tr>\n",
       "  </tbody>\n",
       "</table>\n",
       "</div>"
      ],
      "text/plain": [
       "                                               clean\n",
       "0  helloi tried apply voucher order received mail...\n",
       "1  hi tracking number please thank youkind regard..."
      ]
     },
     "execution_count": 15,
     "metadata": {},
     "output_type": "execute_result"
    }
   ],
   "source": [
    "train_posts.head(2)"
   ]
  },
  {
   "cell_type": "markdown",
   "metadata": {},
   "source": [
    "### 2.3.Vectorize"
   ]
  },
  {
   "cell_type": "code",
   "execution_count": 16,
   "metadata": {},
   "outputs": [],
   "source": [
    "from sklearn.feature_extraction.text import TfidfVectorizer, CountVectorizer\n",
    "tf_vectorizer = TfidfVectorizer(min_df=5,stop_words='english')\n",
    "tfidf_vec = tf_vectorizer.fit_transform(df.clean.values)\n",
    "labels=df.dep"
   ]
  },
  {
   "cell_type": "code",
   "execution_count": 17,
   "metadata": {},
   "outputs": [
    {
     "name": "stdout",
     "output_type": "stream",
     "text": [
      "<class 'scipy.sparse.csr.csr_matrix'>\n"
     ]
    }
   ],
   "source": [
    "print(type(tfidf_vec))"
   ]
  },
  {
   "cell_type": "code",
   "execution_count": 18,
   "metadata": {},
   "outputs": [
    {
     "data": {
      "text/plain": [
       "(8640, 7036)"
      ]
     },
     "execution_count": 18,
     "metadata": {},
     "output_type": "execute_result"
    }
   ],
   "source": [
    "tfidf_vec.shape"
   ]
  },
  {
   "cell_type": "code",
   "execution_count": 20,
   "metadata": {},
   "outputs": [
    {
     "data": {
      "text/html": [
       "<div>\n",
       "<style scoped>\n",
       "    .dataframe tbody tr th:only-of-type {\n",
       "        vertical-align: middle;\n",
       "    }\n",
       "\n",
       "    .dataframe tbody tr th {\n",
       "        vertical-align: top;\n",
       "    }\n",
       "\n",
       "    .dataframe thead th {\n",
       "        text-align: right;\n",
       "    }\n",
       "</style>\n",
       "<table border=\"1\" class=\"dataframe\">\n",
       "  <thead>\n",
       "    <tr style=\"text-align: right;\">\n",
       "      <th></th>\n",
       "      <th>00</th>\n",
       "      <th>000</th>\n",
       "      <th>0000</th>\n",
       "      <th>0001</th>\n",
       "      <th>01</th>\n",
       "      <th>02</th>\n",
       "      <th>03</th>\n",
       "      <th>04</th>\n",
       "      <th>0483</th>\n",
       "      <th>05</th>\n",
       "      <th>...</th>\n",
       "      <th>zvolil</th>\n",
       "      <th>zvolila</th>\n",
       "      <th>zvolit</th>\n",
       "      <th>zwart</th>\n",
       "      <th>zwizku</th>\n",
       "      <th>zwrot</th>\n",
       "      <th>zwrotn</th>\n",
       "      <th>zwrotu</th>\n",
       "      <th>zysk</th>\n",
       "      <th>zznam</th>\n",
       "    </tr>\n",
       "  </thead>\n",
       "  <tbody>\n",
       "    <tr>\n",
       "      <th>0</th>\n",
       "      <td>0.043012</td>\n",
       "      <td>0.0</td>\n",
       "      <td>0.000000</td>\n",
       "      <td>0.000000</td>\n",
       "      <td>0.0</td>\n",
       "      <td>0.0</td>\n",
       "      <td>0.0</td>\n",
       "      <td>0.0</td>\n",
       "      <td>0.0</td>\n",
       "      <td>0.0</td>\n",
       "      <td>...</td>\n",
       "      <td>0.0</td>\n",
       "      <td>0.0</td>\n",
       "      <td>0.0</td>\n",
       "      <td>0.0</td>\n",
       "      <td>0.0</td>\n",
       "      <td>0.0</td>\n",
       "      <td>0.0</td>\n",
       "      <td>0.0</td>\n",
       "      <td>0.0</td>\n",
       "      <td>0.0</td>\n",
       "    </tr>\n",
       "    <tr>\n",
       "      <th>1</th>\n",
       "      <td>0.000000</td>\n",
       "      <td>0.0</td>\n",
       "      <td>0.059614</td>\n",
       "      <td>0.059924</td>\n",
       "      <td>0.0</td>\n",
       "      <td>0.0</td>\n",
       "      <td>0.0</td>\n",
       "      <td>0.0</td>\n",
       "      <td>0.0</td>\n",
       "      <td>0.0</td>\n",
       "      <td>...</td>\n",
       "      <td>0.0</td>\n",
       "      <td>0.0</td>\n",
       "      <td>0.0</td>\n",
       "      <td>0.0</td>\n",
       "      <td>0.0</td>\n",
       "      <td>0.0</td>\n",
       "      <td>0.0</td>\n",
       "      <td>0.0</td>\n",
       "      <td>0.0</td>\n",
       "      <td>0.0</td>\n",
       "    </tr>\n",
       "    <tr>\n",
       "      <th>2</th>\n",
       "      <td>0.000000</td>\n",
       "      <td>0.0</td>\n",
       "      <td>0.000000</td>\n",
       "      <td>0.000000</td>\n",
       "      <td>0.0</td>\n",
       "      <td>0.0</td>\n",
       "      <td>0.0</td>\n",
       "      <td>0.0</td>\n",
       "      <td>0.0</td>\n",
       "      <td>0.0</td>\n",
       "      <td>...</td>\n",
       "      <td>0.0</td>\n",
       "      <td>0.0</td>\n",
       "      <td>0.0</td>\n",
       "      <td>0.0</td>\n",
       "      <td>0.0</td>\n",
       "      <td>0.0</td>\n",
       "      <td>0.0</td>\n",
       "      <td>0.0</td>\n",
       "      <td>0.0</td>\n",
       "      <td>0.0</td>\n",
       "    </tr>\n",
       "    <tr>\n",
       "      <th>3</th>\n",
       "      <td>0.000000</td>\n",
       "      <td>0.0</td>\n",
       "      <td>0.000000</td>\n",
       "      <td>0.000000</td>\n",
       "      <td>0.0</td>\n",
       "      <td>0.0</td>\n",
       "      <td>0.0</td>\n",
       "      <td>0.0</td>\n",
       "      <td>0.0</td>\n",
       "      <td>0.0</td>\n",
       "      <td>...</td>\n",
       "      <td>0.0</td>\n",
       "      <td>0.0</td>\n",
       "      <td>0.0</td>\n",
       "      <td>0.0</td>\n",
       "      <td>0.0</td>\n",
       "      <td>0.0</td>\n",
       "      <td>0.0</td>\n",
       "      <td>0.0</td>\n",
       "      <td>0.0</td>\n",
       "      <td>0.0</td>\n",
       "    </tr>\n",
       "    <tr>\n",
       "      <th>4</th>\n",
       "      <td>0.000000</td>\n",
       "      <td>0.0</td>\n",
       "      <td>0.000000</td>\n",
       "      <td>0.000000</td>\n",
       "      <td>0.0</td>\n",
       "      <td>0.0</td>\n",
       "      <td>0.0</td>\n",
       "      <td>0.0</td>\n",
       "      <td>0.0</td>\n",
       "      <td>0.0</td>\n",
       "      <td>...</td>\n",
       "      <td>0.0</td>\n",
       "      <td>0.0</td>\n",
       "      <td>0.0</td>\n",
       "      <td>0.0</td>\n",
       "      <td>0.0</td>\n",
       "      <td>0.0</td>\n",
       "      <td>0.0</td>\n",
       "      <td>0.0</td>\n",
       "      <td>0.0</td>\n",
       "      <td>0.0</td>\n",
       "    </tr>\n",
       "  </tbody>\n",
       "</table>\n",
       "<p>5 rows × 7036 columns</p>\n",
       "</div>"
      ],
      "text/plain": [
       "         00  000      0000      0001   01   02   03   04  0483   05  ...  \\\n",
       "0  0.043012  0.0  0.000000  0.000000  0.0  0.0  0.0  0.0   0.0  0.0  ...   \n",
       "1  0.000000  0.0  0.059614  0.059924  0.0  0.0  0.0  0.0   0.0  0.0  ...   \n",
       "2  0.000000  0.0  0.000000  0.000000  0.0  0.0  0.0  0.0   0.0  0.0  ...   \n",
       "3  0.000000  0.0  0.000000  0.000000  0.0  0.0  0.0  0.0   0.0  0.0  ...   \n",
       "4  0.000000  0.0  0.000000  0.000000  0.0  0.0  0.0  0.0   0.0  0.0  ...   \n",
       "\n",
       "   zvolil  zvolila  zvolit  zwart  zwizku  zwrot  zwrotn  zwrotu  zysk  zznam  \n",
       "0     0.0      0.0     0.0    0.0     0.0    0.0     0.0     0.0   0.0    0.0  \n",
       "1     0.0      0.0     0.0    0.0     0.0    0.0     0.0     0.0   0.0    0.0  \n",
       "2     0.0      0.0     0.0    0.0     0.0    0.0     0.0     0.0   0.0    0.0  \n",
       "3     0.0      0.0     0.0    0.0     0.0    0.0     0.0     0.0   0.0    0.0  \n",
       "4     0.0      0.0     0.0    0.0     0.0    0.0     0.0     0.0   0.0    0.0  \n",
       "\n",
       "[5 rows x 7036 columns]"
      ]
     },
     "execution_count": 20,
     "metadata": {},
     "output_type": "execute_result"
    }
   ],
   "source": [
    "pd.DataFrame(tfidf_vec.toarray(), columns=tf_vectorizer.get_feature_names()).head()"
   ]
  },
  {
   "cell_type": "markdown",
   "metadata": {},
   "source": [
    "### 2.4.train-test split"
   ]
  },
  {
   "cell_type": "code",
   "execution_count": 21,
   "metadata": {},
   "outputs": [],
   "source": [
    "from sklearn.model_selection import train_test_split\n",
    "x_train, x_test, y_train, y_test = train_test_split(tfidf_vec, labels, random_state=42,test_size=0.33)"
   ]
  },
  {
   "cell_type": "markdown",
   "metadata": {},
   "source": [
    "### 2.5.encode label feature"
   ]
  },
  {
   "cell_type": "code",
   "execution_count": 22,
   "metadata": {},
   "outputs": [],
   "source": [
    "from sklearn.preprocessing import LabelBinarizer, LabelEncoder\n",
    "encoder = LabelEncoder()\n",
    "encoder.fit(train_tags)\n",
    "y_train_ohe = encoder.transform(y_train) \n",
    "y_test_ohe = encoder.transform(y_test)"
   ]
  },
  {
   "cell_type": "code",
   "execution_count": 23,
   "metadata": {},
   "outputs": [],
   "source": [
    "num_classes = np.max(y_train_ohe) + 1 #strings start from 0 index. To count them from 1-10\n",
    "y_train = utils.to_categorical(y_train_ohe, num_classes)\n",
    "y_test = utils.to_categorical(y_test_ohe, num_classes)"
   ]
  },
  {
   "cell_type": "code",
   "execution_count": 24,
   "metadata": {},
   "outputs": [
    {
     "data": {
      "text/plain": [
       "array([[0., 0., 1., 0., 0., 0., 0., 0., 0., 0.],\n",
       "       [0., 0., 0., 0., 0., 0., 0., 1., 0., 0.],\n",
       "       [0., 0., 1., 0., 0., 0., 0., 0., 0., 0.],\n",
       "       [0., 0., 1., 0., 0., 0., 0., 0., 0., 0.],\n",
       "       [0., 0., 0., 0., 0., 0., 0., 0., 0., 1.]], dtype=float32)"
      ]
     },
     "execution_count": 24,
     "metadata": {},
     "output_type": "execute_result"
    }
   ],
   "source": [
    "y_train[:5]"
   ]
  },
  {
   "cell_type": "markdown",
   "metadata": {},
   "source": [
    "# 3-Keras Model"
   ]
  },
  {
   "cell_type": "code",
   "execution_count": 25,
   "metadata": {},
   "outputs": [],
   "source": [
    "from keras.models import Sequential\n",
    "from keras.layers import Dense, Activation, Dropout\n",
    "from keras.regularizers import l2, l1"
   ]
  },
  {
   "cell_type": "code",
   "execution_count": 26,
   "metadata": {},
   "outputs": [],
   "source": [
    "# parameters\n",
    "num_input=x_train.shape[1]\n",
    "num_output=labels.nunique()\n",
    "epochs=10\n",
    "batch_size=32"
   ]
  },
  {
   "cell_type": "code",
   "execution_count": 27,
   "metadata": {},
   "outputs": [],
   "source": [
    "model = Sequential()\n",
    "model.add(Dense(units=100, activation='relu', input_dim=num_input))\n",
    "model.add(Dense(units=num_output, activation='softmax'))\n",
    "# model.add(Activation(\"sigmoid\"))"
   ]
  },
  {
   "cell_type": "code",
   "execution_count": 28,
   "metadata": {},
   "outputs": [
    {
     "name": "stdout",
     "output_type": "stream",
     "text": [
      "Model: \"sequential_1\"\n",
      "_________________________________________________________________\n",
      "Layer (type)                 Output Shape              Param #   \n",
      "=================================================================\n",
      "dense_1 (Dense)              (None, 100)               703700    \n",
      "_________________________________________________________________\n",
      "dense_2 (Dense)              (None, 10)                1010      \n",
      "=================================================================\n",
      "Total params: 704,710\n",
      "Trainable params: 704,710\n",
      "Non-trainable params: 0\n",
      "_________________________________________________________________\n"
     ]
    }
   ],
   "source": [
    "model.compile(loss='categorical_crossentropy', optimizer='adam', metrics=[\"accuracy\"])\n",
    "model.summary()"
   ]
  },
  {
   "cell_type": "code",
   "execution_count": 29,
   "metadata": {},
   "outputs": [
    {
     "name": "stdout",
     "output_type": "stream",
     "text": [
      "Train on 5209 samples, validate on 579 samples\n",
      "Epoch 1/10\n",
      "5209/5209 [==============================] - 1s 241us/step - loss: 1.6920 - accuracy: 0.5452 - val_loss: 1.3931 - val_accuracy: 0.5630\n",
      "Epoch 2/10\n",
      "5209/5209 [==============================] - 1s 226us/step - loss: 1.2690 - accuracy: 0.5953 - val_loss: 1.2226 - val_accuracy: 0.6252\n",
      "Epoch 3/10\n",
      "5209/5209 [==============================] - 1s 228us/step - loss: 0.9843 - accuracy: 0.6775 - val_loss: 1.1060 - val_accuracy: 0.6805\n",
      "Epoch 4/10\n",
      "5209/5209 [==============================] - 1s 232us/step - loss: 0.7339 - accuracy: 0.7652 - val_loss: 1.0624 - val_accuracy: 0.6753\n",
      "Epoch 5/10\n",
      "5209/5209 [==============================] - 1s 234us/step - loss: 0.5571 - accuracy: 0.8385 - val_loss: 1.0669 - val_accuracy: 0.6788\n",
      "Epoch 6/10\n",
      "5209/5209 [==============================] - 1s 223us/step - loss: 0.4443 - accuracy: 0.8787 - val_loss: 1.0963 - val_accuracy: 0.6684\n",
      "Epoch 7/10\n",
      "5209/5209 [==============================] - 1s 226us/step - loss: 0.3734 - accuracy: 0.9000 - val_loss: 1.1201 - val_accuracy: 0.6598\n",
      "Epoch 8/10\n",
      "5209/5209 [==============================] - 1s 228us/step - loss: 0.3271 - accuracy: 0.9134 - val_loss: 1.1589 - val_accuracy: 0.6494\n",
      "Epoch 9/10\n",
      "5209/5209 [==============================] - 1s 227us/step - loss: 0.2965 - accuracy: 0.9198 - val_loss: 1.1824 - val_accuracy: 0.6390\n",
      "Epoch 10/10\n",
      "5209/5209 [==============================] - 1s 228us/step - loss: 0.2758 - accuracy: 0.9247 - val_loss: 1.2257 - val_accuracy: 0.6459\n"
     ]
    }
   ],
   "source": [
    "history = model.fit(x_train, y_train,\n",
    "                    batch_size=batch_size,\n",
    "                    epochs=epochs,\n",
    "                    verbose=1,\n",
    "                    validation_split=0.1)"
   ]
  },
  {
   "cell_type": "markdown",
   "metadata": {},
   "source": [
    "### 3.1.Evaluate Model"
   ]
  },
  {
   "cell_type": "code",
   "execution_count": 30,
   "metadata": {},
   "outputs": [
    {
     "name": "stdout",
     "output_type": "stream",
     "text": [
      "2852/2852 [==============================] - 0s 56us/step\n",
      "Test accuracy: 0.6195651888847351\n"
     ]
    }
   ],
   "source": [
    "score = model.evaluate(x_test, y_test,\n",
    "                       batch_size=batch_size, verbose=1)\n",
    "print('Test accuracy:', score[1])"
   ]
  },
  {
   "cell_type": "markdown",
   "metadata": {},
   "source": [
    "### 3.2.probability distribution"
   ]
  },
  {
   "cell_type": "code",
   "execution_count": 31,
   "metadata": {},
   "outputs": [],
   "source": [
    "y_test_pred = model.predict(x_test)"
   ]
  },
  {
   "cell_type": "code",
   "execution_count": 32,
   "metadata": {},
   "outputs": [
    {
     "name": "stdout",
     "output_type": "stream",
     "text": [
      "(2852, 10)\n"
     ]
    }
   ],
   "source": [
    "print(y_test_pred.shape)"
   ]
  },
  {
   "cell_type": "code",
   "execution_count": 33,
   "metadata": {},
   "outputs": [
    {
     "data": {
      "text/plain": [
       "array([[3.43780518e-02, 9.23575368e-04, 6.78394377e-01, 1.08105328e-03,\n",
       "        4.80635185e-03, 6.51673228e-03, 1.55153871e-01, 4.15020715e-03,\n",
       "        1.25740776e-02, 1.02021664e-01],\n",
       "       [8.66177306e-03, 5.28178585e-04, 8.71340632e-01, 5.01949806e-03,\n",
       "        1.45068124e-03, 3.00558168e-04, 1.13561088e-02, 4.40452136e-02,\n",
       "        2.24994887e-02, 3.47978249e-02],\n",
       "       [8.39464366e-02, 1.05833530e-03, 7.66656339e-01, 1.50009533e-02,\n",
       "        2.90802517e-03, 2.73674820e-03, 5.28871035e-03, 1.50193297e-03,\n",
       "        4.47114073e-02, 7.61910975e-02],\n",
       "       [5.43553056e-03, 1.89408791e-04, 5.67120373e-01, 8.84038105e-04,\n",
       "        2.08026245e-02, 6.31356903e-04, 1.42132211e-03, 3.97493422e-01,\n",
       "        1.72342593e-03, 4.29847045e-03],\n",
       "       [3.08567464e-01, 3.65596116e-02, 7.98415951e-03, 4.79612092e-04,\n",
       "        1.41733997e-02, 2.15199351e-01, 1.77371630e-03, 3.74386579e-01,\n",
       "        3.27902474e-02, 8.08583014e-03]], dtype=float32)"
      ]
     },
     "execution_count": 33,
     "metadata": {},
     "output_type": "execute_result"
    }
   ],
   "source": [
    "y_test_pred[:5]"
   ]
  },
  {
   "cell_type": "markdown",
   "metadata": {},
   "source": [
    "### 3.3.out_of_sample data"
   ]
  },
  {
   "cell_type": "code",
   "execution_count": 34,
   "metadata": {},
   "outputs": [
    {
     "data": {
      "text/plain": [
       "array([[0.05400248, 0.06229569, 0.26908863, 0.00704312, 0.00743419,\n",
       "        0.00357599, 0.10366168, 0.01631426, 0.26278865, 0.2137953 ]],\n",
       "      dtype=float32)"
      ]
     },
     "execution_count": 34,
     "metadata": {},
     "output_type": "execute_result"
    }
   ],
   "source": [
    "test_case = tf_vectorizer.transform([\"I really like your products\"])\n",
    "model.predict(test_case.todense())"
   ]
  },
  {
   "cell_type": "code",
   "execution_count": 35,
   "metadata": {},
   "outputs": [
    {
     "data": {
      "image/png": "[encoded data removed]",
      "text/plain": [
       "<Figure size 432x288 with 1 Axes>"
      ]
     },
     "metadata": {
      "needs_background": "light"
     },
     "output_type": "display_data"
    }
   ],
   "source": [
    "plt.hist(model.get_weights()[0].ravel(),100)\n",
    "plt.show()"
   ]
  },
  {
   "cell_type": "code",
   "execution_count": 36,
   "metadata": {},
   "outputs": [
    {
     "data": {
      "text/plain": [
       "[<tf.Variable 'dense_1/kernel:0' shape=(7036, 100) dtype=float32, numpy=\n",
       " array([[-0.1130499 , -0.1162539 , -0.06811291, ..., -0.05497916,\n",
       "          0.02835547,  0.02840912],\n",
       "        [ 0.03040057, -0.05357662, -0.07437281, ...,  0.03737554,\n",
       "          0.01598111, -0.05987131],\n",
       "        [ 0.02162195,  0.0382107 ,  0.03317291, ..., -0.01211195,\n",
       "         -0.01288501,  0.05575055],\n",
       "        ...,\n",
       "        [-0.03167736, -0.01859612,  0.08380631, ...,  0.03341443,\n",
       "          0.03419185,  0.06911598],\n",
       "        [-0.00119529,  0.00929184,  0.05871768, ...,  0.00033961,\n",
       "          0.03636322, -0.0464431 ],\n",
       "        [ 0.06625377,  0.02942654, -0.05737194, ..., -0.06828072,\n",
       "         -0.04517774, -0.09841111]], dtype=float32)>,\n",
       " <tf.Variable 'dense_1/bias:0' shape=(100,) dtype=float32, numpy=\n",
       " array([0.1148205 , 0.028911  , 0.12470996, 0.11618247, 0.10419334,\n",
       "        0.11017519, 0.12679985, 0.07280851, 0.05492295, 0.2039909 ,\n",
       "        0.12287208, 0.20477846, 0.12561722, 0.12540022, 0.05682994,\n",
       "        0.09984577, 0.01081831, 0.26184207, 0.05997464, 0.08247855,\n",
       "        0.05792892, 0.05678182, 0.11438785, 0.20256707, 0.08646328,\n",
       "        0.17019208, 0.14011152, 0.08050934, 0.13380276, 0.09478997,\n",
       "        0.07958695, 0.1437451 , 0.14975277, 0.11023666, 0.11497853,\n",
       "        0.11690848, 0.02165565, 0.17377649, 0.07248182, 0.0620368 ,\n",
       "        0.08368339, 0.24653095, 0.14191246, 0.08761802, 0.20488052,\n",
       "        0.04785864, 0.18744579, 0.2118014 , 0.21271795, 0.13634278,\n",
       "        0.12097097, 0.13176097, 0.24211095, 0.10380954, 0.13225597,\n",
       "        0.00692689, 0.12685554, 0.23587993, 0.1125529 , 0.10623894,\n",
       "        0.06784813, 0.20621353, 0.19915867, 0.10844348, 0.23592526,\n",
       "        0.15476783, 0.16562262, 0.11019094, 0.12357436, 0.12053115,\n",
       "        0.1245475 , 0.0828979 , 0.08775663, 0.230073  , 0.14560167,\n",
       "        0.0516911 , 0.13354816, 0.08901456, 0.09758081, 0.13989802,\n",
       "        0.10914874, 0.07695269, 0.06192017, 0.22579081, 0.24595696,\n",
       "        0.21600458, 0.14406322, 0.12319868, 0.08188353, 0.15149863,\n",
       "        0.21708797, 0.1767351 , 0.11508957, 0.17488532, 0.22907776,\n",
       "        0.1078295 , 0.08622579, 0.07922745, 0.17253141, 0.20129722],\n",
       "       dtype=float32)>,\n",
       " <tf.Variable 'dense_2/kernel:0' shape=(100, 10) dtype=float32, numpy=\n",
       " array([[ 3.88180107e-01, -7.57408619e-01, -7.06432283e-01,\n",
       "         -6.11366689e-01, -9.75976586e-01,  3.36012512e-01,\n",
       "          4.96976733e-01,  6.06711924e-01,  1.81052592e-02,\n",
       "         -6.23170614e-01],\n",
       "        [ 5.52233577e-01,  6.17081262e-02, -6.10470057e-01,\n",
       "         -5.55779576e-01,  5.14541626e-01,  7.65381217e-01,\n",
       "         -1.03946313e-01, -4.02501523e-01, -6.88898802e-01,\n",
       "         -4.11699265e-01],\n",
       "        [-6.18328452e-01, -6.26010180e-01,  2.14323178e-01,\n",
       "         -6.11560680e-02, -1.26361310e-01,  1.81072593e-01,\n",
       "         -5.96115053e-01, -9.72283110e-02, -5.06373405e-01,\n",
       "          2.36292005e-01],\n",
       "        [-4.96199131e-01, -4.38812762e-01,  3.08746248e-01,\n",
       "          1.23717189e-01, -4.11359668e-01, -7.41971791e-01,\n",
       "          7.22289458e-02,  4.80473101e-01, -4.32276458e-01,\n",
       "         -4.65269983e-01],\n",
       "        [-5.07935524e-01, -6.56372130e-01,  4.18670624e-01,\n",
       "         -3.70287687e-01,  3.00700188e-01, -3.21691751e-01,\n",
       "          2.24787854e-02,  2.75966853e-01,  3.72102931e-02,\n",
       "         -2.66674191e-01],\n",
       "        [-3.28196108e-01, -6.44025385e-01,  4.99373436e-01,\n",
       "         -4.02226150e-01, -3.84940594e-01, -6.01471305e-01,\n",
       "         -3.63233924e-01,  4.29905564e-01,  3.09100986e-01,\n",
       "         -4.71951842e-01],\n",
       "        [ 3.89458418e-01,  4.39309567e-01, -2.97509700e-01,\n",
       "          3.30586642e-01, -7.84455299e-01,  5.11541843e-01,\n",
       "         -1.11819017e+00,  5.37248373e-01, -2.51063168e-01,\n",
       "         -5.68164349e-01],\n",
       "        [-4.13209051e-01, -3.31968963e-02,  5.85408866e-01,\n",
       "         -4.76679474e-01, -3.82053733e-01,  2.85409838e-01,\n",
       "         -3.73967856e-01,  1.69066399e-01, -3.11767489e-01,\n",
       "         -3.92593831e-01],\n",
       "        [-1.93315819e-01,  2.67405778e-01,  4.55249518e-01,\n",
       "         -2.56825477e-01,  1.71226129e-01, -4.78571296e-01,\n",
       "         -6.33383930e-01,  3.83390486e-01, -7.01249838e-01,\n",
       "         -7.24339902e-01],\n",
       "        [ 5.19481719e-01, -5.58298826e-01,  4.89870533e-02,\n",
       "          2.90523827e-01, -6.46179497e-01,  5.54209054e-01,\n",
       "         -4.16532457e-01, -3.48195225e-01, -4.20667827e-01,\n",
       "          4.89536375e-01],\n",
       "        [ 4.64012861e-01, -7.72999048e-01,  2.48458669e-01,\n",
       "         -8.72537673e-01, -1.12639248e-01, -4.38083768e-01,\n",
       "          5.86889386e-01,  2.59360552e-01, -9.54508960e-01,\n",
       "         -6.70335889e-01],\n",
       "        [-7.48545587e-01,  5.79688966e-01, -3.22200596e-01,\n",
       "         -1.02562594e+00,  3.25420707e-01,  4.15434062e-01,\n",
       "          2.75911093e-01, -7.29319036e-01,  2.79484302e-01,\n",
       "          3.48552763e-01],\n",
       "        [ 2.29567334e-01, -3.39425415e-01,  5.32286525e-01,\n",
       "         -2.57305205e-01, -4.68589664e-01, -6.04919493e-01,\n",
       "         -4.64819185e-02, -4.82519746e-01, -5.14317393e-01,\n",
       "          4.00478423e-01],\n",
       "        [ 1.52659580e-01, -1.19650885e-01,  4.12076890e-01,\n",
       "          4.18757051e-02, -2.61537195e-03, -5.72014332e-01,\n",
       "         -4.05996665e-02,  2.88050205e-01, -6.67199671e-01,\n",
       "          3.84645388e-02],\n",
       "        [-9.29535985e-01, -7.07293451e-01,  1.10907964e-01,\n",
       "          6.97713614e-01,  5.99380434e-01,  4.65937823e-01,\n",
       "         -3.36220711e-01, -8.03679347e-01, -8.09874237e-01,\n",
       "         -7.30901420e-01],\n",
       "        [ 9.79024470e-02, -2.42716759e-01,  6.46598697e-01,\n",
       "         -4.12062764e-01, -3.16996545e-01, -4.99080837e-01,\n",
       "         -8.02777261e-02, -4.36060250e-01, -8.20321143e-02,\n",
       "         -4.68212403e-02],\n",
       "        [-2.48689860e-01,  2.91449726e-01, -7.92382777e-01,\n",
       "          1.54296920e-01,  3.77503604e-01,  9.04805303e-01,\n",
       "         -6.56127334e-01,  9.96358618e-02, -9.97617006e-01,\n",
       "         -1.07451153e+00],\n",
       "        [ 6.03195250e-01, -8.68415356e-01, -4.21363801e-01,\n",
       "          3.22803020e-01, -8.23230505e-01, -2.79001474e-01,\n",
       "         -2.29459614e-01,  3.61668617e-01,  4.86079723e-01,\n",
       "          6.27400160e-01],\n",
       "        [ 4.27914649e-01, -8.40273619e-01, -4.37610388e-01,\n",
       "          6.24785841e-01,  6.02534413e-01,  3.81743968e-01,\n",
       "         -1.11896491e+00,  6.71899855e-01, -3.65589440e-01,\n",
       "         -8.70298624e-01],\n",
       "        [ 4.25552785e-01,  1.43546134e-01, -6.73099637e-01,\n",
       "         -9.46042359e-01,  2.82848984e-01,  4.39734697e-01,\n",
       "         -6.06702983e-01,  4.28257376e-01,  2.19911952e-02,\n",
       "         -5.05612671e-01],\n",
       "        [-7.59324312e-01,  6.45907104e-01, -8.40610027e-01,\n",
       "          3.83589149e-01,  3.89291465e-01, -6.12124026e-01,\n",
       "          3.09772104e-01,  5.88423312e-01, -2.13666677e-01,\n",
       "         -7.36640811e-01],\n",
       "        [-6.78196669e-01, -2.49476102e-03,  4.82144564e-01,\n",
       "          2.16384783e-01, -1.74376413e-01, -3.85646597e-02,\n",
       "          3.38403612e-01,  2.73804873e-01,  5.37501648e-03,\n",
       "         -7.85142958e-01],\n",
       "        [-6.57715619e-01,  3.30866724e-01, -6.37137413e-01,\n",
       "         -3.93414907e-02,  5.73419929e-01,  6.15518093e-01,\n",
       "         -5.35643995e-01,  1.40723631e-01, -5.88976443e-01,\n",
       "          4.81560588e-01],\n",
       "        [ 3.54371130e-01, -4.39473361e-01, -5.14976144e-01,\n",
       "         -1.07456982e+00,  5.19812256e-02,  3.41543496e-01,\n",
       "         -5.85058153e-01,  4.00400996e-01,  4.22903448e-01,\n",
       "          2.95929790e-01],\n",
       "        [-9.87158358e-01,  4.96462315e-01, -5.81811965e-01,\n",
       "         -8.60959947e-01,  7.14507759e-01, -6.17119193e-01,\n",
       "          4.42084283e-01,  5.44427574e-01,  3.59540224e-01,\n",
       "         -9.71738696e-01],\n",
       "        [ 4.90259439e-01,  2.96498626e-01, -2.56676227e-01,\n",
       "         -1.29970515e+00,  4.71536636e-01,  4.48146164e-01,\n",
       "         -6.75427675e-01, -7.34034538e-01,  2.67528266e-01,\n",
       "         -3.77906263e-01],\n",
       "        [-8.68178606e-01, -9.95503724e-01, -6.67433619e-01,\n",
       "          2.77630180e-01,  4.54725772e-01, -1.15613341e+00,\n",
       "          6.32287741e-01,  2.70576119e-01, -5.33691585e-01,\n",
       "         -4.49838161e-01],\n",
       "        [ 1.87545232e-02, -6.40277922e-01,  3.06379110e-01,\n",
       "          7.80186057e-02,  4.25529242e-01, -4.97856259e-01,\n",
       "         -1.62498415e-01, -5.67331433e-01, -4.73465294e-01,\n",
       "         -4.44481790e-01],\n",
       "        [ 3.73847842e-01, -6.26055658e-01,  3.90257269e-01,\n",
       "         -4.65397298e-01, -4.56036240e-01, -3.65748495e-01,\n",
       "         -2.90198535e-01,  3.00409377e-01, -2.23017335e-01,\n",
       "          7.59538263e-02],\n",
       "        [ 2.28830621e-01,  3.08023781e-01, -5.61512887e-01,\n",
       "          4.55613047e-01,  5.00751615e-01, -8.30594838e-01,\n",
       "         -6.90804303e-01, -8.46897125e-01,  5.11397600e-01,\n",
       "          4.65660729e-02],\n",
       "        [ 7.46031165e-01, -9.18173313e-01, -5.66247880e-01,\n",
       "          4.96744394e-01,  4.02866930e-01, -1.58780053e-01,\n",
       "         -1.01109135e+00,  1.98967040e-01, -2.19714954e-01,\n",
       "         -6.21408403e-01],\n",
       "        [-4.36690718e-01,  9.14446414e-02,  4.92682457e-01,\n",
       "         -3.40878308e-01, -4.83885705e-01,  3.53548229e-02,\n",
       "         -4.49356377e-01, -6.16530299e-01, -5.85842840e-02,\n",
       "          4.29979175e-01],\n",
       "        [-5.50728559e-01, -6.77742064e-01,  3.05436075e-01,\n",
       "         -3.28357905e-01,  4.68020327e-02, -5.07223427e-01,\n",
       "         -4.42297697e-01,  3.63890857e-01, -1.16731502e-01,\n",
       "          3.14275622e-01],\n",
       "        [ 8.09160843e-02, -4.91121382e-01,  4.81103867e-01,\n",
       "         -7.29277357e-02,  2.78185993e-01, -8.59507143e-01,\n",
       "         -7.80830458e-02,  1.33395702e-01,  3.41551267e-02,\n",
       "         -4.17997986e-01],\n",
       "        [ 4.09259140e-01, -4.24768209e-01,  5.39781213e-01,\n",
       "         -3.17509174e-01, -6.29824819e-03, -7.50896752e-01,\n",
       "         -6.14021063e-01, -4.48787957e-01,  3.93330693e-01,\n",
       "         -3.11555386e-01],\n",
       "        [-7.07941055e-01, -1.96143225e-01,  4.67160165e-01,\n",
       "         -5.03753245e-01, -1.16639383e-01,  3.99115682e-01,\n",
       "          2.72996426e-01, -5.74816704e-01,  6.13563992e-02,\n",
       "          1.97162982e-02],\n",
       "        [-7.79338777e-01,  1.55794814e-01,  3.04308176e-01,\n",
       "          5.41046739e-01,  2.30512634e-01, -3.17497291e-02,\n",
       "          4.28870797e-01, -4.70848233e-01, -3.38640720e-01,\n",
       "         -9.68161166e-01],\n",
       "        [ 2.05935881e-01,  2.09481344e-01, -7.11010337e-01,\n",
       "          5.04507482e-01, -3.58831316e-01, -9.28999901e-01,\n",
       "          2.82444537e-01, -7.29346275e-01, -1.28244281e-01,\n",
       "          6.24837875e-01],\n",
       "        [ 9.12434459e-02, -3.94694567e-01,  4.77697849e-01,\n",
       "         -4.86935318e-01, -2.33022845e-04,  1.55925989e-01,\n",
       "         -6.42786086e-01,  2.02027112e-01, -5.73628485e-01,\n",
       "         -2.02707782e-01],\n",
       "        [-3.13421994e-01, -1.87571749e-01,  3.28990221e-01,\n",
       "          5.31655729e-01, -4.11300659e-01,  3.80764365e-01,\n",
       "          1.84159845e-01, -6.40432298e-01, -6.16485894e-01,\n",
       "         -6.61580384e-01],\n",
       "        [ 2.82675564e-01, -5.41616082e-02,  5.68772376e-01,\n",
       "         -2.60793325e-02, -3.51059288e-01, -6.14286363e-01,\n",
       "         -3.43297094e-01,  3.65467489e-01, -4.44361627e-01,\n",
       "         -5.37802756e-01],\n",
       "        [-6.79055810e-01,  6.11824572e-01, -4.18155849e-01,\n",
       "         -9.28482711e-01, -7.21397877e-01, -5.87444961e-01,\n",
       "         -6.96823478e-01,  6.21439815e-01,  2.10029110e-01,\n",
       "          6.15242600e-01],\n",
       "        [-6.39545560e-01,  5.66423178e-01,  2.17162788e-01,\n",
       "         -2.83794612e-01,  4.52450454e-01,  2.36263394e-01,\n",
       "         -1.07947969e+00, -9.03644383e-01,  3.61951560e-01,\n",
       "          1.02052614e-01],\n",
       "        [-4.36890930e-01, -2.34420821e-02,  6.31198049e-01,\n",
       "         -5.35433367e-02, -4.41585273e-01, -5.82858384e-01,\n",
       "         -3.55867088e-01, -4.29033220e-01, -2.13539317e-01,\n",
       "         -2.97392935e-01],\n",
       "        [ 1.71856865e-01, -4.47041392e-01, -5.54573715e-01,\n",
       "         -7.54802942e-01, -9.47524309e-01,  6.14241242e-01,\n",
       "         -5.61252177e-01,  3.35667163e-01,  5.01228213e-01,\n",
       "          4.45191026e-01],\n",
       "        [-2.53063645e-02,  6.49466753e-01, -7.79560685e-01,\n",
       "          5.25851250e-01, -8.27467024e-01,  3.80403966e-01,\n",
       "          5.16611755e-01,  4.50499058e-01, -6.56384528e-01,\n",
       "         -1.10702980e+00],\n",
       "        [-6.15922868e-01, -3.68534893e-01,  1.90998912e-01,\n",
       "         -4.50605810e-01,  3.90314251e-01, -9.57485557e-01,\n",
       "         -2.38040671e-01,  2.59692460e-01, -3.27714592e-01,\n",
       "          3.78833205e-01],\n",
       "        [ 8.93187970e-02, -1.51352003e-01, -5.08299232e-01,\n",
       "         -9.37974811e-01,  3.54521126e-01, -6.54774487e-01,\n",
       "          5.04643798e-01, -7.48245180e-01, -3.31047475e-01,\n",
       "          6.29389286e-01],\n",
       "        [ 2.19286576e-01, -8.98904443e-01, -3.00493330e-01,\n",
       "         -9.83104467e-01,  2.34250277e-01, -6.77826047e-01,\n",
       "          4.24669594e-01, -8.64076376e-01,  4.73617911e-01,\n",
       "          5.66603959e-01],\n",
       "        [-2.67840326e-01,  9.93213877e-02,  5.15992224e-01,\n",
       "         -1.08272076e-01, -6.67186141e-01,  2.69044816e-01,\n",
       "          2.86591709e-01, -5.77759326e-01, -3.26246284e-02,\n",
       "          6.91718608e-02],\n",
       "        [-8.62273335e-01,  1.24598645e-01,  4.80334908e-01,\n",
       "         -1.88981608e-01, -2.47632824e-02, -5.54508008e-02,\n",
       "         -1.66077167e-02,  1.00102909e-01, -5.33684269e-02,\n",
       "          7.02735186e-02],\n",
       "        [-7.58810699e-01,  5.68964005e-01, -5.92612982e-01,\n",
       "         -9.87620890e-01, -2.93160439e-01,  3.93576682e-01,\n",
       "         -4.06867504e-01,  6.06430292e-01,  1.54123604e-01,\n",
       "         -2.86392778e-01],\n",
       "        [-5.50007284e-01, -6.14322722e-01, -5.58394492e-01,\n",
       "         -6.48705125e-01, -1.26246095e+00, -7.36823738e-01,\n",
       "          3.43833536e-01,  7.89986372e-01,  2.71540314e-01,\n",
       "          4.27472532e-01],\n",
       "        [-9.85945761e-01, -4.95049894e-01, -8.25634301e-01,\n",
       "         -4.06954139e-01,  6.17518663e-01,  5.72708786e-01,\n",
       "          1.81371763e-01,  4.27643478e-01,  7.63359070e-02,\n",
       "          3.33699614e-01],\n",
       "        [-4.79690313e-01, -3.67608994e-01,  2.81756580e-01,\n",
       "          1.47262558e-01, -4.20523226e-01, -7.77672946e-01,\n",
       "         -2.39929453e-01,  5.00174046e-01,  3.03174376e-01,\n",
       "         -6.12545311e-01],\n",
       "        [ 4.02539462e-01,  6.35471046e-01, -5.95673680e-01,\n",
       "          6.85588539e-01,  4.82863337e-01,  6.56597376e-01,\n",
       "          1.07577490e-02, -1.02914977e+00, -8.82812202e-01,\n",
       "         -9.09715652e-01],\n",
       "        [-2.53024369e-01,  1.28972083e-01,  2.04017416e-01,\n",
       "          2.66218454e-01, -4.99347329e-01, -8.89497638e-01,\n",
       "          3.97749752e-01,  1.03004970e-01, -6.63727224e-01,\n",
       "         -5.53108275e-01],\n",
       "        [-4.78444010e-01, -6.92452729e-01,  1.87989369e-01,\n",
       "         -2.08660796e-01,  3.87360543e-01, -1.08103347e+00,\n",
       "          3.01210821e-01, -5.88119924e-01,  2.68187583e-03,\n",
       "          5.82662225e-01],\n",
       "        [ 9.65700895e-02, -1.51494011e-01,  4.89653319e-01,\n",
       "         -7.44014919e-01, -5.36602378e-01,  4.34027612e-01,\n",
       "          1.35249779e-01, -4.05344099e-01, -1.76689178e-01,\n",
       "         -3.41735512e-01],\n",
       "        [-9.91941333e-01,  3.33183110e-01,  3.38023275e-01,\n",
       "          4.43898840e-03,  4.60283846e-01, -7.80008957e-02,\n",
       "         -5.95355034e-01,  5.75277116e-03, -9.73180056e-01,\n",
       "          1.76018868e-02],\n",
       "        [-3.77385795e-01, -5.56739807e-01,  4.52661276e-01,\n",
       "         -4.51130360e-01,  1.82676882e-01,  3.18967760e-01,\n",
       "          3.94429803e-01, -2.28846580e-01,  1.81639344e-02,\n",
       "         -6.35245979e-01],\n",
       "        [ 3.69947970e-01,  5.07664084e-01, -6.13217890e-01,\n",
       "         -1.20597613e+00, -8.35924625e-01,  5.13072014e-01,\n",
       "          2.11414248e-01,  3.44960466e-02, -2.47834578e-01,\n",
       "          3.05382222e-01],\n",
       "        [ 6.65048242e-01,  5.23644686e-01, -5.12108266e-01,\n",
       "          5.58550417e-01, -1.37653768e+00, -8.76542389e-01,\n",
       "          3.91461849e-01, -2.34100863e-01,  4.89383996e-01,\n",
       "         -1.00876547e-01],\n",
       "        [-3.77305627e-01, -6.02079093e-01,  3.99006784e-01,\n",
       "         -1.64196417e-01, -2.93158680e-01,  2.84502536e-01,\n",
       "         -5.27406514e-01, -2.64610797e-01,  5.53595163e-02,\n",
       "         -7.31821284e-02],\n",
       "        [-5.08051932e-01,  2.15790674e-01, -4.90324527e-01,\n",
       "         -7.55036592e-01, -1.00789320e+00, -1.02048182e+00,\n",
       "          4.73161101e-01,  4.53351617e-01,  1.32793576e-01,\n",
       "          2.69123197e-01],\n",
       "        [ 1.51878402e-01, -2.85630766e-02,  5.11428833e-01,\n",
       "         -8.64173889e-01, -3.06069911e-01,  4.45154011e-01,\n",
       "         -7.20183790e-01, -3.59351426e-01,  1.01393826e-01,\n",
       "          1.63910717e-01],\n",
       "        [ 3.94103646e-01,  5.10549784e-01, -4.62796032e-01,\n",
       "          4.70791489e-01, -9.44207013e-01, -5.30467927e-01,\n",
       "          5.74670792e-01, -9.62152421e-01,  4.37906563e-01,\n",
       "         -3.23546052e-01],\n",
       "        [ 1.30995572e-01,  1.87298536e-01,  6.36973441e-01,\n",
       "         -1.59150600e-01, -6.01903021e-01, -2.53987074e-01,\n",
       "         -2.58871078e-01, -6.96467906e-02, -1.94968924e-01,\n",
       "         -3.00348625e-02],\n",
       "        [-6.21656835e-01,  1.63236111e-01,  2.56767243e-01,\n",
       "          2.14781880e-01, -7.19953299e-01, -1.02926648e+00,\n",
       "          2.27572843e-01, -8.36468160e-01, -6.79043829e-02,\n",
       "         -4.83556360e-01],\n",
       "        [-5.71511507e-01, -2.96265215e-01,  5.39334834e-01,\n",
       "         -4.16753858e-01,  5.35473451e-02, -7.39159226e-01,\n",
       "         -3.00042689e-01, -2.23751500e-01,  2.63792813e-01,\n",
       "          1.06625743e-02],\n",
       "        [ 9.57060009e-02, -2.58596450e-01,  5.00851214e-01,\n",
       "          3.50267887e-01, -5.88917136e-01, -6.59971058e-01,\n",
       "         -5.53288043e-01, -5.94488308e-02, -1.16527796e-01,\n",
       "          1.03616916e-01],\n",
       "        [-6.90699339e-01, -2.89050937e-01,  4.61448103e-01,\n",
       "          1.22587323e-01,  3.64603698e-01,  2.83284247e-01,\n",
       "          1.16341561e-01, -7.19818711e-01, -9.76278856e-02,\n",
       "         -1.86198309e-01],\n",
       "        [ 3.60719353e-01,  1.73306614e-01,  5.17318666e-01,\n",
       "         -5.80879331e-01, -2.03319535e-01, -7.49715447e-01,\n",
       "          9.70025137e-02,  1.33450776e-01,  2.09095180e-01,\n",
       "         -8.10524166e-01],\n",
       "        [ 3.41748953e-01,  3.32847804e-01, -3.81532341e-01,\n",
       "         -9.86389756e-01, -8.40578854e-01, -3.66396844e-01,\n",
       "         -7.75420904e-01,  3.91795278e-01, -1.42243132e-03,\n",
       "          2.42771223e-01],\n",
       "        [-7.00129926e-01, -5.79008698e-01,  2.66711026e-01,\n",
       "          3.54701877e-02,  2.29234025e-01, -2.22794235e-01,\n",
       "          9.11526829e-02, -3.00933838e-01, -1.66240856e-01,\n",
       "          1.72871668e-02],\n",
       "        [ 5.33186197e-01,  2.77002513e-01, -7.94131577e-01,\n",
       "          5.02385736e-01, -2.50490308e-01,  5.13006389e-01,\n",
       "          1.75460532e-01, -8.90643835e-01,  1.77208170e-01,\n",
       "         -7.25933731e-01],\n",
       "        [ 2.71196067e-01, -4.58384931e-01,  3.82521808e-01,\n",
       "         -9.82767463e-01, -1.53208431e-02, -5.61614782e-02,\n",
       "          4.29754078e-01, -1.16529012e+00,  3.24367225e-01,\n",
       "         -1.34380609e-01],\n",
       "        [-6.73839033e-01, -1.45711765e-01,  3.32208157e-01,\n",
       "          2.20736682e-01, -5.28022945e-01, -3.23505163e-01,\n",
       "         -2.72479832e-01,  3.20395976e-01, -4.02266502e-01,\n",
       "         -5.09818733e-01],\n",
       "        [ 2.50995547e-01, -4.58851500e-05,  5.06024420e-01,\n",
       "          4.24021125e-01, -4.62269574e-01,  3.75511557e-01,\n",
       "         -7.10878611e-01, -2.77601510e-01, -2.63111740e-01,\n",
       "         -3.96752805e-02],\n",
       "        [-4.05288875e-01, -3.99052858e-01,  3.21340382e-01,\n",
       "          3.96186411e-01,  3.07159513e-01, -5.32794118e-01,\n",
       "          4.07422751e-01, -3.33756089e-01, -5.67666650e-01,\n",
       "          7.21970666e-03],\n",
       "        [-3.51160280e-02, -6.56690419e-01,  4.23959047e-01,\n",
       "          1.82671055e-01,  2.81103849e-01, -5.41114211e-01,\n",
       "          2.64385432e-01, -5.74630141e-01,  1.50578499e-01,\n",
       "         -4.14226294e-01],\n",
       "        [-1.99010983e-01,  2.24759623e-01,  4.85509545e-01,\n",
       "         -2.07814857e-01,  4.45818484e-01, -8.06090295e-01,\n",
       "         -4.77675050e-02,  1.11677997e-01, -6.86435938e-01,\n",
       "         -5.00494123e-01],\n",
       "        [-2.94587940e-01,  4.53629732e-01, -4.35114950e-01,\n",
       "          4.58174020e-01,  5.43739855e-01,  4.36254948e-01,\n",
       "         -1.30714464e+00,  2.61603683e-01, -5.52442491e-01,\n",
       "         -8.84466767e-01],\n",
       "        [-4.00268525e-01, -7.64539540e-01,  1.54461130e-01,\n",
       "         -4.16205704e-01, -1.13431085e-02, -4.92940426e-01,\n",
       "          9.79224443e-02,  5.44862032e-01, -4.44767058e-01,\n",
       "          4.99894708e-01],\n",
       "        [ 3.44192833e-01, -8.56351793e-01, -1.18684947e-01,\n",
       "          3.56529772e-01, -9.67972815e-01, -8.96740779e-02,\n",
       "          4.20953572e-01,  4.25110817e-01, -2.78717339e-01,\n",
       "          3.69502366e-01],\n",
       "        [ 5.51865220e-01,  5.70342302e-01, -6.83238506e-01,\n",
       "          1.85075730e-01, -1.36098194e+00, -2.89532989e-01,\n",
       "          5.80726564e-01, -3.91051352e-01, -4.27902669e-01,\n",
       "          4.49697852e-01],\n",
       "        [ 3.35666001e-01, -3.46057385e-01,  3.34358484e-01,\n",
       "          3.22475702e-01, -2.66354293e-01, -8.04988980e-01,\n",
       "         -1.82825893e-01, -5.64841688e-01, -5.45678139e-01,\n",
       "          2.52387673e-01],\n",
       "        [-6.46251619e-01, -3.65014434e-01,  3.82736653e-01,\n",
       "         -2.44336694e-01,  4.75012928e-01, -7.94070005e-01,\n",
       "         -4.48119134e-01, -4.31805044e-01,  1.07645787e-01,\n",
       "         -5.33695184e-02],\n",
       "        [-4.77195472e-01,  2.57982165e-01,  5.63652217e-01,\n",
       "          3.16308498e-01, -2.92224020e-01, -5.26704133e-01,\n",
       "         -2.08620176e-01, -3.26044291e-01, -5.17518461e-01,\n",
       "         -4.63133335e-01],\n",
       "        [ 4.38933551e-01, -8.68103027e-01, -6.88955784e-01,\n",
       "         -1.02191341e+00,  4.81422961e-01, -8.09674144e-01,\n",
       "          3.22630443e-02,  6.18416846e-01,  3.02986920e-01,\n",
       "          1.90133199e-01],\n",
       "        [-6.51587605e-01,  8.97392556e-02, -5.42438209e-01,\n",
       "          5.49649000e-01, -1.22331595e+00,  3.16436201e-01,\n",
       "          4.11075145e-01, -4.54047531e-01,  3.00379992e-01,\n",
       "          4.95978355e-01],\n",
       "        [ 6.76490128e-01, -7.25766063e-01, -7.35489905e-01,\n",
       "         -7.45189309e-01,  2.95047015e-01, -5.97175121e-01,\n",
       "          6.72426224e-01, -6.53121531e-01, -2.60991454e-01,\n",
       "          4.50036407e-01],\n",
       "        [-4.47852939e-01, -4.31404084e-01,  4.58519429e-01,\n",
       "          1.69949383e-01, -3.59718382e-01, -5.21026790e-01,\n",
       "         -4.47470605e-01,  1.52780131e-01, -4.98551726e-02,\n",
       "         -2.15400934e-01],\n",
       "        [ 4.26694840e-01, -5.92653990e-01, -5.66086709e-01,\n",
       "         -8.18126500e-02, -2.28895918e-01,  3.29233259e-01,\n",
       "         -9.77651536e-01,  1.99498221e-01,  3.57392848e-01,\n",
       "          1.32869840e-01],\n",
       "        [-6.90710604e-01, -7.79389918e-01,  1.19841069e-01,\n",
       "          4.29305494e-01, -6.82004809e-01, -7.49870420e-01,\n",
       "          3.44128370e-01,  2.55895287e-01,  2.00110570e-01,\n",
       "         -1.75184920e-01],\n",
       "        [-3.27829868e-01, -5.40418744e-01,  5.20647526e-01,\n",
       "         -3.22500408e-01, -3.57058913e-01,  1.00939363e-01,\n",
       "          2.19998121e-01, -5.12742698e-01, -4.91173267e-01,\n",
       "          2.41046116e-01],\n",
       "        [ 1.13436557e-01, -4.35327798e-01,  5.46360314e-01,\n",
       "          3.96647789e-02, -5.38768768e-01,  1.76101357e-01,\n",
       "         -4.10717633e-03, -5.45204580e-01, -2.23408043e-01,\n",
       "         -3.24768543e-01],\n",
       "        [-6.30963743e-01, -1.10752203e-01,  4.82015789e-01,\n",
       "         -3.33548069e-01,  3.78630087e-02, -5.16294539e-01,\n",
       "         -2.86388248e-01,  3.53809327e-01, -5.22734344e-01,\n",
       "         -3.93716365e-01],\n",
       "        [ 5.88240102e-02, -3.42848897e-01,  4.74997610e-01,\n",
       "          3.41021478e-01, -5.85080266e-01, -7.96346188e-01,\n",
       "          3.84908020e-02, -1.99739575e-01,  9.04432610e-02,\n",
       "          3.59341294e-01],\n",
       "        [ 5.71166694e-01, -3.21277171e-01, -1.50845721e-01,\n",
       "         -8.07501554e-01,  4.56798881e-01, -6.85681462e-01,\n",
       "         -6.31573677e-01, -5.37738979e-01,  6.35363996e-01,\n",
       "          3.67500216e-01]], dtype=float32)>,\n",
       " <tf.Variable 'dense_2/bias:0' shape=(10,) dtype=float32, numpy=\n",
       " array([-0.07168457, -0.0968798 ,  0.04576875, -0.02901241, -0.10786361,\n",
       "        -0.09019644, -0.03783543, -0.02206681, -0.01995831,  0.13938783],\n",
       "       dtype=float32)>]"
      ]
     },
     "execution_count": 36,
     "metadata": {},
     "output_type": "execute_result"
    }
   ],
   "source": [
    "# weights at each step of neural network\n",
    "model.weights"
   ]
  },
  {
   "cell_type": "markdown",
   "metadata": {},
   "source": [
    "# END OF NOTEBOOK"
   ]
  }
 ],
 "metadata": {
  "kernelspec": {
   "display_name": "Python 3.7 (tensorflow)",
   "language": "python",
   "name": "tensorflow"
  },
  "language_info": {
   "codemirror_mode": {
    "name": "ipython",
    "version": 3
   },
   "file_extension": ".py",
   "mimetype": "text/x-python",
   "name": "python",
   "nbconvert_exporter": "python",
   "pygments_lexer": "ipython3",
   "version": "3.7.7"
  }
 },
 "nbformat": 4,
 "nbformat_minor": 4
}
