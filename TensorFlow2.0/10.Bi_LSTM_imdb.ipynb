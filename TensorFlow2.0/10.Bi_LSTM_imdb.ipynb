{
 "cells": [
  {
   "cell_type": "markdown",
   "metadata": {},
   "source": [
    "# Predicting sentiments for IMDB data\n",
    "\n",
    "using Bi-Directional LSTM"
   ]
  },
  {
   "cell_type": "markdown",
   "metadata": {},
   "source": [
    "# 1- Import key Modules"
   ]
  },
  {
   "cell_type": "code",
   "execution_count": 1,
   "metadata": {},
   "outputs": [],
   "source": [
    "# support both Python 2 and Python 3 with minimal overhead.\n",
    "from __future__ import absolute_import, division, print_function\n",
    "\n",
    "# I am an engineer. I care only about error not warning. So, let's be maverick and ignore warnings.\n",
    "import warnings\n",
    "warnings.filterwarnings('ignore')"
   ]
  },
  {
   "cell_type": "code",
   "execution_count": 2,
   "metadata": {},
   "outputs": [],
   "source": [
    "import numpy as np\n",
    "import pandas as pd"
   ]
  },
  {
   "cell_type": "code",
   "execution_count": 3,
   "metadata": {},
   "outputs": [
    {
     "name": "stderr",
     "output_type": "stream",
     "text": [
      "Using TensorFlow backend.\n"
     ]
    }
   ],
   "source": [
    "from keras.preprocessing import sequence\n",
    "from keras.models import Sequential\n",
    "from keras.layers import LSTM\n",
    "from keras.layers import Embedding\n",
    "from keras.layers import Dense"
   ]
  },
  {
   "cell_type": "code",
   "execution_count": 4,
   "metadata": {},
   "outputs": [
    {
     "name": "stdout",
     "output_type": "stream",
     "text": [
      "Populating the interactive namespace from numpy and matplotlib\n"
     ]
    }
   ],
   "source": [
    "# Visualization \n",
    "import matplotlib.pyplot as plt\n",
    "import seaborn as sns\n",
    "from pprint import pprint\n",
    "%matplotlib inline\n",
    "%pylab inline"
   ]
  },
  {
   "cell_type": "markdown",
   "metadata": {},
   "source": [
    "# 2-Loading and preparing data"
   ]
  },
  {
   "cell_type": "code",
   "execution_count": 5,
   "metadata": {},
   "outputs": [],
   "source": [
    "from keras.datasets import imdb\n",
    "max_words = 20000\n",
    "(x_train, y_train), (x_test, y_test) = imdb.load_data(num_words=max_words)"
   ]
  },
  {
   "cell_type": "code",
   "execution_count": 6,
   "metadata": {},
   "outputs": [
    {
     "name": "stdout",
     "output_type": "stream",
     "text": [
      "X_train length:  25000\n",
      "X_test length:  25000\n"
     ]
    }
   ],
   "source": [
    "print(\"X_train length: \", len(x_train))\n",
    "print(\"X_test length: \", len(x_test))"
   ]
  },
  {
   "cell_type": "code",
   "execution_count": 7,
   "metadata": {},
   "outputs": [],
   "source": [
    "word_to_index = imdb.get_word_index()\n",
    "index_to_word = {v: k for k, v in word_to_index.items()}"
   ]
  },
  {
   "cell_type": "code",
   "execution_count": 8,
   "metadata": {},
   "outputs": [
    {
     "name": "stdout",
     "output_type": "stream",
     "text": [
      "[1, 14, 22, 16, 43, 530, 973, 1622, 1385, 65, 458, 4468, 66, 3941, 4, 173, 36, 256, 5, 25, 100, 43, 838, 112, 50, 670, 2, 9, 35, 480, 284, 5, 150, 4, 172, 112, 167, 2, 336, 385, 39, 4, 172, 4536, 1111, 17, 546, 38, 13, 447, 4, 192, 50, 16, 6, 147, 2025, 19, 14, 22, 4, 1920, 4613, 469, 4, 22, 71, 87, 12, 16, 43, 530, 38, 76, 15, 13, 1247, 4, 22, 17, 515, 17, 12, 16, 626, 18, 19193, 5, 62, 386, 12, 8, 316, 8, 106, 5, 4, 2223, 5244, 16, 480, 66, 3785, 33, 4, 130, 12, 16, 38, 619, 5, 25, 124, 51, 36, 135, 48, 25, 1415, 33, 6, 22, 12, 215, 28, 77, 52, 5, 14, 407, 16, 82, 10311, 8, 4, 107, 117, 5952, 15, 256, 4, 2, 7, 3766, 5, 723, 36, 71, 43, 530, 476, 26, 400, 317, 46, 7, 4, 12118, 1029, 13, 104, 88, 4, 381, 15, 297, 98, 32, 2071, 56, 26, 141, 6, 194, 7486, 18, 4, 226, 22, 21, 134, 476, 26, 480, 5, 144, 30, 5535, 18, 51, 36, 28, 224, 92, 25, 104, 4, 226, 65, 16, 38, 1334, 88, 12, 16, 283, 5, 16, 4472, 113, 103, 32, 15, 16, 5345, 19, 178, 32]\n"
     ]
    }
   ],
   "source": [
    "print(x_train[0])"
   ]
  },
  {
   "cell_type": "code",
   "execution_count": 9,
   "metadata": {},
   "outputs": [
    {
     "name": "stdout",
     "output_type": "stream",
     "text": [
      "the as you with out themselves powerful lets loves their becomes reaching had journalist of lot from anyone to have after out atmosphere never more room and it so heart shows to years of every never going and help moments or of every chest visual movie except her was several of enough more with is now current film as you of mine potentially unfortunately of you than him that with out themselves her get for was camp of you movie sometimes movie that with scary but pratfalls to story wonderful that in seeing in character to of 70s musicians with heart had shadows they of here that with her serious to have does when from why what have critics they is you that isn't one will very to as itself with other tricky in of seen over landed for anyone of and br show's to whether from than out themselves history he name half some br of 'n odd was two most of mean for 1 any an boat she he should is thought frog but of script you not while history he heart to real at barrel but when from one bit then have two of script their with her nobody most that with wasn't to with armed acting watch an for with heartfelt film want an\n"
     ]
    }
   ],
   "source": [
    "print(\" \".join([index_to_word[x] for x in x_train[0]]))"
   ]
  },
  {
   "cell_type": "code",
   "execution_count": 10,
   "metadata": {},
   "outputs": [
    {
     "name": "stdout",
     "output_type": "stream",
     "text": [
      "Min value: 0 Max value: 1\n"
     ]
    }
   ],
   "source": [
    "print(\"Min value:\", min(y_train), \"Max value:\", max(y_train))"
   ]
  },
  {
   "cell_type": "markdown",
   "metadata": {},
   "source": [
    "### 2.1.average and median"
   ]
  },
  {
   "cell_type": "code",
   "execution_count": 11,
   "metadata": {},
   "outputs": [],
   "source": [
    "import numpy as np\n",
    "\n",
    "average_length = np.mean([len(x) for x in x_train])\n",
    "median_length = sorted([len(x) for x in x_train])[len(x_train) // 2]"
   ]
  },
  {
   "cell_type": "code",
   "execution_count": 12,
   "metadata": {},
   "outputs": [
    {
     "name": "stdout",
     "output_type": "stream",
     "text": [
      "Average sequence length:  238.71364\n",
      "Median sequence length:  178\n"
     ]
    }
   ],
   "source": [
    "print(\"Average sequence length: \", average_length)\n",
    "print(\"Median sequence length: \", median_length)"
   ]
  },
  {
   "cell_type": "markdown",
   "metadata": {},
   "source": [
    "so we shall keep sentence length somewhat close to these values. I will go for average length and hence , sentence lenth will be 240"
   ]
  },
  {
   "cell_type": "markdown",
   "metadata": {},
   "source": [
    "### 2.2.Embedding sequence i.e padding"
   ]
  },
  {
   "cell_type": "code",
   "execution_count": 13,
   "metadata": {},
   "outputs": [
    {
     "name": "stdout",
     "output_type": "stream",
     "text": [
      "X_train shape:  (25000, 240)\n"
     ]
    }
   ],
   "source": [
    "max_sequence_length = 240\n",
    "\n",
    "from keras.preprocessing import sequence\n",
    "\n",
    "x_train = sequence.pad_sequences(x_train, maxlen=max_sequence_length, padding='post', truncating='post')\n",
    "x_test = sequence.pad_sequences(x_test, maxlen=max_sequence_length, padding='post', truncating='post')\n",
    "\n",
    "print('X_train shape: ', x_train.shape)"
   ]
  },
  {
   "cell_type": "markdown",
   "metadata": {},
   "source": [
    "# 3- Model Building"
   ]
  },
  {
   "cell_type": "code",
   "execution_count": 14,
   "metadata": {},
   "outputs": [],
   "source": [
    "from keras.models import Sequential\n",
    "from keras.layers import Bidirectional\n",
    "from keras.layers import LSTM\n",
    "from keras.layers import Embedding\n",
    "from keras.layers import Dense\n",
    "from keras.callbacks import EarlyStopping"
   ]
  },
  {
   "cell_type": "markdown",
   "metadata": {},
   "source": [
    "### 3.1.Single layer Bi-Directional LSTM Model"
   ]
  },
  {
   "cell_type": "code",
   "execution_count": 15,
   "metadata": {},
   "outputs": [],
   "source": [
    "hidden_size = 32\n",
    "\n",
    "sl_model = Sequential()\n",
    "sl_model.add(Embedding(max_words, hidden_size))\n",
    "sl_model.add(Bidirectional(LSTM(hidden_size, activation='tanh', dropout=0.2, recurrent_dropout=0.2)))\n",
    "sl_model.add(Dense(1, activation='sigmoid'))\n",
    "sl_model.compile(optimizer='adam', loss='binary_crossentropy', metrics=['accuracy'])"
   ]
  },
  {
   "cell_type": "code",
   "execution_count": 16,
   "metadata": {},
   "outputs": [
    {
     "name": "stdout",
     "output_type": "stream",
     "text": [
      "Model: \"sequential_1\"\n",
      "_________________________________________________________________\n",
      "Layer (type)                 Output Shape              Param #   \n",
      "=================================================================\n",
      "embedding_1 (Embedding)      (None, None, 32)          640000    \n",
      "_________________________________________________________________\n",
      "bidirectional_1 (Bidirection (None, 64)                16640     \n",
      "_________________________________________________________________\n",
      "dense_1 (Dense)              (None, 1)                 65        \n",
      "=================================================================\n",
      "Total params: 656,705\n",
      "Trainable params: 656,705\n",
      "Non-trainable params: 0\n",
      "_________________________________________________________________\n"
     ]
    }
   ],
   "source": [
    "sl_model.summary()"
   ]
  },
  {
   "cell_type": "code",
   "execution_count": null,
   "metadata": {},
   "outputs": [],
   "source": [
    "##### Summary params calculation\n",
    "https://datascience.stackexchange.com/questions/10615/number-of-parameters-in-an-lstm-model\n",
    "\n",
    "There are three steps:\n",
    "\n",
    "- For embedding layer: Dim of embedded layer(20000) * hidden_layer(32)\n",
    "\n",
    "- For LSTM Layer: Now formula is #of params=g*[h(h+i)+biase]\n",
    "\n",
    "where g=lstm layer length i.e 1. For FFNS, RNN has 1 , LSTM has 4 and GRU has 3 layers<br>\n",
    "h=hidden layer size (number of neurons in hidden layer) i.e 100<br>\n",
    "i=Input size/dimension i.e embedding_vector_features that is coming as an input on lstm layer in step2 (40 is value)<br>\n",
    "biase= 100 of neurons for outpt of lstm layer<br>\n",
    "\n",
    "2*(4*[100(100+40)+100])\n",
    "\n",
    "- For Dense (Output): lstm layer acting as input(32) * Bidirectional layer(2)* neurons in output layer(1) + biase(2 as there is only one neuron in output layer)=65"
   ]
  },
  {
   "cell_type": "code",
   "execution_count": 17,
   "metadata": {},
   "outputs": [
    {
     "name": "stdout",
     "output_type": "stream",
     "text": [
      "Train on 25000 samples, validate on 25000 samples\n",
      "Epoch 1/3\n",
      "25000/25000 [==============================] - 188s 8ms/step - loss: 0.5428 - accuracy: 0.7286 - val_loss: 0.4716 - val_accuracy: 0.7815\n",
      "Epoch 2/3\n",
      "25000/25000 [==============================] - 243s 10ms/step - loss: 0.3903 - accuracy: 0.8378 - val_loss: 0.4590 - val_accuracy: 0.7948\n",
      "Epoch 3/3\n",
      "25000/25000 [==============================] - 243s 10ms/step - loss: 0.3354 - accuracy: 0.8648 - val_loss: 0.4509 - val_accuracy: 0.8027\n"
     ]
    },
    {
     "data": {
      "text/plain": [
       "<keras.callbacks.callbacks.History at 0x1def3508888>"
      ]
     },
     "execution_count": 17,
     "metadata": {},
     "output_type": "execute_result"
    }
   ],
   "source": [
    "epochs = 3\n",
    "batch_size=16\n",
    "\n",
    "sl_model.fit(x_train, y_train,validation_data=(x_test,y_test),\n",
    "             callbacks=[EarlyStopping(monitor='val_loss', patience=3, min_delta=0.0001)],\n",
    "             epochs=epochs, batch_size=batch_size, shuffle=True)\n"
   ]
  },
  {
   "cell_type": "code",
   "execution_count": 18,
   "metadata": {},
   "outputs": [
    {
     "name": "stdout",
     "output_type": "stream",
     "text": [
      "25000/25000 [==============================] - 14s 563us/step\n"
     ]
    }
   ],
   "source": [
    "loss, acc = sl_model.evaluate(x_test, y_test)"
   ]
  },
  {
   "cell_type": "code",
   "execution_count": 19,
   "metadata": {},
   "outputs": [
    {
     "name": "stdout",
     "output_type": "stream",
     "text": [
      "Single layer model -- ACC 0.8027200102806091 -- LOSS 0.45086339970588685\n"
     ]
    }
   ],
   "source": [
    "print('Single layer model -- ACC {} -- LOSS {}'.format(acc, loss))"
   ]
  },
  {
   "cell_type": "markdown",
   "metadata": {},
   "source": [
    "### 3.2.Stacked Layer Bi-Directional LSTM"
   ]
  },
  {
   "cell_type": "code",
   "execution_count": 20,
   "metadata": {},
   "outputs": [],
   "source": [
    "d_model = Sequential()\n",
    "d_model.add(Embedding(max_words, hidden_size))\n",
    "d_model.add(Bidirectional(LSTM(hidden_size, activation='tanh', dropout=0.2, recurrent_dropout=0.2, return_sequences=True)))\n",
    "d_model.add(Bidirectional(LSTM(hidden_size, activation='tanh', dropout=0.2, recurrent_dropout=0.2)))\n",
    "d_model.add(Dense(1, activation='sigmoid'))\n",
    "d_model.compile(optimizer='adam', loss='binary_crossentropy', metrics=['accuracy'])"
   ]
  },
  {
   "cell_type": "code",
   "execution_count": 21,
   "metadata": {},
   "outputs": [
    {
     "name": "stdout",
     "output_type": "stream",
     "text": [
      "Model: \"sequential_2\"\n",
      "_________________________________________________________________\n",
      "Layer (type)                 Output Shape              Param #   \n",
      "=================================================================\n",
      "embedding_2 (Embedding)      (None, None, 32)          640000    \n",
      "_________________________________________________________________\n",
      "bidirectional_2 (Bidirection (None, None, 64)          16640     \n",
      "_________________________________________________________________\n",
      "bidirectional_3 (Bidirection (None, 64)                24832     \n",
      "_________________________________________________________________\n",
      "dense_2 (Dense)              (None, 1)                 65        \n",
      "=================================================================\n",
      "Total params: 681,537\n",
      "Trainable params: 681,537\n",
      "Non-trainable params: 0\n",
      "_________________________________________________________________\n"
     ]
    }
   ],
   "source": [
    "d_model.summary()"
   ]
  },
  {
   "cell_type": "code",
   "execution_count": 22,
   "metadata": {},
   "outputs": [
    {
     "name": "stdout",
     "output_type": "stream",
     "text": [
      "Train on 25000 samples, validate on 25000 samples\n",
      "Epoch 1/3\n",
      "25000/25000 [==============================] - 372s 15ms/step - loss: 0.5074 - accuracy: 0.7556 - val_loss: 0.4359 - val_accuracy: 0.7962\n",
      "Epoch 2/3\n",
      "25000/25000 [==============================] - 418s 17ms/step - loss: 0.3742 - accuracy: 0.8409 - val_loss: 0.4656 - val_accuracy: 0.7872\n",
      "Epoch 3/3\n",
      "25000/25000 [==============================] - 352s 14ms/step - loss: 0.2960 - accuracy: 0.8836 - val_loss: 0.4644 - val_accuracy: 0.8036\n"
     ]
    }
   ],
   "source": [
    "history=d_model.fit(x_train, y_train,validation_data=(x_test,y_test),\n",
    "                    callbacks=[EarlyStopping(monitor='val_loss', patience=3, min_delta=0.0001)],\n",
    "                    epochs=epochs, batch_size=batch_size, shuffle=True)"
   ]
  },
  {
   "cell_type": "code",
   "execution_count": 23,
   "metadata": {},
   "outputs": [
    {
     "name": "stdout",
     "output_type": "stream",
     "text": [
      "25000/25000 [==============================] - 26s 1ms/step\n"
     ]
    }
   ],
   "source": [
    "d_loss, d_acc = d_model.evaluate(x_test, y_test)"
   ]
  },
  {
   "cell_type": "code",
   "execution_count": 24,
   "metadata": {},
   "outputs": [
    {
     "name": "stdout",
     "output_type": "stream",
     "text": [
      "Single layer model -- ACC 0.8027200102806091 -- LOSS 0.45086339970588685\n",
      "Double layer model -- ACC 0.8036400079727173 -- LOSS 0.46437607595443725\n"
     ]
    }
   ],
   "source": [
    "print('Single layer model -- ACC {} -- LOSS {}'.format(acc, loss))\n",
    "print('Double layer model -- ACC {} -- LOSS {}'.format(d_acc, d_loss))"
   ]
  },
  {
   "cell_type": "markdown",
   "metadata": {},
   "source": [
    "### 3.3.Plotting results\n",
    "\n",
    "from stacked layer"
   ]
  },
  {
   "cell_type": "code",
   "execution_count": 25,
   "metadata": {},
   "outputs": [],
   "source": [
    "import matplotlib.pyplot as plt\n",
    "plt.style.use('ggplot')\n",
    "\n",
    "def plot_history(history):\n",
    "    acc = history.history['accuracy']\n",
    "    val_acc = history.history['val_accuracy']\n",
    "    loss = history.history['loss']\n",
    "    val_loss = history.history['val_loss']\n",
    "    x = range(1, len(acc) + 1)\n",
    "\n",
    "    plt.figure(figsize=(12, 5))\n",
    "    plt.subplot(1, 2, 1)\n",
    "    plt.plot(x, acc, 'b', label='Training acc')\n",
    "    plt.plot(x, val_acc, 'r', label='Validation acc')\n",
    "    plt.title('Training and validation accuracy')\n",
    "    plt.legend()\n",
    "    plt.subplot(1, 2, 2)\n",
    "    plt.plot(x, loss, 'b', label='Training loss')\n",
    "    plt.plot(x, val_loss, 'r', label='Validation loss')\n",
    "    plt.title('Training and validation loss')\n",
    "    plt.legend()"
   ]
  },
  {
   "cell_type": "code",
   "execution_count": 26,
   "metadata": {},
   "outputs": [
    {
     "data": {
      "image/png": "[encoded data removed]",
      "text/plain": [
       "<Figure size 864x360 with 2 Axes>"
      ]
     },
     "metadata": {},
     "output_type": "display_data"
    }
   ],
   "source": [
    "plot_history(history)"
   ]
  },
  {
   "cell_type": "markdown",
   "metadata": {},
   "source": [
    "### 3.4.weights at each step of neural network "
   ]
  },
  {
   "cell_type": "code",
   "execution_count": 27,
   "metadata": {},
   "outputs": [
    {
     "data": {
      "image/png": "[encoded data removed]",
      "text/plain": [
       "<Figure size 432x288 with 1 Axes>"
      ]
     },
     "metadata": {},
     "output_type": "display_data"
    }
   ],
   "source": [
    "plt.hist(d_model.get_weights()[0].ravel(),100)\n",
    "plt.show()"
   ]
  },
  {
   "cell_type": "code",
   "execution_count": 28,
   "metadata": {},
   "outputs": [
    {
     "data": {
      "text/plain": [
       "[<tf.Variable 'embedding_2/embeddings:0' shape=(20000, 32) dtype=float32, numpy=\n",
       " array([[-0.13250807, -0.00877306, -0.12959325, ..., -0.01818903,\n",
       "         -0.0169142 ,  0.04446626],\n",
       "        [-0.00692954, -0.05006743,  0.03962235, ...,  0.00584403,\n",
       "          0.03414401, -0.04210797],\n",
       "        [-0.09210034, -0.00112131, -0.07348678, ..., -0.01964563,\n",
       "         -0.01152271, -0.00544168],\n",
       "        ...,\n",
       "        [-0.02681631,  0.03631673,  0.01677416, ..., -0.06797646,\n",
       "         -0.04182611,  0.00500199],\n",
       "        [ 0.03655662, -0.04832474,  0.01081854, ..., -0.00314344,\n",
       "          0.02775599, -0.08082322],\n",
       "        [ 0.05869017, -0.11836132,  0.07008013, ...,  0.02570499,\n",
       "          0.08565921, -0.13665749]], dtype=float32)>,\n",
       " <tf.Variable 'bidirectional_2/forward_lstm_2/kernel:0' shape=(32, 128) dtype=float32, numpy=\n",
       " array([[-0.13802971, -0.06240958,  0.06171766, ..., -0.02881485,\n",
       "          0.18903835,  0.11378402],\n",
       "        [ 0.02465504,  0.11358521, -0.02186728, ..., -0.13362221,\n",
       "          0.06720594, -0.11901882],\n",
       "        [ 0.05796359,  0.18248382,  0.13548853, ..., -0.04428633,\n",
       "          0.0940308 ,  0.2998504 ],\n",
       "        ...,\n",
       "        [ 0.04703145, -0.1954877 ,  0.06121743, ..., -0.10671047,\n",
       "         -0.14132398, -0.09219255],\n",
       "        [-0.03258386, -0.12473317,  0.06159551, ...,  0.13019228,\n",
       "          0.03649767, -0.09420122],\n",
       "        [ 0.13897912,  0.10637989,  0.24273399, ..., -0.19960111,\n",
       "         -0.12329166, -0.06484323]], dtype=float32)>,\n",
       " <tf.Variable 'bidirectional_2/forward_lstm_2/recurrent_kernel:0' shape=(32, 128) dtype=float32, numpy=\n",
       " array([[ 0.06083696,  0.02960361, -0.1455032 , ..., -0.02044165,\n",
       "         -0.05805565, -0.04721975],\n",
       "        [-0.05754191,  0.04212227, -0.00580777, ..., -0.03035553,\n",
       "         -0.11796195, -0.11315495],\n",
       "        [-0.08984673,  0.02142121,  0.20644647, ..., -0.10719429,\n",
       "          0.06166581,  0.10083798],\n",
       "        ...,\n",
       "        [ 0.11512987, -0.10636653,  0.07700592, ...,  0.12199671,\n",
       "         -0.10980818, -0.2820088 ],\n",
       "        [-0.02468153,  0.0825605 , -0.02485225, ..., -0.17159969,\n",
       "          0.03938826,  0.02299117],\n",
       "        [ 0.08538216, -0.2992117 ,  0.1239862 , ...,  0.00681999,\n",
       "          0.09378809,  0.02571024]], dtype=float32)>,\n",
       " <tf.Variable 'bidirectional_2/forward_lstm_2/bias:0' shape=(128,) dtype=float32, numpy=\n",
       " array([-2.1573458e-02, -5.7040650e-02, -6.2627070e-02, -5.6038257e-02,\n",
       "        -4.1323233e-02, -5.7251189e-02,  2.2191463e-02, -3.9330360e-02,\n",
       "        -4.7051240e-02, -1.5496366e-01,  9.6142948e-02, -6.8817236e-02,\n",
       "        -5.4077383e-02, -4.1466687e-02, -1.1760502e-02, -1.9096406e-02,\n",
       "        -5.7354022e-02, -3.7037540e-02, -1.3365802e-01, -9.6323743e-02,\n",
       "        -4.4201951e-02, -8.8682603e-03, -3.8302422e-02, -1.0336630e-02,\n",
       "         2.7387891e-02,  1.8348020e-02,  9.2707225e-05, -1.0897573e-01,\n",
       "        -7.5850420e-02, -1.5329897e-01, -3.7120402e-02, -3.8090106e-02,\n",
       "         1.0163009e+00,  9.7928560e-01,  9.5893747e-01,  9.6878052e-01,\n",
       "         9.3465209e-01,  9.6578676e-01,  1.0619053e+00,  9.7040641e-01,\n",
       "         9.6365464e-01,  8.6514884e-01,  1.0989051e+00,  9.7191912e-01,\n",
       "         9.5875221e-01,  9.6375710e-01,  1.0117757e+00,  9.9734503e-01,\n",
       "         9.5215809e-01,  1.0252212e+00,  8.8900185e-01,  9.2264974e-01,\n",
       "         9.8309588e-01,  9.8194426e-01,  9.7862101e-01,  9.7659075e-01,\n",
       "         1.0517526e+00,  1.0493950e+00,  1.0093195e+00,  9.0521473e-01,\n",
       "         9.2849845e-01,  8.4840381e-01,  1.0172799e+00,  9.5910162e-01,\n",
       "         1.9028068e-02,  4.3461934e-02,  3.4457345e-02, -4.8123565e-02,\n",
       "        -6.2952489e-02,  2.6480842e-04, -2.3357635e-02, -3.0796394e-02,\n",
       "        -1.9849421e-02,  2.8300406e-02,  4.5115907e-02,  3.3905141e-02,\n",
       "        -4.3859262e-02,  6.6077940e-02, -6.6653220e-03, -2.1505434e-02,\n",
       "        -8.9515103e-03,  4.9120720e-02, -4.7142889e-02,  1.2249296e-02,\n",
       "         4.8763555e-02, -5.4042049e-02, -3.7225334e-03, -3.9137632e-02,\n",
       "         5.4446258e-02, -3.0721631e-02, -4.8688207e-02, -5.8470620e-03,\n",
       "        -1.1211671e-02, -4.5696490e-02,  3.4431364e-02, -1.8444097e-02,\n",
       "        -3.7772397e-03, -7.3946774e-02, -6.3119337e-02, -4.5414120e-02,\n",
       "        -5.5328570e-02, -5.8632281e-02,  2.5149358e-02, -4.0544361e-02,\n",
       "        -3.5793740e-02, -1.5013060e-01,  1.0003947e-01, -2.7618308e-02,\n",
       "        -5.6930557e-02, -4.6631258e-02, -2.3123259e-02, -1.2095972e-02,\n",
       "        -4.9238026e-02, -5.0230518e-02, -1.2731154e-01, -7.8135833e-02,\n",
       "        -5.7112649e-02, -2.1513496e-02, -3.5968907e-02, -1.9319134e-02,\n",
       "         2.5805105e-02,  1.2506882e-02, -9.3123168e-03, -1.1462433e-01,\n",
       "        -7.8398332e-02, -1.4862609e-01, -3.4162022e-02, -3.6200140e-02],\n",
       "       dtype=float32)>,\n",
       " <tf.Variable 'bidirectional_2/backward_lstm_2/kernel:0' shape=(32, 128) dtype=float32, numpy=\n",
       " array([[ 0.02102202,  0.02495733,  0.08088298, ...,  0.21377452,\n",
       "         -0.11557069,  0.14155051],\n",
       "        [ 0.23062669,  0.26923394, -0.17614667, ...,  0.2601968 ,\n",
       "          0.13231045,  0.03660975],\n",
       "        [-0.10570038, -0.05208596, -0.08560237, ...,  0.0779306 ,\n",
       "         -0.11321393,  0.16794255],\n",
       "        ...,\n",
       "        [-0.29523748, -0.01384824, -0.05465392, ..., -0.11486997,\n",
       "         -0.13168038,  0.06444401],\n",
       "        [-0.25695282, -0.05917285,  0.05111873, ...,  0.01907928,\n",
       "          0.16262627, -0.17902176],\n",
       "        [-0.04709695, -0.07243536, -0.00409427, ..., -0.13983595,\n",
       "          0.0547232 , -0.07813119]], dtype=float32)>,\n",
       " <tf.Variable 'bidirectional_2/backward_lstm_2/recurrent_kernel:0' shape=(32, 128) dtype=float32, numpy=\n",
       " array([[-0.03780826, -0.05541735,  0.05194166, ...,  0.0368644 ,\n",
       "         -0.0356021 , -0.05892398],\n",
       "        [ 0.04328702, -0.11834728, -0.03554451, ..., -0.18092202,\n",
       "          0.0098648 ,  0.15863991],\n",
       "        [-0.02337858, -0.00053088, -0.01907337, ..., -0.05536874,\n",
       "          0.01081681, -0.0005453 ],\n",
       "        ...,\n",
       "        [-0.1173104 , -0.0315228 ,  0.03364757, ...,  0.17839497,\n",
       "          0.0329197 ,  0.0032539 ],\n",
       "        [ 0.04695541,  0.04969624,  0.19682832, ..., -0.06706904,\n",
       "          0.05851446,  0.01353748],\n",
       "        [-0.0531565 , -0.11179908,  0.21030377, ...,  0.04702126,\n",
       "          0.13049878,  0.1276756 ]], dtype=float32)>,\n",
       " <tf.Variable 'bidirectional_2/backward_lstm_2/bias:0' shape=(128,) dtype=float32, numpy=\n",
       " array([ 9.55032941e-04,  1.93156563e-02,  8.90517142e-03, -1.72136221e-02,\n",
       "        -1.67377293e-01, -1.21058851e-01,  5.03929146e-02, -1.11459799e-01,\n",
       "        -6.92483783e-02, -3.52034606e-02, -1.16620585e-01, -5.95279895e-02,\n",
       "        -1.54901490e-01, -7.46860802e-02, -1.19308986e-01, -3.17496359e-02,\n",
       "        -1.51886195e-02, -3.07624834e-03,  2.33616345e-02, -1.67717054e-01,\n",
       "        -2.48564914e-01, -1.80107340e-01, -7.05906451e-02, -1.48455948e-01,\n",
       "        -8.11045244e-02, -1.34518445e-01, -1.12638280e-01, -3.43848318e-02,\n",
       "         3.31897661e-02, -5.92524670e-02, -9.96894836e-02, -8.21065828e-02,\n",
       "         1.05234694e+00,  1.11338198e+00,  1.01769197e+00,  1.04219103e+00,\n",
       "         8.47763777e-01,  8.91020894e-01,  1.12851739e+00,  8.75753462e-01,\n",
       "         1.00575387e+00,  1.02462292e+00,  9.53593016e-01,  1.02482855e+00,\n",
       "         8.38316262e-01,  9.55741286e-01,  9.27297473e-01,  1.04967368e+00,\n",
       "         1.08587384e+00,  1.08304965e+00,  1.10631907e+00,  8.50883245e-01,\n",
       "         7.68586040e-01,  8.26396167e-01,  9.80252445e-01,  8.65279078e-01,\n",
       "         9.63474095e-01,  8.76339614e-01,  9.59375739e-01,  1.04796219e+00,\n",
       "         1.10594809e+00,  1.03400862e+00,  9.33421314e-01,  9.58163679e-01,\n",
       "         2.14383774e-03, -1.37914428e-02, -3.33583839e-02, -1.82345789e-02,\n",
       "        -6.01297151e-03,  2.10652351e-02,  1.25144301e-02,  1.87365487e-02,\n",
       "        -1.87740661e-03, -6.99543278e-04,  7.73801468e-03, -3.45539767e-04,\n",
       "        -2.98636127e-02,  7.87355285e-03, -8.04711599e-03, -6.85839634e-03,\n",
       "         1.73454322e-02,  6.48803124e-03, -8.74463469e-03,  9.50815342e-03,\n",
       "        -1.12197688e-02,  3.45322825e-02, -8.31822865e-03,  1.01753967e-02,\n",
       "         3.46215384e-04, -1.71111710e-02, -2.13342570e-02,  1.03409011e-02,\n",
       "        -2.63958722e-02, -1.11193461e-02,  3.13280569e-03, -8.04628804e-03,\n",
       "        -3.15970066e-03,  1.47055946e-02,  1.08758500e-02,  1.11451687e-03,\n",
       "        -1.73088446e-01, -1.20610856e-01,  2.77330596e-02, -1.07408673e-01,\n",
       "        -7.61469528e-02, -3.10761612e-02, -1.11164808e-01, -4.93195951e-02,\n",
       "        -1.59094796e-01, -6.60445690e-02, -9.40671638e-02, -4.96977493e-02,\n",
       "        -7.92559143e-03, -1.96159817e-02,  1.73500145e-03, -1.67996004e-01,\n",
       "        -2.39490375e-01, -1.85350239e-01, -6.64947033e-02, -1.38175651e-01,\n",
       "        -9.68845710e-02, -1.37154028e-01, -1.15659624e-01, -5.18202446e-02,\n",
       "         3.59691940e-02, -5.92389256e-02, -9.51557532e-02, -8.37650672e-02],\n",
       "       dtype=float32)>,\n",
       " <tf.Variable 'bidirectional_3/forward_lstm_3/kernel:0' shape=(64, 128) dtype=float32, numpy=\n",
       " array([[-0.00580564,  0.25187477,  0.14840807, ..., -0.1360803 ,\n",
       "          0.23221253,  0.05037632],\n",
       "        [ 0.06263012,  0.03487547,  0.04939942, ..., -0.14342746,\n",
       "         -0.04762421,  0.05097602],\n",
       "        [ 0.04574878, -0.02361835, -0.16811773, ..., -0.0991177 ,\n",
       "          0.17113848,  0.0769255 ],\n",
       "        ...,\n",
       "        [ 0.04376584, -0.09842271,  0.10550954, ..., -0.01177826,\n",
       "          0.12221166,  0.0588727 ],\n",
       "        [-0.17753363,  0.14039674, -0.04409274, ...,  0.03304425,\n",
       "         -0.02907347, -0.04885593],\n",
       "        [ 0.12780382,  0.1630773 , -0.05848102, ...,  0.00825935,\n",
       "         -0.23285231,  0.02844361]], dtype=float32)>,\n",
       " <tf.Variable 'bidirectional_3/forward_lstm_3/recurrent_kernel:0' shape=(32, 128) dtype=float32, numpy=\n",
       " array([[-0.10870752, -0.06249129,  0.03440471, ..., -0.12517914,\n",
       "         -0.08229218, -0.11318008],\n",
       "        [-0.0186531 , -0.13142419, -0.16969505, ..., -0.0770981 ,\n",
       "          0.02897308, -0.06279457],\n",
       "        [ 0.11908042,  0.04918502, -0.09037289, ...,  0.17197187,\n",
       "         -0.15884547, -0.04007946],\n",
       "        ...,\n",
       "        [ 0.04812657,  0.01423012, -0.11339908, ..., -0.02378167,\n",
       "         -0.03104398,  0.03466244],\n",
       "        [ 0.14855458, -0.10936981,  0.06704383, ..., -0.10664479,\n",
       "          0.03029817,  0.05464079],\n",
       "        [-0.00994898, -0.01164946, -0.17350738, ...,  0.23706043,\n",
       "         -0.10241023,  0.02753937]], dtype=float32)>,\n",
       " <tf.Variable 'bidirectional_3/forward_lstm_3/bias:0' shape=(128,) dtype=float32, numpy=\n",
       " array([-0.0279133 ,  0.003023  , -0.05221497, -0.1388409 ,  0.02396351,\n",
       "        -0.06044665,  0.0269904 ,  0.04501289, -0.1928494 ,  0.10585154,\n",
       "         0.02376109, -0.06219574, -0.02793988, -0.03242968, -0.06873877,\n",
       "        -0.08819585, -0.12459405, -0.19787644, -0.02444081,  0.08967062,\n",
       "         0.05625531, -0.05028936,  0.16489065, -0.10364012, -0.07581326,\n",
       "         0.05927121, -0.10564275, -0.07488632,  0.00281902, -0.06128011,\n",
       "         0.08431558,  0.01340013,  0.9797442 ,  1.0605489 ,  0.9834926 ,\n",
       "         0.86178905,  1.0944892 ,  0.95562094,  1.0697374 ,  1.0710478 ,\n",
       "         0.8614233 ,  1.1741009 ,  1.0544289 ,  0.9652608 ,  0.9532275 ,\n",
       "         1.0062352 ,  0.9453867 ,  0.9714692 ,  0.8862942 ,  0.8007438 ,\n",
       "         1.0142627 ,  1.123924  ,  1.0948695 ,  0.9716075 ,  1.2197968 ,\n",
       "         0.87374437,  0.98020387,  1.0845438 ,  0.9353953 ,  0.92833745,\n",
       "         1.0553637 ,  0.9386313 ,  1.0713536 ,  1.0435632 ,  0.05271104,\n",
       "         0.00666227, -0.00233228, -0.10330983,  0.01586817,  0.02894654,\n",
       "         0.08778287,  0.03602827, -0.0031579 ,  0.07510011,  0.03436483,\n",
       "         0.00622133, -0.08260258,  0.03726132,  0.00515842, -0.01140758,\n",
       "        -0.0029467 ,  0.01458053, -0.04050221, -0.01006408, -0.05676159,\n",
       "        -0.075487  , -0.03292606, -0.05179607,  0.0097409 ,  0.03832607,\n",
       "        -0.01428264, -0.00162553, -0.05257775,  0.04675613, -0.0590174 ,\n",
       "        -0.00480172, -0.04445842,  0.03444665, -0.06515167, -0.14600757,\n",
       "         0.01492351, -0.08542523,  0.03311459,  0.01881914, -0.16291226,\n",
       "         0.09596425, -0.01039743, -0.07118954, -0.11582149, -0.03892335,\n",
       "        -0.07935165, -0.01229892, -0.13265428, -0.19668508, -0.01383814,\n",
       "         0.07430704,  0.07115895, -0.0720477 ,  0.09461089, -0.14879845,\n",
       "        -0.03125481,  0.02212815, -0.08613455, -0.04571377,  0.0374014 ,\n",
       "        -0.09671099,  0.04109045, -0.01656084], dtype=float32)>,\n",
       " <tf.Variable 'bidirectional_3/backward_lstm_3/kernel:0' shape=(64, 128) dtype=float32, numpy=\n",
       " array([[ 0.03560784, -0.16399439,  0.01148272, ..., -0.0527192 ,\n",
       "         -0.20721668,  0.09533373],\n",
       "        [ 0.05677738, -0.02349781, -0.12229855, ...,  0.24089678,\n",
       "         -0.05751889, -0.01658656],\n",
       "        [ 0.10535983, -0.05641942,  0.06508229, ...,  0.13748501,\n",
       "         -0.00917048,  0.00414955],\n",
       "        ...,\n",
       "        [-0.08321937, -0.2089221 , -0.15298313, ...,  0.14181376,\n",
       "         -0.00673514,  0.06998983],\n",
       "        [ 0.11586355,  0.08210296,  0.01635128, ..., -0.00173226,\n",
       "          0.05379766, -0.17857647],\n",
       "        [ 0.03624765,  0.015187  ,  0.05759491, ..., -0.13845426,\n",
       "          0.01641588,  0.00205383]], dtype=float32)>,\n",
       " <tf.Variable 'bidirectional_3/backward_lstm_3/recurrent_kernel:0' shape=(32, 128) dtype=float32, numpy=\n",
       " array([[ 0.09441335,  0.15611224,  0.12261636, ..., -0.06495491,\n",
       "         -0.08286101,  0.19376616],\n",
       "        [ 0.07833243, -0.04966489, -0.01199122, ..., -0.04669288,\n",
       "          0.05073595,  0.04983509],\n",
       "        [ 0.06429283, -0.01190928, -0.14342235, ...,  0.12224864,\n",
       "          0.09289913, -0.15978557],\n",
       "        ...,\n",
       "        [-0.04202183, -0.13234025,  0.10459656, ..., -0.1183708 ,\n",
       "         -0.02153417,  0.00651682],\n",
       "        [-0.02533695,  0.04092699,  0.1976724 , ...,  0.00213646,\n",
       "         -0.04976091,  0.07218087],\n",
       "        [ 0.04016648,  0.02377553, -0.03664791, ...,  0.12073226,\n",
       "          0.06798039,  0.09909759]], dtype=float32)>,\n",
       " <tf.Variable 'bidirectional_3/backward_lstm_3/bias:0' shape=(128,) dtype=float32, numpy=\n",
       " array([-2.72045657e-03, -6.37329742e-02,  2.33232193e-02, -1.69143468e-01,\n",
       "        -2.09527060e-01, -4.16323729e-02, -9.81004257e-03,  1.72163788e-02,\n",
       "        -9.37851891e-02, -4.49752249e-02, -5.47436699e-02, -8.11306611e-02,\n",
       "         2.18446031e-02, -1.73473492e-01, -2.45598424e-02,  6.44656047e-02,\n",
       "        -1.32943541e-01,  5.60189225e-02, -1.33174881e-02, -1.32336408e-01,\n",
       "        -2.52187010e-02, -7.74232298e-02,  7.76004121e-02,  3.60216871e-02,\n",
       "        -7.71271288e-02, -2.60809481e-01,  3.78786437e-02, -1.08167149e-01,\n",
       "        -1.10715687e-01, -1.03344545e-01, -2.37271562e-02, -1.14200331e-01,\n",
       "         1.09702528e+00,  1.21416211e+00,  1.13922417e+00,  9.47130263e-01,\n",
       "         1.25146019e+00,  1.08819222e+00,  1.13288128e+00,  1.21783519e+00,\n",
       "         1.01990759e+00,  1.03458726e+00,  1.04498768e+00,  9.96141016e-01,\n",
       "         1.06004560e+00,  1.03086090e+00,  1.08774459e+00,  1.17237437e+00,\n",
       "         1.00668824e+00,  1.13512111e+00,  1.05519104e+00,  1.11628270e+00,\n",
       "         1.03863072e+00,  1.08051896e+00,  1.15511715e+00,  9.66780722e-01,\n",
       "         1.02421641e+00,  9.97292399e-01,  1.17767429e+00,  9.14483428e-01,\n",
       "         1.14577985e+00,  1.02844954e+00,  1.13489401e+00,  9.67161059e-01,\n",
       "         8.33409559e-03,  3.36621702e-03,  2.08182111e-02, -8.38947445e-02,\n",
       "        -7.99217299e-02,  4.31645140e-02, -3.71109135e-02, -7.52125226e-04,\n",
       "        -1.08222626e-01, -1.61955711e-02,  7.24983662e-02, -1.71908699e-02,\n",
       "         2.82938164e-02, -1.13960290e-02,  6.96151424e-03,  7.57370740e-02,\n",
       "        -6.85510263e-02,  2.95861289e-02,  7.35068396e-02,  2.33633388e-02,\n",
       "         3.09973024e-03, -3.42254303e-02, -4.94142622e-03, -1.22897644e-02,\n",
       "         1.83383320e-02, -1.77106392e-02, -3.76661010e-02,  3.52538377e-02,\n",
       "        -6.36259541e-02,  3.12978886e-02,  1.08057661e-02, -1.03150634e-02,\n",
       "        -5.22425806e-04,  6.85912184e-03,  5.17456010e-02, -5.74744903e-02,\n",
       "         1.40427977e-01,  7.88103938e-02,  2.08955146e-02,  5.15496284e-02,\n",
       "        -4.20365967e-02, -4.55570370e-02, -3.26779112e-02, -4.33140509e-02,\n",
       "         1.45534882e-02, -5.81332594e-02,  3.87748820e-03,  3.95759046e-02,\n",
       "        -2.28650700e-02,  2.92114876e-02, -2.18846314e-02, -1.87270329e-04,\n",
       "         3.85329337e-03,  7.44557381e-02,  4.07112539e-02, -2.47513168e-02,\n",
       "        -1.21425455e-02, -1.26960084e-01,  6.86919540e-02, -9.37088206e-02,\n",
       "         2.82843001e-02, -2.21127868e-02,  3.16485879e-04, -9.62470025e-02],\n",
       "       dtype=float32)>,\n",
       " <tf.Variable 'dense_2/kernel:0' shape=(64, 1) dtype=float32, numpy=\n",
       " array([[-0.27763557],\n",
       "        [-0.2977522 ],\n",
       "        [-0.05100188],\n",
       "        [ 0.21379094],\n",
       "        [ 0.02025618],\n",
       "        [ 0.12437901],\n",
       "        [-0.02929523],\n",
       "        [-0.29480454],\n",
       "        [ 0.13943784],\n",
       "        [-0.12519932],\n",
       "        [-0.09593523],\n",
       "        [-0.08265804],\n",
       "        [-0.19791088],\n",
       "        [-0.2529526 ],\n",
       "        [-0.08830561],\n",
       "        [ 0.06863447],\n",
       "        [-0.04679227],\n",
       "        [-0.06796194],\n",
       "        [-0.15270501],\n",
       "        [-0.12093705],\n",
       "        [-0.10384774],\n",
       "        [-0.17229553],\n",
       "        [ 0.24522765],\n",
       "        [-0.09685797],\n",
       "        [ 0.10253298],\n",
       "        [-0.28337765],\n",
       "        [-0.13597734],\n",
       "        [-0.26175255],\n",
       "        [ 0.2746525 ],\n",
       "        [-0.06126269],\n",
       "        [-0.00966998],\n",
       "        [-0.06202791],\n",
       "        [-0.15871517],\n",
       "        [-0.260559  ],\n",
       "        [-0.11313813],\n",
       "        [ 0.14396755],\n",
       "        [ 0.48226324],\n",
       "        [-0.31785703],\n",
       "        [ 0.33571744],\n",
       "        [-0.32326514],\n",
       "        [-0.24184628],\n",
       "        [ 0.14519462],\n",
       "        [-0.06002718],\n",
       "        [ 0.39184412],\n",
       "        [-0.07917571],\n",
       "        [ 0.11315099],\n",
       "        [-0.18722571],\n",
       "        [-0.27142742],\n",
       "        [-0.35931358],\n",
       "        [-0.02254523],\n",
       "        [ 0.10122698],\n",
       "        [ 0.3234135 ],\n",
       "        [ 0.42739528],\n",
       "        [ 0.36960238],\n",
       "        [-0.05544163],\n",
       "        [-0.28061244],\n",
       "        [-0.22427651],\n",
       "        [ 0.35615346],\n",
       "        [-0.3020954 ],\n",
       "        [ 0.2264599 ],\n",
       "        [ 0.12113839],\n",
       "        [ 0.31751832],\n",
       "        [-0.42539778],\n",
       "        [ 0.25455302]], dtype=float32)>,\n",
       " <tf.Variable 'dense_2/bias:0' shape=(1,) dtype=float32, numpy=array([0.03195005], dtype=float32)>]"
      ]
     },
     "execution_count": 28,
     "metadata": {},
     "output_type": "execute_result"
    }
   ],
   "source": [
    "d_model.weights"
   ]
  }
 ],
 "metadata": {
  "kernelspec": {
   "display_name": "Python 3.7 (tensorflow)",
   "language": "python",
   "name": "tensorflow"
  },
  "language_info": {
   "codemirror_mode": {
    "name": "ipython",
    "version": 3
   },
   "file_extension": ".py",
   "mimetype": "text/x-python",
   "name": "python",
   "nbconvert_exporter": "python",
   "pygments_lexer": "ipython3",
   "version": "3.7.7"
  }
 },
 "nbformat": 4,
 "nbformat_minor": 4
}
