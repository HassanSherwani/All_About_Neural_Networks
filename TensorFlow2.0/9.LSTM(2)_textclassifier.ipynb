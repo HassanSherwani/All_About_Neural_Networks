{
 "cells": [
  {
   "cell_type": "markdown",
   "metadata": {},
   "source": [
    "# Implementing LSTM\n",
    "\n",
    "Using Fake news classifier"
   ]
  },
  {
   "cell_type": "markdown",
   "metadata": {},
   "source": [
    "# 1)- Import Key Modules"
   ]
  },
  {
   "cell_type": "code",
   "execution_count": 1,
   "metadata": {},
   "outputs": [],
   "source": [
    "# support both Python 2 and Python 3 with minimal overhead.\n",
    "from __future__ import absolute_import, division, print_function\n",
    "\n",
    "# I am an engineer. I care only about error not warning. So, let's be maverick and ignore warnings.\n",
    "import warnings\n",
    "warnings.filterwarnings('ignore')"
   ]
  },
  {
   "cell_type": "code",
   "execution_count": 2,
   "metadata": {},
   "outputs": [
    {
     "name": "stderr",
     "output_type": "stream",
     "text": [
      "[nltk_data] Downloading package stopwords to\n",
      "[nltk_data]     C:\\Users\\hassan.sherwani\\AppData\\Roaming\\nltk_data...\n",
      "[nltk_data]   Package stopwords is already up-to-date!\n"
     ]
    },
    {
     "data": {
      "text/plain": [
       "True"
      ]
     },
     "execution_count": 2,
     "metadata": {},
     "output_type": "execute_result"
    }
   ],
   "source": [
    "import pandas as pd\n",
    "import numpy as np\n",
    "from sklearn.model_selection import train_test_split\n",
    "from sklearn.metrics import accuracy_score\n",
    "from sklearn.metrics import confusion_matrix\n",
    "import nltk\n",
    "import re\n",
    "from nltk.corpus import stopwords\n",
    "from nltk.stem.porter import PorterStemmer\n",
    "ps = PorterStemmer()\n",
    "nltk.download('stopwords')"
   ]
  },
  {
   "cell_type": "code",
   "execution_count": 3,
   "metadata": {},
   "outputs": [],
   "source": [
    "from tensorflow.keras.layers import Embedding\n",
    "from tensorflow.keras.preprocessing.sequence import pad_sequences\n",
    "from tensorflow.keras.models import Sequential\n",
    "from tensorflow.keras.layers import Dropout\n",
    "from tensorflow.keras.preprocessing.text import one_hot\n",
    "from tensorflow.keras.layers import LSTM\n",
    "from tensorflow.keras.layers import Dense"
   ]
  },
  {
   "cell_type": "markdown",
   "metadata": {},
   "source": [
    "# 2- Loading and preparing data\n",
    "\n",
    "- Dataset: https://www.kaggle.com/c/fake-news/data#"
   ]
  },
  {
   "cell_type": "code",
   "execution_count": 4,
   "metadata": {},
   "outputs": [
    {
     "data": {
      "text/plain": [
       "(20800, 5)"
      ]
     },
     "execution_count": 4,
     "metadata": {},
     "output_type": "execute_result"
    }
   ],
   "source": [
    "df=pd.read_csv('train.csv')\n",
    "df.shape"
   ]
  },
  {
   "cell_type": "code",
   "execution_count": 5,
   "metadata": {},
   "outputs": [
    {
     "data": {
      "text/html": [
       "<div>\n",
       "<style scoped>\n",
       "    .dataframe tbody tr th:only-of-type {\n",
       "        vertical-align: middle;\n",
       "    }\n",
       "\n",
       "    .dataframe tbody tr th {\n",
       "        vertical-align: top;\n",
       "    }\n",
       "\n",
       "    .dataframe thead th {\n",
       "        text-align: right;\n",
       "    }\n",
       "</style>\n",
       "<table border=\"1\" class=\"dataframe\">\n",
       "  <thead>\n",
       "    <tr style=\"text-align: right;\">\n",
       "      <th></th>\n",
       "      <th>id</th>\n",
       "      <th>title</th>\n",
       "      <th>author</th>\n",
       "      <th>text</th>\n",
       "      <th>label</th>\n",
       "    </tr>\n",
       "  </thead>\n",
       "  <tbody>\n",
       "    <tr>\n",
       "      <th>0</th>\n",
       "      <td>0</td>\n",
       "      <td>House Dem Aide: We Didn’t Even See Comey’s Let...</td>\n",
       "      <td>Darrell Lucus</td>\n",
       "      <td>House Dem Aide: We Didn’t Even See Comey’s Let...</td>\n",
       "      <td>1</td>\n",
       "    </tr>\n",
       "    <tr>\n",
       "      <th>1</th>\n",
       "      <td>1</td>\n",
       "      <td>FLYNN: Hillary Clinton, Big Woman on Campus - ...</td>\n",
       "      <td>Daniel J. Flynn</td>\n",
       "      <td>Ever get the feeling your life circles the rou...</td>\n",
       "      <td>0</td>\n",
       "    </tr>\n",
       "    <tr>\n",
       "      <th>2</th>\n",
       "      <td>2</td>\n",
       "      <td>Why the Truth Might Get You Fired</td>\n",
       "      <td>Consortiumnews.com</td>\n",
       "      <td>Why the Truth Might Get You Fired October 29, ...</td>\n",
       "      <td>1</td>\n",
       "    </tr>\n",
       "  </tbody>\n",
       "</table>\n",
       "</div>"
      ],
      "text/plain": [
       "   id                                              title              author  \\\n",
       "0   0  House Dem Aide: We Didn’t Even See Comey’s Let...       Darrell Lucus   \n",
       "1   1  FLYNN: Hillary Clinton, Big Woman on Campus - ...     Daniel J. Flynn   \n",
       "2   2                  Why the Truth Might Get You Fired  Consortiumnews.com   \n",
       "\n",
       "                                                text  label  \n",
       "0  House Dem Aide: We Didn’t Even See Comey’s Let...      1  \n",
       "1  Ever get the feeling your life circles the rou...      0  \n",
       "2  Why the Truth Might Get You Fired October 29, ...      1  "
      ]
     },
     "execution_count": 5,
     "metadata": {},
     "output_type": "execute_result"
    }
   ],
   "source": [
    "df.head(3)"
   ]
  },
  {
   "cell_type": "code",
   "execution_count": 6,
   "metadata": {},
   "outputs": [
    {
     "data": {
      "text/plain": [
       "id           0\n",
       "title      558\n",
       "author    1957\n",
       "text        39\n",
       "label        0\n",
       "dtype: int64"
      ]
     },
     "execution_count": 6,
     "metadata": {},
     "output_type": "execute_result"
    }
   ],
   "source": [
    "df.isnull().sum()"
   ]
  },
  {
   "cell_type": "code",
   "execution_count": 7,
   "metadata": {},
   "outputs": [
    {
     "data": {
      "text/plain": [
       "(18285, 5)"
      ]
     },
     "execution_count": 7,
     "metadata": {},
     "output_type": "execute_result"
    }
   ],
   "source": [
    "###Drop Nan Values\n",
    "df=df.dropna()\n",
    "df.shape"
   ]
  },
  {
   "cell_type": "code",
   "execution_count": 8,
   "metadata": {},
   "outputs": [],
   "source": [
    "df.to_csv('ready_data.csv', index=0)"
   ]
  },
  {
   "cell_type": "code",
   "execution_count": 9,
   "metadata": {},
   "outputs": [
    {
     "data": {
      "text/plain": [
       "(18285, 5)"
      ]
     },
     "execution_count": 9,
     "metadata": {},
     "output_type": "execute_result"
    }
   ],
   "source": [
    "df=pd.read_csv('ready_data.csv')\n",
    "df.shape"
   ]
  },
  {
   "cell_type": "code",
   "execution_count": 10,
   "metadata": {},
   "outputs": [
    {
     "data": {
      "text/plain": [
       "0    10361\n",
       "1     7924\n",
       "Name: label, dtype: int64"
      ]
     },
     "execution_count": 10,
     "metadata": {},
     "output_type": "execute_result"
    }
   ],
   "source": [
    "# check target variable for class balance\n",
    "df.label.value_counts()"
   ]
  },
  {
   "cell_type": "code",
   "execution_count": 11,
   "metadata": {},
   "outputs": [
    {
     "data": {
      "text/plain": [
       "0    0.566639\n",
       "1    0.433361\n",
       "Name: label, dtype: float64"
      ]
     },
     "execution_count": 11,
     "metadata": {},
     "output_type": "execute_result"
    }
   ],
   "source": [
    "df.label.value_counts(normalize=True)"
   ]
  },
  {
   "cell_type": "code",
   "execution_count": 12,
   "metadata": {},
   "outputs": [
    {
     "data": {
      "text/plain": [
       "<matplotlib.axes._subplots.AxesSubplot at 0x21ea49d1ac8>"
      ]
     },
     "execution_count": 12,
     "metadata": {},
     "output_type": "execute_result"
    },
    {
     "data": {
      "image/png": "[encoded data removed]",
      "text/plain": [
       "<Figure size 432x288 with 1 Axes>"
      ]
     },
     "metadata": {
      "needs_background": "light"
     },
     "output_type": "display_data"
    }
   ],
   "source": [
    "df.label.value_counts().plot(kind='bar')"
   ]
  },
  {
   "cell_type": "markdown",
   "metadata": {},
   "source": [
    "### 2.1. Corpus building\n",
    "\n",
    "1st clean data and then store"
   ]
  },
  {
   "cell_type": "code",
   "execution_count": 13,
   "metadata": {},
   "outputs": [
    {
     "data": {
      "text/html": [
       "<div>\n",
       "<style scoped>\n",
       "    .dataframe tbody tr th:only-of-type {\n",
       "        vertical-align: middle;\n",
       "    }\n",
       "\n",
       "    .dataframe tbody tr th {\n",
       "        vertical-align: top;\n",
       "    }\n",
       "\n",
       "    .dataframe thead th {\n",
       "        text-align: right;\n",
       "    }\n",
       "</style>\n",
       "<table border=\"1\" class=\"dataframe\">\n",
       "  <thead>\n",
       "    <tr style=\"text-align: right;\">\n",
       "      <th></th>\n",
       "      <th>id</th>\n",
       "      <th>title</th>\n",
       "      <th>author</th>\n",
       "      <th>text</th>\n",
       "      <th>label</th>\n",
       "    </tr>\n",
       "  </thead>\n",
       "  <tbody>\n",
       "    <tr>\n",
       "      <th>0</th>\n",
       "      <td>0</td>\n",
       "      <td>House Dem Aide: We Didn’t Even See Comey’s Let...</td>\n",
       "      <td>Darrell Lucus</td>\n",
       "      <td>House Dem Aide: We Didn’t Even See Comey’s Let...</td>\n",
       "      <td>1</td>\n",
       "    </tr>\n",
       "    <tr>\n",
       "      <th>1</th>\n",
       "      <td>1</td>\n",
       "      <td>FLYNN: Hillary Clinton, Big Woman on Campus - ...</td>\n",
       "      <td>Daniel J. Flynn</td>\n",
       "      <td>Ever get the feeling your life circles the rou...</td>\n",
       "      <td>0</td>\n",
       "    </tr>\n",
       "  </tbody>\n",
       "</table>\n",
       "</div>"
      ],
      "text/plain": [
       "   id                                              title           author  \\\n",
       "0   0  House Dem Aide: We Didn’t Even See Comey’s Let...    Darrell Lucus   \n",
       "1   1  FLYNN: Hillary Clinton, Big Woman on Campus - ...  Daniel J. Flynn   \n",
       "\n",
       "                                                text  label  \n",
       "0  House Dem Aide: We Didn’t Even See Comey’s Let...      1  \n",
       "1  Ever get the feeling your life circles the rou...      0  "
      ]
     },
     "execution_count": 13,
     "metadata": {},
     "output_type": "execute_result"
    }
   ],
   "source": [
    "df.head(2)"
   ]
  },
  {
   "cell_type": "code",
   "execution_count": 14,
   "metadata": {},
   "outputs": [],
   "source": [
    "text_to_clean=df[['title']]\n",
    "titles=text_to_clean.copy()"
   ]
  },
  {
   "cell_type": "code",
   "execution_count": 15,
   "metadata": {},
   "outputs": [],
   "source": [
    "ps = PorterStemmer()\n",
    "corpus = []\n",
    "for i in range(0, len(titles)):\n",
    "    review = re.sub('[^a-zA-Z]', ' ', titles['title'][i])\n",
    "    review = review.lower()\n",
    "    review = review.split()\n",
    "    \n",
    "    review = [ps.stem(word) for word in review if not word in stopwords.words('english')]\n",
    "    review = ' '.join(review)\n",
    "    corpus.append(review)"
   ]
  },
  {
   "cell_type": "code",
   "execution_count": 16,
   "metadata": {},
   "outputs": [
    {
     "data": {
      "text/plain": [
       "['hous dem aid even see comey letter jason chaffetz tweet',\n",
       " 'flynn hillari clinton big woman campu breitbart',\n",
       " 'truth might get fire',\n",
       " 'civilian kill singl us airstrik identifi',\n",
       " 'iranian woman jail fiction unpublish stori woman stone death adulteri']"
      ]
     },
     "execution_count": 16,
     "metadata": {},
     "output_type": "execute_result"
    }
   ],
   "source": [
    "corpus[:5]"
   ]
  },
  {
   "cell_type": "code",
   "execution_count": 17,
   "metadata": {},
   "outputs": [],
   "source": [
    "df['clean']=corpus"
   ]
  },
  {
   "cell_type": "code",
   "execution_count": 18,
   "metadata": {},
   "outputs": [],
   "source": [
    "## Get the Independent Features\n",
    "X=df[['clean']]\n",
    "## Get the Dependent features\n",
    "y=df['label']"
   ]
  },
  {
   "cell_type": "code",
   "execution_count": 19,
   "metadata": {},
   "outputs": [
    {
     "name": "stdout",
     "output_type": "stream",
     "text": [
      "(18285, 1)\n",
      "(18285,)\n"
     ]
    }
   ],
   "source": [
    "print(X.shape)\n",
    "print(y.shape)"
   ]
  },
  {
   "cell_type": "markdown",
   "metadata": {},
   "source": [
    "### 2.2.One_hot encoding"
   ]
  },
  {
   "cell_type": "code",
   "execution_count": 20,
   "metadata": {},
   "outputs": [
    {
     "data": {
      "text/plain": [
       "[[4751, 4498, 3553, 1624, 1464, 1834, 651, 4949, 4452, 386],\n",
       " [3664, 3405, 2320, 4905, 878, 3114, 4319],\n",
       " [4076, 2223, 1060, 1306],\n",
       " [1747, 1733, 1468, 3430, 1608, 2138],\n",
       " [3791, 878, 1215, 1584, 711, 1532, 878, 4651, 3991, 805]]"
      ]
     },
     "execution_count": 20,
     "metadata": {},
     "output_type": "execute_result"
    }
   ],
   "source": [
    "### Vocabulary size\n",
    "voc_size=5000\n",
    "onehot_repr=[one_hot(words,voc_size)for words in corpus] \n",
    "onehot_repr[:5]"
   ]
  },
  {
   "cell_type": "markdown",
   "metadata": {},
   "source": [
    "[hous dem aid even see comey letter jason chaffetz tweet] is encoded as\n",
    "\n",
    "[2620, 3271, 469, 1972, 4408, 2180, 4327, 2937, 2257, 2824]"
   ]
  },
  {
   "cell_type": "markdown",
   "metadata": {},
   "source": [
    "### 2.3.Embedding Representation (padding)"
   ]
  },
  {
   "cell_type": "code",
   "execution_count": 21,
   "metadata": {},
   "outputs": [],
   "source": [
    "#checking average sentence length\n",
    "import numpy as np\n",
    "\n",
    "average_length = np.mean([len(x) for x in X])\n",
    "#median_length = sorted([len(x) for x in X])[len(X)  // 2]"
   ]
  },
  {
   "cell_type": "code",
   "execution_count": 22,
   "metadata": {},
   "outputs": [
    {
     "name": "stdout",
     "output_type": "stream",
     "text": [
      "Average sequence length:  5.0\n"
     ]
    }
   ],
   "source": [
    "print(\"Average sequence length: \", average_length)\n",
    "#print(\"Median sequence length: \", median_length)"
   ]
  },
  {
   "cell_type": "code",
   "execution_count": 23,
   "metadata": {},
   "outputs": [
    {
     "data": {
      "text/plain": [
       "5.125"
      ]
     },
     "execution_count": 23,
     "metadata": {},
     "output_type": "execute_result"
    }
   ],
   "source": [
    "string=str(X)\n",
    "sents =string.split('.')\n",
    "avg_len = sum(len(x.split()) for x in sents) / len(sents)\n",
    "avg_len"
   ]
  },
  {
   "cell_type": "code",
   "execution_count": 24,
   "metadata": {},
   "outputs": [
    {
     "name": "stdout",
     "output_type": "stream",
     "text": [
      "[[   0    0    0    0    0    0    0    0    0    0 4751 4498 3553 1624\n",
      "  1464 1834  651 4949 4452  386]\n",
      " [   0    0    0    0    0    0    0    0    0    0    0    0    0 3664\n",
      "  3405 2320 4905  878 3114 4319]\n",
      " [   0    0    0    0    0    0    0    0    0    0    0    0    0    0\n",
      "     0    0 4076 2223 1060 1306]\n",
      " [   0    0    0    0    0    0    0    0    0    0    0    0    0    0\n",
      "  1747 1733 1468 3430 1608 2138]\n",
      " [   0    0    0    0    0    0    0    0    0    0 3791  878 1215 1584\n",
      "   711 1532  878 4651 3991  805]]\n"
     ]
    }
   ],
   "source": [
    "#padding based on our average length\n",
    "sent_length=20\n",
    "embedded_docs=pad_sequences(onehot_repr,padding='pre',maxlen=sent_length)\n",
    "print(embedded_docs[:5])"
   ]
  },
  {
   "cell_type": "markdown",
   "metadata": {},
   "source": [
    "Notice that sentence lenth is 20 and our 1st sentence has 10 words. So all other words are padded as zeros."
   ]
  },
  {
   "cell_type": "markdown",
   "metadata": {},
   "source": [
    "# 3- Model"
   ]
  },
  {
   "cell_type": "code",
   "execution_count": 25,
   "metadata": {},
   "outputs": [],
   "source": [
    "embedding_vector_features=40 # dimension of embedding layer\n",
    "voc_size=5000\n",
    "sent_length=20\n",
    "output_layer= 1 \n",
    "epochs=10\n",
    "batch_size=64"
   ]
  },
  {
   "cell_type": "markdown",
   "metadata": {},
   "source": [
    "### 3.1. Defining basic model architecture"
   ]
  },
  {
   "cell_type": "code",
   "execution_count": 26,
   "metadata": {},
   "outputs": [],
   "source": [
    "model=Sequential()\n",
    "model.add(Embedding(voc_size,embedding_vector_features,input_length=sent_length))\n",
    "model.add(LSTM(100 )) # one lstm layer with 100 neurons\n",
    "model.add(Dense(output_layer,activation='sigmoid'))"
   ]
  },
  {
   "cell_type": "code",
   "execution_count": 27,
   "metadata": {},
   "outputs": [],
   "source": [
    "model.compile(loss='binary_crossentropy',optimizer='adam',metrics=['accuracy'])"
   ]
  },
  {
   "cell_type": "code",
   "execution_count": 28,
   "metadata": {},
   "outputs": [
    {
     "name": "stdout",
     "output_type": "stream",
     "text": [
      "Model: \"sequential\"\n",
      "_________________________________________________________________\n",
      "Layer (type)                 Output Shape              Param #   \n",
      "=================================================================\n",
      "embedding (Embedding)        (None, 20, 40)            200000    \n",
      "_________________________________________________________________\n",
      "lstm (LSTM)                  (None, 100)               56400     \n",
      "_________________________________________________________________\n",
      "dense (Dense)                (None, 1)                 101       \n",
      "=================================================================\n",
      "Total params: 256,501\n",
      "Trainable params: 256,501\n",
      "Non-trainable params: 0\n",
      "_________________________________________________________________\n",
      "None\n"
     ]
    }
   ],
   "source": [
    "print(model.summary())"
   ]
  },
  {
   "cell_type": "markdown",
   "metadata": {},
   "source": [
    "##### Summary params calculation\n",
    "\n",
    "https://datascience.stackexchange.com/questions/10615/number-of-parameters-in-an-lstm-model"
   ]
  },
  {
   "cell_type": "markdown",
   "metadata": {},
   "source": [
    "**There are three steps:**\n",
    "\n",
    "- For embedding layer: Dim of embedded layer(40) * vocab_size(5000)\n",
    "\n",
    "- For LSTM Layer: Now formula is **#of params=g*[h(h+i)+biase]**\n",
    "\n",
    "where g=lstm layer length i.e 1. For FFNS, RNN has 1 , LSTM has 4 and GRU has 3 layers<br>\n",
    "h=hidden layer size (number of neurons in hidden layer) i.e 100<br> \n",
    "i=Input size/dimension i.e embedding_vector_features that is coming as an input on lstm layer in step2 (40 is value) <br>\n",
    "biase= 100 of neurons for outpt of lstm layer\n",
    "\n",
    "**4*[100(100+40)+100]**\n",
    "\n",
    "- For Dense (Output): lstm layer acting as input(100) * neurons in output layer(1) + biase(1 as there is only one neuron in output layer)"
   ]
  },
  {
   "cell_type": "code",
   "execution_count": 29,
   "metadata": {},
   "outputs": [
    {
     "data": {
      "text/plain": [
       "(18285, (18285,))"
      ]
     },
     "execution_count": 29,
     "metadata": {},
     "output_type": "execute_result"
    }
   ],
   "source": [
    "len(embedded_docs),y.shape"
   ]
  },
  {
   "cell_type": "code",
   "execution_count": 30,
   "metadata": {},
   "outputs": [],
   "source": [
    "X_final=np.array(embedded_docs)\n",
    "y_final=np.array(y)"
   ]
  },
  {
   "cell_type": "code",
   "execution_count": 31,
   "metadata": {},
   "outputs": [
    {
     "name": "stdout",
     "output_type": "stream",
     "text": [
      "(18285, 20)\n",
      "(18285,)\n"
     ]
    }
   ],
   "source": [
    "print(X_final.shape)\n",
    "print(y_final.shape)"
   ]
  },
  {
   "cell_type": "markdown",
   "metadata": {},
   "source": [
    "### 3.2.split train_test"
   ]
  },
  {
   "cell_type": "code",
   "execution_count": 32,
   "metadata": {},
   "outputs": [],
   "source": [
    "from sklearn.model_selection import train_test_split\n",
    "X_train, X_test, y_train, y_test = train_test_split(X_final, y_final, test_size=0.20, random_state=42)"
   ]
  },
  {
   "cell_type": "markdown",
   "metadata": {},
   "source": [
    "### 3.3.Model Training"
   ]
  },
  {
   "cell_type": "code",
   "execution_count": 33,
   "metadata": {},
   "outputs": [
    {
     "name": "stdout",
     "output_type": "stream",
     "text": [
      "Train on 14628 samples, validate on 3657 samples\n",
      "Epoch 1/10\n",
      "14628/14628 [==============================] - 6s 405us/sample - loss: 0.3031 - accuracy: 0.8570 - val_loss: 0.1925 - val_accuracy: 0.9136\n",
      "Epoch 2/10\n",
      "14628/14628 [==============================] - 4s 246us/sample - loss: 0.1348 - accuracy: 0.9463 - val_loss: 0.2022 - val_accuracy: 0.9188\n",
      "Epoch 3/10\n",
      "14628/14628 [==============================] - 3s 239us/sample - loss: 0.0964 - accuracy: 0.9632 - val_loss: 0.2159 - val_accuracy: 0.9185\n",
      "Epoch 4/10\n",
      "14628/14628 [==============================] - 4s 244us/sample - loss: 0.0746 - accuracy: 0.9736 - val_loss: 0.2432 - val_accuracy: 0.9122\n",
      "Epoch 5/10\n",
      "14628/14628 [==============================] - 4s 242us/sample - loss: 0.0547 - accuracy: 0.9821 - val_loss: 0.2733 - val_accuracy: 0.9141\n",
      "Epoch 6/10\n",
      "14628/14628 [==============================] - 4s 247us/sample - loss: 0.0369 - accuracy: 0.9878 - val_loss: 0.3097 - val_accuracy: 0.9070\n",
      "Epoch 7/10\n",
      "14628/14628 [==============================] - 4s 248us/sample - loss: 0.0271 - accuracy: 0.9921 - val_loss: 0.3886 - val_accuracy: 0.9119\n",
      "Epoch 8/10\n",
      "14628/14628 [==============================] - 4s 252us/sample - loss: 0.0214 - accuracy: 0.9931 - val_loss: 0.4313 - val_accuracy: 0.9029\n",
      "Epoch 9/10\n",
      "14628/14628 [==============================] - 4s 250us/sample - loss: 0.0148 - accuracy: 0.9957 - val_loss: 0.4840 - val_accuracy: 0.9070\n",
      "Epoch 10/10\n",
      "14628/14628 [==============================] - 4s 253us/sample - loss: 0.0109 - accuracy: 0.9968 - val_loss: 0.5213 - val_accuracy: 0.9076\n"
     ]
    }
   ],
   "source": [
    "history=model.fit(X_train,y_train,validation_data=(X_test,y_test),epochs=epochs,batch_size=batch_size)"
   ]
  },
  {
   "cell_type": "markdown",
   "metadata": {},
   "source": [
    "### 3.4. evaluate model"
   ]
  },
  {
   "cell_type": "code",
   "execution_count": 34,
   "metadata": {},
   "outputs": [
    {
     "data": {
      "text/plain": [
       "array([[1],\n",
       "       [0],\n",
       "       [0],\n",
       "       [0],\n",
       "       [1]])"
      ]
     },
     "execution_count": 34,
     "metadata": {},
     "output_type": "execute_result"
    }
   ],
   "source": [
    "y_pred=model.predict_classes(X_test)\n",
    "y_pred[:5]"
   ]
  },
  {
   "cell_type": "code",
   "execution_count": 35,
   "metadata": {},
   "outputs": [
    {
     "data": {
      "text/plain": [
       "array([[1864,  218],\n",
       "       [ 120, 1455]], dtype=int64)"
      ]
     },
     "execution_count": 35,
     "metadata": {},
     "output_type": "execute_result"
    }
   ],
   "source": [
    "confusion_matrix(y_test,y_pred)"
   ]
  },
  {
   "cell_type": "code",
   "execution_count": 36,
   "metadata": {},
   "outputs": [
    {
     "data": {
      "text/plain": [
       "0.9075745146294777"
      ]
     },
     "execution_count": 36,
     "metadata": {},
     "output_type": "execute_result"
    }
   ],
   "source": [
    "accuracy_score(y_test,y_pred)"
   ]
  },
  {
   "cell_type": "markdown",
   "metadata": {},
   "source": [
    "### 3.5.Plotting loss and accuracy scores"
   ]
  },
  {
   "cell_type": "code",
   "execution_count": 37,
   "metadata": {},
   "outputs": [
    {
     "name": "stdout",
     "output_type": "stream",
     "text": [
      "Training Accuracy: 0.9990\n",
      "Training Loss: 0.0049\n"
     ]
    }
   ],
   "source": [
    "# for training set\n",
    "loss, accuracy = model.evaluate(X_train, y_train, verbose=0)\n",
    "print(\"Training Accuracy: {:.4f}\".format(accuracy))\n",
    "print(\"Training Loss: {:.4f}\".format(loss))"
   ]
  },
  {
   "cell_type": "code",
   "execution_count": 38,
   "metadata": {},
   "outputs": [
    {
     "name": "stdout",
     "output_type": "stream",
     "text": [
      "Testing Accuracy:  0.9076\n",
      "Testing Loss:  0.5213\n"
     ]
    }
   ],
   "source": [
    "# For test set\n",
    "loss, accuracy = model.evaluate(X_test, y_test, verbose=False)\n",
    "print(\"Testing Accuracy:  {:.4f}\".format(accuracy))\n",
    "print(\"Testing Loss:  {:.4f}\".format(loss))"
   ]
  },
  {
   "cell_type": "code",
   "execution_count": 39,
   "metadata": {},
   "outputs": [],
   "source": [
    "import matplotlib.pyplot as plt\n",
    "plt.style.use('ggplot')\n",
    "\n",
    "def plot_history(history):\n",
    "    acc = history.history['accuracy']\n",
    "    val_acc = history.history['val_accuracy']\n",
    "    loss = history.history['loss']\n",
    "    val_loss = history.history['val_loss']\n",
    "    x = range(1, len(acc) + 1)\n",
    "\n",
    "    plt.figure(figsize=(12, 5))\n",
    "    plt.subplot(1, 2, 1)\n",
    "    plt.plot(x, acc, 'b', label='Training acc')\n",
    "    plt.plot(x, val_acc, 'r', label='Validation acc')\n",
    "    plt.title('Training and validation accuracy')\n",
    "    plt.legend()\n",
    "    plt.subplot(1, 2, 2)\n",
    "    plt.plot(x, loss, 'b', label='Training loss')\n",
    "    plt.plot(x, val_loss, 'r', label='Validation loss')\n",
    "    plt.title('Training and validation loss')\n",
    "    plt.legend()"
   ]
  },
  {
   "cell_type": "code",
   "execution_count": 40,
   "metadata": {},
   "outputs": [
    {
     "data": {
      "image/png": "[encoded data removed]",
      "text/plain": [
       "<Figure size 864x360 with 2 Axes>"
      ]
     },
     "metadata": {},
     "output_type": "display_data"
    }
   ],
   "source": [
    "plot_history(history)"
   ]
  },
  {
   "cell_type": "markdown",
   "metadata": {},
   "source": [
    "### 4- Improving model\n",
    "\n",
    "- change activation function: from sigmoid to relu\n",
    "- add dropout\n",
    "- use earlystopping\n",
    "- use balanced weight class\n",
    "- use delta for learning rate"
   ]
  },
  {
   "cell_type": "code",
   "execution_count": 41,
   "metadata": {},
   "outputs": [
    {
     "name": "stderr",
     "output_type": "stream",
     "text": [
      "Using TensorFlow backend.\n"
     ]
    }
   ],
   "source": [
    "from tensorflow.keras.layers import Dropout\n",
    "from keras.callbacks import EarlyStopping\n",
    "from sklearn.utils import class_weight\n",
    "\n",
    "class_weights = class_weight.compute_class_weight('balanced',\n",
    "                                                 np.unique(y_train),\n",
    "                                                 y_train)"
   ]
  },
  {
   "cell_type": "markdown",
   "metadata": {},
   "source": [
    "### 4.1. define new model"
   ]
  },
  {
   "cell_type": "code",
   "execution_count": 42,
   "metadata": {},
   "outputs": [
    {
     "name": "stdout",
     "output_type": "stream",
     "text": [
      "Model: \"sequential_1\"\n",
      "_________________________________________________________________\n",
      "Layer (type)                 Output Shape              Param #   \n",
      "=================================================================\n",
      "embedding_1 (Embedding)      (None, 20, 40)            200000    \n",
      "_________________________________________________________________\n",
      "dropout (Dropout)            (None, 20, 40)            0         \n",
      "_________________________________________________________________\n",
      "lstm_1 (LSTM)                (None, 100)               56400     \n",
      "_________________________________________________________________\n",
      "dropout_1 (Dropout)          (None, 100)               0         \n",
      "_________________________________________________________________\n",
      "dense_1 (Dense)              (None, 1)                 101       \n",
      "=================================================================\n",
      "Total params: 256,501\n",
      "Trainable params: 256,501\n",
      "Non-trainable params: 0\n",
      "_________________________________________________________________\n",
      "None\n"
     ]
    }
   ],
   "source": [
    "model_dropout=Sequential()\n",
    "model_dropout.add(Embedding(voc_size,embedding_vector_features,input_length=sent_length))\n",
    "model_dropout.add(Dropout(0.3))\n",
    "model_dropout.add(LSTM(100))\n",
    "model_dropout.add(Dropout(0.3))\n",
    "model_dropout.add(Dense(1,activation='relu'))\n",
    "model_dropout.compile(loss='binary_crossentropy',optimizer='adam',metrics=['accuracy'])\n",
    "print(model_dropout.summary())"
   ]
  },
  {
   "cell_type": "code",
   "execution_count": 43,
   "metadata": {},
   "outputs": [
    {
     "name": "stdout",
     "output_type": "stream",
     "text": [
      "Train on 14628 samples, validate on 3657 samples\n",
      "Epoch 1/10\n",
      "14628/14628 [==============================] - 6s 389us/sample - loss: 0.4514 - accuracy: 0.8000 - val_loss: 0.2333 - val_accuracy: 0.9062\n",
      "Epoch 2/10\n",
      "14628/14628 [==============================] - 3s 239us/sample - loss: 0.3030 - accuracy: 0.8544 - val_loss: 0.2723 - val_accuracy: 0.8942\n",
      "Epoch 3/10\n",
      "14628/14628 [==============================] - 4s 242us/sample - loss: 0.2018 - accuracy: 0.9415 - val_loss: 0.3921 - val_accuracy: 0.9136\n",
      "Epoch 4/10\n",
      "14628/14628 [==============================] - 4s 240us/sample - loss: 0.1655 - accuracy: 0.9597 - val_loss: 0.4237 - val_accuracy: 0.9177\n"
     ]
    }
   ],
   "source": [
    "history=model_dropout.fit(X_train,y_train,validation_data=(X_test,y_test),\n",
    "                          class_weight=class_weights,epochs=epochs,batch_size=batch_size,\n",
    "                          callbacks=[EarlyStopping(monitor='val_loss', patience=3, \n",
    "                                                   min_delta=0.0001)])"
   ]
  },
  {
   "cell_type": "code",
   "execution_count": 44,
   "metadata": {},
   "outputs": [
    {
     "data": {
      "text/plain": [
       "array([[1],\n",
       "       [0],\n",
       "       [0],\n",
       "       [1],\n",
       "       [1]])"
      ]
     },
     "execution_count": 44,
     "metadata": {},
     "output_type": "execute_result"
    }
   ],
   "source": [
    "y_pred=model_dropout.predict_classes(X_test)\n",
    "y_pred[:5]"
   ]
  },
  {
   "cell_type": "code",
   "execution_count": 45,
   "metadata": {},
   "outputs": [
    {
     "data": {
      "text/plain": [
       "0.9176920973475526"
      ]
     },
     "execution_count": 45,
     "metadata": {},
     "output_type": "execute_result"
    }
   ],
   "source": [
    "accuracy_score(y_test,y_pred)"
   ]
  },
  {
   "cell_type": "markdown",
   "metadata": {},
   "source": [
    "### 4.2. Plotting loss and accuracy scores"
   ]
  },
  {
   "cell_type": "code",
   "execution_count": 46,
   "metadata": {},
   "outputs": [
    {
     "name": "stdout",
     "output_type": "stream",
     "text": [
      "Training Accuracy: 0.9750\n",
      "Training Loss: 0.1235\n"
     ]
    }
   ],
   "source": [
    "# for training set\n",
    "loss, accuracy = model_dropout.evaluate(X_train, y_train, verbose=0)\n",
    "print(\"Training Accuracy: {:.4f}\".format(accuracy))\n",
    "print(\"Training Loss: {:.4f}\".format(loss))"
   ]
  },
  {
   "cell_type": "code",
   "execution_count": 47,
   "metadata": {},
   "outputs": [
    {
     "name": "stdout",
     "output_type": "stream",
     "text": [
      "Testing Accuracy:  0.9177\n",
      "Testing Loss:  0.4237\n"
     ]
    }
   ],
   "source": [
    "# For test set\n",
    "loss, accuracy = model_dropout.evaluate(X_test, y_test, verbose=False)\n",
    "print(\"Testing Accuracy:  {:.4f}\".format(accuracy))\n",
    "print(\"Testing Loss:  {:.4f}\".format(loss))"
   ]
  },
  {
   "cell_type": "code",
   "execution_count": 48,
   "metadata": {},
   "outputs": [],
   "source": [
    "import matplotlib.pyplot as plt\n",
    "plt.style.use('ggplot')\n",
    "def plot_history(history):\n",
    "    acc = history.history['accuracy']\n",
    "    val_acc = history.history['val_accuracy']\n",
    "    loss = history.history['loss']\n",
    "    val_loss = history.history['val_loss']\n",
    "    x = range(1, len(acc) + 1)\n",
    "\n",
    "    plt.figure(figsize=(12, 5))\n",
    "    plt.subplot(1, 2, 1)\n",
    "    plt.plot(x, acc, 'b', label='Training acc')\n",
    "    plt.plot(x, val_acc, 'r', label='Validation acc')\n",
    "    plt.title('Training and validation accuracy')\n",
    "    plt.legend()\n",
    "    plt.subplot(1, 2, 2)\n",
    "    plt.plot(x, loss, 'b', label='Training loss')\n",
    "    plt.plot(x, val_loss, 'r', label='Validation loss')\n",
    "    plt.title('Training and validation loss')\n",
    "    plt.legend()"
   ]
  },
  {
   "cell_type": "code",
   "execution_count": 49,
   "metadata": {},
   "outputs": [
    {
     "data": {
      "image/png": "[encoded data removed]",
      "text/plain": [
       "<Figure size 864x360 with 2 Axes>"
      ]
     },
     "metadata": {},
     "output_type": "display_data"
    }
   ],
   "source": [
    "plot_history(history)"
   ]
  },
  {
   "cell_type": "code",
   "execution_count": 50,
   "metadata": {},
   "outputs": [
    {
     "name": "stdout",
     "output_type": "stream",
     "text": [
      "              precision    recall  f1-score   support\n",
      "\n",
      "           0       0.96      0.90      0.93      2082\n",
      "           1       0.87      0.95      0.91      1575\n",
      "\n",
      "    accuracy                           0.92      3657\n",
      "   macro avg       0.91      0.92      0.92      3657\n",
      "weighted avg       0.92      0.92      0.92      3657\n",
      "\n"
     ]
    }
   ],
   "source": [
    "from sklearn.metrics import classification_report,confusion_matrix\n",
    "print(classification_report(y_test,y_pred))"
   ]
  },
  {
   "cell_type": "code",
   "execution_count": 51,
   "metadata": {},
   "outputs": [
    {
     "name": "stdout",
     "output_type": "stream",
     "text": [
      "[[1865  217]\n",
      " [  84 1491]]\n"
     ]
    }
   ],
   "source": [
    "cm=confusion_matrix(y_test,y_pred)\n",
    "print(cm)"
   ]
  },
  {
   "cell_type": "code",
   "execution_count": 52,
   "metadata": {},
   "outputs": [
    {
     "name": "stdout",
     "output_type": "stream",
     "text": [
      "Populating the interactive namespace from numpy and matplotlib\n"
     ]
    },
    {
     "data": {
      "text/plain": [
       "<Figure size 720x720 with 0 Axes>"
      ]
     },
     "metadata": {},
     "output_type": "display_data"
    },
    {
     "data": {
      "image/png": "[encoded data removed]",
      "text/plain": [
       "<Figure size 432x288 with 2 Axes>"
      ]
     },
     "metadata": {
      "needs_background": "light"
     },
     "output_type": "display_data"
    }
   ],
   "source": [
    "import matplotlib.pyplot as plt\n",
    "%matplotlib inline\n",
    "%pylab inline\n",
    "import scikitplot as skplt\n",
    "plt.figure(figsize=(10,10))\n",
    "skplt.metrics.plot_confusion_matrix(y_test,y_pred)\n",
    "plt.show()"
   ]
  },
  {
   "cell_type": "markdown",
   "metadata": {},
   "source": [
    "### 4.3.weights at each step of neural network at each time step"
   ]
  },
  {
   "cell_type": "code",
   "execution_count": 53,
   "metadata": {},
   "outputs": [
    {
     "data": {
      "image/png": "[encoded data removed]",
      "text/plain": [
       "<Figure size 432x288 with 1 Axes>"
      ]
     },
     "metadata": {
      "needs_background": "light"
     },
     "output_type": "display_data"
    }
   ],
   "source": [
    "plt.hist(model.get_weights()[0].ravel(),100)\n",
    "plt.show()"
   ]
  },
  {
   "cell_type": "code",
   "execution_count": 54,
   "metadata": {},
   "outputs": [
    {
     "data": {
      "text/plain": [
       "[<tf.Variable 'embedding/embeddings:0' shape=(5000, 40) dtype=float32, numpy=\n",
       " array([[ 0.02214268,  0.04248355,  0.05595842, ..., -0.02033193,\n",
       "          0.04759214,  0.0136544 ],\n",
       "        [ 0.02575517,  0.04924141, -0.05658372, ..., -0.06777988,\n",
       "          0.00444   ,  0.04368613],\n",
       "        [ 0.07429782,  0.01409895,  0.02810419, ..., -0.07397592,\n",
       "          0.07227699,  0.01396539],\n",
       "        ...,\n",
       "        [ 0.07635526,  0.12289315, -0.15514944, ..., -0.11445751,\n",
       "          0.11464829,  0.10326262],\n",
       "        [ 0.05201024,  0.09898616, -0.04086271, ..., -0.03109671,\n",
       "          0.10120093,  0.05964844],\n",
       "        [-0.00318298, -0.03624986, -0.0230121 , ..., -0.04481408,\n",
       "          0.00515085,  0.0157474 ]], dtype=float32)>,\n",
       " <tf.Variable 'lstm/kernel:0' shape=(40, 400) dtype=float32, numpy=\n",
       " array([[-0.06516092, -0.00367892, -0.12180817, ..., -0.13185503,\n",
       "         -0.15546152,  0.05678342],\n",
       "        [-0.02190369, -0.1654223 , -0.16078281, ..., -0.14616016,\n",
       "         -0.15224487,  0.11217792],\n",
       "        [-0.10395379, -0.06064186, -0.19472083, ..., -0.03710924,\n",
       "         -0.39127713, -0.19636805],\n",
       "        ...,\n",
       "        [ 0.2190328 ,  0.19152328,  0.08271921, ...,  0.26595014,\n",
       "          0.14294739, -0.05166078],\n",
       "        [-0.02805086, -0.18661332, -0.16581199, ...,  0.02938118,\n",
       "         -0.2714527 ,  0.125066  ],\n",
       "        [-0.15753624, -0.2551958 , -0.02980962, ..., -0.09641963,\n",
       "         -0.21733774,  0.08013718]], dtype=float32)>,\n",
       " <tf.Variable 'lstm/recurrent_kernel:0' shape=(100, 400) dtype=float32, numpy=\n",
       " array([[ 3.45077552e-02, -1.38360783e-01, -1.26251251e-01, ...,\n",
       "         -7.16819242e-02, -5.55512868e-02, -2.98184920e-02],\n",
       "        [ 3.86728719e-02,  4.36035767e-02,  1.84889138e-02, ...,\n",
       "          1.18945338e-01,  1.43526196e-01,  4.28085327e-02],\n",
       "        [ 1.90286548e-03,  5.99399619e-02, -6.94359187e-03, ...,\n",
       "          6.96904734e-02,  5.29618710e-02,  3.14977616e-02],\n",
       "        ...,\n",
       "        [-1.04438491e-01,  8.68633687e-02,  1.93576012e-02, ...,\n",
       "         -5.75621752e-03, -4.52714264e-02, -1.56817623e-04],\n",
       "        [-1.18235461e-01, -2.16955394e-01, -1.11756876e-01, ...,\n",
       "         -1.05112463e-01,  2.02578828e-01, -1.34603694e-01],\n",
       "        [ 5.01378663e-02,  1.90515351e-02,  1.05115242e-01, ...,\n",
       "         -2.98322495e-02,  1.02903701e-01, -6.28194725e-03]], dtype=float32)>,\n",
       " <tf.Variable 'lstm/bias:0' shape=(400,) dtype=float32, numpy=\n",
       " array([ 4.59100977e-02,  7.32390955e-02,  1.84213091e-02,  7.13391155e-02,\n",
       "         1.70195073e-01,  4.10186537e-02,  8.61157104e-02, -7.09888758e-03,\n",
       "         6.72145411e-02,  1.42486349e-01,  6.04455210e-02,  7.30118379e-02,\n",
       "         5.03055472e-03,  4.82897498e-02,  1.67664755e-02,  8.11717752e-03,\n",
       "         5.17367125e-02,  2.17339620e-02,  5.17820418e-02, -1.98732447e-02,\n",
       "         6.96088299e-02,  1.03118263e-01,  2.57602837e-02,  2.05769185e-02,\n",
       "         6.53944016e-02,  8.44315961e-02,  9.78217572e-02,  1.50919229e-01,\n",
       "         2.09945720e-02,  9.28939357e-02,  4.58340608e-02,  1.41083807e-01,\n",
       "         4.88109700e-02,  5.16855195e-02,  5.72180860e-02,  1.40072212e-01,\n",
       "         4.38218191e-02,  6.83039278e-02,  1.44907786e-02,  1.52406424e-01,\n",
       "         1.21679427e-02,  1.04226740e-02,  1.32151291e-01,  1.18437998e-01,\n",
       "         4.22960240e-03, -2.56137270e-03,  4.18630689e-02,  6.30349964e-02,\n",
       "         1.67339429e-01,  7.79502839e-02,  6.61870167e-02,  4.94860746e-02,\n",
       "         1.07226498e-01,  2.16879379e-02,  5.51645458e-02,  6.30577281e-02,\n",
       "         2.11037379e-02,  3.28852832e-02,  4.07669358e-02,  4.84006517e-02,\n",
       "         6.82449266e-02,  3.48607786e-02,  4.60654423e-02,  5.73066585e-02,\n",
       "         1.09156899e-01,  4.99452204e-02,  6.93620509e-03,  3.89684960e-02,\n",
       "         1.16901770e-01,  6.22652099e-02,  4.03381810e-02,  4.54255901e-02,\n",
       "         5.98617550e-03,  6.12223335e-02,  7.78831542e-02,  1.98910851e-02,\n",
       "        -4.19134349e-02,  2.25052070e-02,  6.08790666e-02,  6.28319308e-02,\n",
       "         1.01766557e-01,  2.62749530e-02,  3.93483341e-02,  3.63806635e-02,\n",
       "         1.26101956e-01,  2.48944238e-02,  2.20134594e-02, -3.03609744e-02,\n",
       "         5.42458296e-02,  8.50776657e-02,  1.70694068e-01,  2.46984102e-02,\n",
       "         1.54823780e-01,  2.12837994e-01,  5.88427335e-02,  5.93836755e-02,\n",
       "         5.40402755e-02,  5.13917916e-02,  9.27885994e-02,  2.58835517e-02,\n",
       "         1.04195142e+00,  9.92156029e-01,  1.00346053e+00,  1.02624595e+00,\n",
       "         1.00679636e+00,  1.00555253e+00,  1.03648245e+00,  9.84063327e-01,\n",
       "         1.03299201e+00,  1.01083457e+00,  9.89693701e-01,  1.03255773e+00,\n",
       "         9.40359831e-01,  1.02454853e+00,  9.90124106e-01,  1.03045321e+00,\n",
       "         1.03966212e+00,  9.95308220e-01,  1.02054060e+00,  1.01869655e+00,\n",
       "         9.59558904e-01,  1.05551302e+00,  1.02140641e+00,  1.02678633e+00,\n",
       "         1.01713991e+00,  1.03210819e+00,  1.05508363e+00,  8.86259973e-01,\n",
       "         9.92522657e-01,  9.49092567e-01,  9.97337282e-01,  1.01250947e+00,\n",
       "         1.02268791e+00,  1.03213644e+00,  1.04954743e+00,  9.83755529e-01,\n",
       "         1.02927423e+00,  1.03944194e+00,  1.05053723e+00,  1.01621997e+00,\n",
       "         9.70514297e-01,  1.02194023e+00,  9.31873322e-01,  9.86225903e-01,\n",
       "         1.01575494e+00,  1.01636302e+00,  1.04872763e+00,  1.06484222e+00,\n",
       "         9.63717401e-01,  9.60540771e-01,  9.81304407e-01,  1.05180144e+00,\n",
       "         1.01401949e+00,  9.26356792e-01,  1.00830030e+00,  9.50715065e-01,\n",
       "         1.05192959e+00,  1.12421906e+00,  1.03791296e+00,  1.03353941e+00,\n",
       "         1.04650688e+00,  1.02556705e+00,  1.01627731e+00,  9.73198354e-01,\n",
       "         1.05895782e+00,  1.03130758e+00,  9.72708583e-01,  1.00492680e+00,\n",
       "         1.04597175e+00,  1.04765046e+00,  1.01844418e+00,  9.80052233e-01,\n",
       "         9.88213122e-01,  9.78821695e-01,  1.01804900e+00,  1.02307570e+00,\n",
       "         9.71185565e-01,  9.99981821e-01,  1.01603115e+00,  1.04336452e+00,\n",
       "         1.02229083e+00,  1.03588033e+00,  9.98987973e-01,  9.54285741e-01,\n",
       "         9.81666386e-01,  1.02846897e+00,  1.01266325e+00,  9.75217462e-01,\n",
       "         1.03193057e+00,  1.02367973e+00,  9.84877229e-01,  9.70018089e-01,\n",
       "         9.94146585e-01,  9.56942201e-01,  1.00300908e+00,  1.01375401e+00,\n",
       "         1.11564946e+00,  1.02809167e+00,  9.81701851e-01,  1.02527285e+00,\n",
       "        -1.53113520e-02, -1.20826643e-02,  1.45385517e-02, -2.56637600e-03,\n",
       "        -2.44970713e-02, -4.66051623e-02, -4.05641273e-03,  4.07367609e-02,\n",
       "        -3.28188040e-03,  4.40755822e-02,  6.99595036e-03,  5.44162467e-02,\n",
       "         1.75847337e-02, -4.98063746e-05, -5.34083741e-03,  2.41824891e-02,\n",
       "        -1.44812930e-02,  1.25490576e-02,  1.07306680e-02, -3.65916193e-02,\n",
       "         9.84698534e-03, -5.41824475e-03,  3.82115282e-02, -1.12482989e-02,\n",
       "        -1.57738710e-03,  2.50632670e-02,  1.84260942e-02, -4.06136326e-02,\n",
       "         4.30617742e-02, -2.17154082e-02, -3.05163600e-02, -3.94192711e-03,\n",
       "         3.37288924e-03, -1.06384801e-02, -6.20007189e-03, -1.19592641e-02,\n",
       "         1.29148439e-02, -5.65195456e-02,  3.27783544e-03, -1.84064694e-02,\n",
       "        -1.65150799e-02,  7.25263264e-03, -2.21133716e-02,  6.77300245e-02,\n",
       "        -5.79064861e-02,  1.50099471e-02,  1.01676313e-02,  2.57293154e-02,\n",
       "         5.37392637e-03, -3.60274725e-02,  2.36053113e-02,  9.27181821e-03,\n",
       "        -2.11886372e-02,  2.09348965e-02, -5.59383333e-02, -4.17402983e-02,\n",
       "         4.80869524e-02, -1.98523086e-02, -3.31387296e-02, -5.79231000e-03,\n",
       "        -2.71818065e-03,  1.37286144e-03, -1.27725992e-02, -5.00216000e-02,\n",
       "        -5.32455649e-03,  4.88523440e-03, -3.02768275e-02, -4.11211076e-05,\n",
       "        -3.09051797e-02, -1.83840021e-02,  3.61376652e-03,  2.51585804e-02,\n",
       "         6.58386620e-03,  8.57835822e-03,  5.08385152e-03,  1.47500327e-02,\n",
       "         1.61294546e-02,  1.42721152e-02, -1.69663001e-02, -2.08711550e-02,\n",
       "        -4.85152093e-04,  1.02128824e-02,  3.13924532e-03, -3.12757269e-02,\n",
       "         3.38012502e-02, -2.87637506e-02, -1.00676995e-02, -3.10819969e-02,\n",
       "        -7.36465387e-04, -2.93563195e-02, -3.49890105e-02,  1.81289006e-03,\n",
       "         2.73170210e-02, -3.82655896e-02, -6.88804407e-03, -6.50834851e-03,\n",
       "        -8.45062267e-03,  9.10457224e-03,  4.55541024e-03, -2.52063666e-03,\n",
       "         3.09142843e-02,  8.29813331e-02,  1.71598494e-02,  7.16500357e-02,\n",
       "         2.09392548e-01,  1.79052372e-02,  8.34374204e-02, -2.01520957e-02,\n",
       "         6.11389168e-02,  1.60743028e-01,  5.34516275e-02,  6.60212934e-02,\n",
       "        -1.01826843e-02,  4.96352054e-02,  4.19807760e-03,  2.03713076e-03,\n",
       "         5.76280542e-02,  1.65456757e-02,  4.74550538e-02, -3.47949304e-02,\n",
       "         6.09098673e-02,  1.07745953e-01,  1.11569306e-02,  1.57065522e-02,\n",
       "         6.21599145e-02,  6.60744607e-02,  7.17821494e-02,  1.55032516e-01,\n",
       "         8.89065617e-04,  1.02487758e-01,  2.18147878e-02,  1.58555135e-01,\n",
       "         4.83375750e-02,  4.10529636e-02,  6.42957538e-02,  1.72881633e-01,\n",
       "         4.31980416e-02,  7.42873475e-02,  3.50731984e-03,  1.72834516e-01,\n",
       "         3.15427966e-03,  7.20727723e-03,  1.62022606e-01,  1.35661647e-01,\n",
       "         1.38114784e-02, -5.88518288e-03,  3.65586840e-02,  6.54582605e-02,\n",
       "         2.04008937e-01,  5.97885959e-02,  6.37435541e-02,  4.88467291e-02,\n",
       "         1.30256325e-01,  5.01456074e-02,  6.21246025e-02,  5.37466221e-02,\n",
       "         5.40751126e-03,  1.87823810e-02,  2.62676999e-02,  4.50794734e-02,\n",
       "         6.51178062e-02,  3.26973200e-02,  2.86209472e-02,  1.94027983e-02,\n",
       "         9.14580673e-02,  4.84893024e-02,  7.01345690e-03,  3.34612727e-02,\n",
       "         1.20252386e-01,  4.68731113e-02,  3.73487361e-02,  2.50699390e-02,\n",
       "         4.87390556e-04,  6.21761121e-02,  6.73622787e-02,  1.55467410e-02,\n",
       "        -4.45215777e-02,  1.35160033e-02,  5.57791628e-02,  4.58816998e-02,\n",
       "         8.35943818e-02,  3.51947695e-02,  3.61716300e-02,  3.45786810e-02,\n",
       "         1.27746329e-01,  1.13397650e-02,  2.12183781e-02, -4.41445187e-02,\n",
       "         5.39891310e-02,  6.37080595e-02,  2.30892941e-01,  1.24658067e-02,\n",
       "         1.86219066e-01,  2.13008851e-01,  5.29623665e-02,  4.79565971e-02,\n",
       "         5.81025481e-02,  4.31064516e-02,  7.24224597e-02,  2.44264826e-02],\n",
       "       dtype=float32)>,\n",
       " <tf.Variable 'dense/kernel:0' shape=(100, 1) dtype=float32, numpy=\n",
       " array([[ 0.02611494],\n",
       "        [ 0.31179696],\n",
       "        [ 0.24286906],\n",
       "        [ 0.51962227],\n",
       "        [ 0.78871125],\n",
       "        [ 0.20936848],\n",
       "        [ 0.5360222 ],\n",
       "        [-0.06741452],\n",
       "        [ 0.28530744],\n",
       "        [-0.6167022 ],\n",
       "        [-0.5023891 ],\n",
       "        [-0.43989652],\n",
       "        [-0.23754923],\n",
       "        [ 0.32143456],\n",
       "        [ 0.21908948],\n",
       "        [-0.36658403],\n",
       "        [ 0.40554437],\n",
       "        [-0.2527191 ],\n",
       "        [-0.4874068 ],\n",
       "        [ 0.21005338],\n",
       "        [-0.37445745],\n",
       "        [-0.5478379 ],\n",
       "        [-0.06048125],\n",
       "        [ 0.27012536],\n",
       "        [ 0.43190566],\n",
       "        [-0.42534485],\n",
       "        [-0.43483832],\n",
       "        [ 0.43041667],\n",
       "        [-0.0210353 ],\n",
       "        [ 0.42408583],\n",
       "        [ 0.20598626],\n",
       "        [-0.7586431 ],\n",
       "        [-0.38550875],\n",
       "        [ 0.20577216],\n",
       "        [ 0.4659375 ],\n",
       "        [ 0.5881192 ],\n",
       "        [-0.29693115],\n",
       "        [ 0.31881672],\n",
       "        [-0.23760782],\n",
       "        [ 0.7045807 ],\n",
       "        [ 0.23241426],\n",
       "        [-0.2729622 ],\n",
       "        [ 0.44303837],\n",
       "        [-0.58366567],\n",
       "        [ 0.31417164],\n",
       "        [-0.29002583],\n",
       "        [ 0.33615068],\n",
       "        [ 0.34791425],\n",
       "        [-0.5707954 ],\n",
       "        [ 0.40726712],\n",
       "        [ 0.17913786],\n",
       "        [ 0.3544528 ],\n",
       "        [ 0.507177  ],\n",
       "        [-0.36430144],\n",
       "        [ 0.40585786],\n",
       "        [ 0.34516397],\n",
       "        [-0.26019067],\n",
       "        [-0.23984435],\n",
       "        [ 0.08325306],\n",
       "        [ 0.13619028],\n",
       "        [ 0.36122656],\n",
       "        [-0.24399169],\n",
       "        [ 0.18783553],\n",
       "        [ 0.3437767 ],\n",
       "        [ 0.29355958],\n",
       "        [-0.2737147 ],\n",
       "        [ 0.2660529 ],\n",
       "        [-0.10661665],\n",
       "        [ 0.6579547 ],\n",
       "        [ 0.12026829],\n",
       "        [ 0.13671958],\n",
       "        [-0.19195883],\n",
       "        [-0.21029271],\n",
       "        [-0.39014307],\n",
       "        [-0.43934962],\n",
       "        [-0.32165763],\n",
       "        [ 0.03734719],\n",
       "        [-0.32873464],\n",
       "        [ 0.48213583],\n",
       "        [ 0.42619947],\n",
       "        [ 0.25458646],\n",
       "        [-0.37959144],\n",
       "        [-0.35744056],\n",
       "        [ 0.18250734],\n",
       "        [-0.5224427 ],\n",
       "        [-0.07306317],\n",
       "        [ 0.22307466],\n",
       "        [ 0.20659764],\n",
       "        [-0.40577942],\n",
       "        [ 0.33319137],\n",
       "        [ 0.59891623],\n",
       "        [ 0.18164046],\n",
       "        [-0.61064714],\n",
       "        [ 0.4302653 ],\n",
       "        [ 0.47239327],\n",
       "        [ 0.22010419],\n",
       "        [ 0.470803  ],\n",
       "        [-0.49222758],\n",
       "        [ 0.21636786],\n",
       "        [ 0.35973677]], dtype=float32)>,\n",
       " <tf.Variable 'dense/bias:0' shape=(1,) dtype=float32, numpy=array([0.07309818], dtype=float32)>]"
      ]
     },
     "execution_count": 54,
     "metadata": {},
     "output_type": "execute_result"
    }
   ],
   "source": [
    "model.weights"
   ]
  }
 ],
 "metadata": {
  "kernelspec": {
   "display_name": "Python 3.7 (tensorflow)",
   "language": "python",
   "name": "tensorflow"
  },
  "language_info": {
   "codemirror_mode": {
    "name": "ipython",
    "version": 3
   },
   "file_extension": ".py",
   "mimetype": "text/x-python",
   "name": "python",
   "nbconvert_exporter": "python",
   "pygments_lexer": "ipython3",
   "version": "3.7.7"
  }
 },
 "nbformat": 4,
 "nbformat_minor": 4
}
