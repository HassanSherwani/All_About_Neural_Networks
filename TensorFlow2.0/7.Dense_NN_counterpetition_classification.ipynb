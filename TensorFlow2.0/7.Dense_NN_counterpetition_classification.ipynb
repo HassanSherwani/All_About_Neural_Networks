{
 "cells": [
  {
   "cell_type": "markdown",
   "metadata": {},
   "source": [
    "# Problem\n",
    "\n",
    "- To predict what kind of contraceptive measurements are taken \n",
    "- We shall use neural network to solve this classification problem."
   ]
  },
  {
   "cell_type": "markdown",
   "metadata": {},
   "source": [
    "# 1)- Import Key Modules"
   ]
  },
  {
   "cell_type": "code",
   "execution_count": 1,
   "metadata": {},
   "outputs": [],
   "source": [
    "# support both Python 2 and Python 3 with minimal overhead.\n",
    "from __future__ import absolute_import, division, print_function\n",
    "\n",
    "# I am an engineer. I care only about error not warning. So, let's be maverick and ignore warnings.\n",
    "import warnings\n",
    "warnings.filterwarnings('ignore')"
   ]
  },
  {
   "cell_type": "code",
   "execution_count": 2,
   "metadata": {},
   "outputs": [
    {
     "name": "stderr",
     "output_type": "stream",
     "text": [
      "Using TensorFlow backend.\n"
     ]
    }
   ],
   "source": [
    "import pickle\n",
    "import pandas as pd\n",
    "import numpy as np\n",
    "from nltk.stem.porter import PorterStemmer\n",
    "import re\n",
    "import string\n",
    "from sklearn.feature_extraction.text import CountVectorizer\n",
    "from keras.models import Sequential\n",
    "from keras.layers import Dense, Activation, Embedding, Concatenate,Add, Flatten\n",
    "from sklearn.preprocessing import StandardScaler"
   ]
  },
  {
   "cell_type": "code",
   "execution_count": 3,
   "metadata": {},
   "outputs": [],
   "source": [
    "import logging\n",
    "import pandas as pd\n",
    "import numpy as np\n",
    "from numpy import random\n",
    "import gensim\n",
    "import nltk\n",
    "from sklearn.model_selection import train_test_split\n",
    "from sklearn.feature_extraction.text import CountVectorizer, TfidfVectorizer\n",
    "from sklearn.metrics import accuracy_score, confusion_matrix\n",
    "import matplotlib.pyplot as plt\n",
    "from nltk.corpus import stopwords\n",
    "import re\n",
    "from bs4 import BeautifulSoup"
   ]
  },
  {
   "cell_type": "code",
   "execution_count": 4,
   "metadata": {},
   "outputs": [],
   "source": [
    "import itertools\n",
    "import os\n",
    "\n",
    "%matplotlib inline\n",
    "import matplotlib.pyplot as plt\n",
    "import numpy as np\n",
    "import pandas as pd\n",
    "import tensorflow as tf\n",
    "\n",
    "from sklearn.preprocessing import LabelBinarizer, LabelEncoder\n",
    "from sklearn.metrics import confusion_matrix\n",
    "\n",
    "from tensorflow import keras\n",
    "from keras.models import Sequential\n",
    "from keras.layers import Dense, Activation, Dropout\n",
    "from keras.preprocessing import text, sequence\n",
    "from keras import utils"
   ]
  },
  {
   "cell_type": "markdown",
   "metadata": {},
   "source": [
    "# 2)- Loading and preparing Data"
   ]
  },
  {
   "cell_type": "code",
   "execution_count": 5,
   "metadata": {
    "scrolled": true
   },
   "outputs": [
    {
     "data": {
      "text/plain": [
       "(1473, 10)"
      ]
     },
     "execution_count": 5,
     "metadata": {},
     "output_type": "execute_result"
    }
   ],
   "source": [
    "df = pd.read_csv('cmc.data.txt',header=None,names=['Age','Education','H_education',\n",
    "                                                     'num_child','Religion', 'Employ',\n",
    "                                                     'H_occupation','living_standard',\n",
    "                                                     'Media_exposure','contraceptive'])\n",
    "df.shape"
   ]
  },
  {
   "cell_type": "code",
   "execution_count": 6,
   "metadata": {},
   "outputs": [
    {
     "data": {
      "text/html": [
       "<div>\n",
       "<style scoped>\n",
       "    .dataframe tbody tr th:only-of-type {\n",
       "        vertical-align: middle;\n",
       "    }\n",
       "\n",
       "    .dataframe tbody tr th {\n",
       "        vertical-align: top;\n",
       "    }\n",
       "\n",
       "    .dataframe thead th {\n",
       "        text-align: right;\n",
       "    }\n",
       "</style>\n",
       "<table border=\"1\" class=\"dataframe\">\n",
       "  <thead>\n",
       "    <tr style=\"text-align: right;\">\n",
       "      <th></th>\n",
       "      <th>Age</th>\n",
       "      <th>Education</th>\n",
       "      <th>H_education</th>\n",
       "      <th>num_child</th>\n",
       "      <th>Religion</th>\n",
       "      <th>Employ</th>\n",
       "      <th>H_occupation</th>\n",
       "      <th>living_standard</th>\n",
       "      <th>Media_exposure</th>\n",
       "      <th>contraceptive</th>\n",
       "    </tr>\n",
       "  </thead>\n",
       "  <tbody>\n",
       "    <tr>\n",
       "      <th>0</th>\n",
       "      <td>24</td>\n",
       "      <td>2</td>\n",
       "      <td>3</td>\n",
       "      <td>3</td>\n",
       "      <td>1</td>\n",
       "      <td>1</td>\n",
       "      <td>2</td>\n",
       "      <td>3</td>\n",
       "      <td>0</td>\n",
       "      <td>1</td>\n",
       "    </tr>\n",
       "    <tr>\n",
       "      <th>1</th>\n",
       "      <td>45</td>\n",
       "      <td>1</td>\n",
       "      <td>3</td>\n",
       "      <td>10</td>\n",
       "      <td>1</td>\n",
       "      <td>1</td>\n",
       "      <td>3</td>\n",
       "      <td>4</td>\n",
       "      <td>0</td>\n",
       "      <td>1</td>\n",
       "    </tr>\n",
       "    <tr>\n",
       "      <th>2</th>\n",
       "      <td>43</td>\n",
       "      <td>2</td>\n",
       "      <td>3</td>\n",
       "      <td>7</td>\n",
       "      <td>1</td>\n",
       "      <td>1</td>\n",
       "      <td>3</td>\n",
       "      <td>4</td>\n",
       "      <td>0</td>\n",
       "      <td>1</td>\n",
       "    </tr>\n",
       "    <tr>\n",
       "      <th>3</th>\n",
       "      <td>42</td>\n",
       "      <td>3</td>\n",
       "      <td>2</td>\n",
       "      <td>9</td>\n",
       "      <td>1</td>\n",
       "      <td>1</td>\n",
       "      <td>3</td>\n",
       "      <td>3</td>\n",
       "      <td>0</td>\n",
       "      <td>1</td>\n",
       "    </tr>\n",
       "    <tr>\n",
       "      <th>4</th>\n",
       "      <td>36</td>\n",
       "      <td>3</td>\n",
       "      <td>3</td>\n",
       "      <td>8</td>\n",
       "      <td>1</td>\n",
       "      <td>1</td>\n",
       "      <td>3</td>\n",
       "      <td>2</td>\n",
       "      <td>0</td>\n",
       "      <td>1</td>\n",
       "    </tr>\n",
       "  </tbody>\n",
       "</table>\n",
       "</div>"
      ],
      "text/plain": [
       "   Age  Education  H_education  num_child  Religion  Employ  H_occupation  \\\n",
       "0   24          2            3          3         1       1             2   \n",
       "1   45          1            3         10         1       1             3   \n",
       "2   43          2            3          7         1       1             3   \n",
       "3   42          3            2          9         1       1             3   \n",
       "4   36          3            3          8         1       1             3   \n",
       "\n",
       "   living_standard  Media_exposure  contraceptive  \n",
       "0                3               0              1  \n",
       "1                4               0              1  \n",
       "2                4               0              1  \n",
       "3                3               0              1  \n",
       "4                2               0              1  "
      ]
     },
     "execution_count": 6,
     "metadata": {},
     "output_type": "execute_result"
    }
   ],
   "source": [
    "df.head()"
   ]
  },
  {
   "cell_type": "code",
   "execution_count": 7,
   "metadata": {},
   "outputs": [
    {
     "data": {
      "text/plain": [
       "Age                int64\n",
       "Education          int64\n",
       "H_education        int64\n",
       "num_child          int64\n",
       "Religion           int64\n",
       "Employ             int64\n",
       "H_occupation       int64\n",
       "living_standard    int64\n",
       "Media_exposure     int64\n",
       "contraceptive      int64\n",
       "dtype: object"
      ]
     },
     "execution_count": 7,
     "metadata": {},
     "output_type": "execute_result"
    }
   ],
   "source": [
    "df.dtypes"
   ]
  },
  {
   "cell_type": "markdown",
   "metadata": {},
   "source": [
    "### 2.1. Checking missing values"
   ]
  },
  {
   "cell_type": "code",
   "execution_count": 8,
   "metadata": {},
   "outputs": [
    {
     "name": "stdout",
     "output_type": "stream",
     "text": [
      "<class 'pandas.core.frame.DataFrame'>\n",
      "RangeIndex: 1473 entries, 0 to 1472\n",
      "Data columns (total 10 columns):\n",
      " #   Column           Non-Null Count  Dtype\n",
      "---  ------           --------------  -----\n",
      " 0   Age              1473 non-null   int64\n",
      " 1   Education        1473 non-null   int64\n",
      " 2   H_education      1473 non-null   int64\n",
      " 3   num_child        1473 non-null   int64\n",
      " 4   Religion         1473 non-null   int64\n",
      " 5   Employ           1473 non-null   int64\n",
      " 6   H_occupation     1473 non-null   int64\n",
      " 7   living_standard  1473 non-null   int64\n",
      " 8   Media_exposure   1473 non-null   int64\n",
      " 9   contraceptive    1473 non-null   int64\n",
      "dtypes: int64(10)\n",
      "memory usage: 115.2 KB\n"
     ]
    }
   ],
   "source": [
    "df.info()"
   ]
  },
  {
   "cell_type": "code",
   "execution_count": 9,
   "metadata": {},
   "outputs": [
    {
     "data": {
      "text/plain": [
       "Age                0\n",
       "Education          0\n",
       "H_education        0\n",
       "num_child          0\n",
       "Religion           0\n",
       "Employ             0\n",
       "H_occupation       0\n",
       "living_standard    0\n",
       "Media_exposure     0\n",
       "contraceptive      0\n",
       "dtype: int64"
      ]
     },
     "execution_count": 9,
     "metadata": {},
     "output_type": "execute_result"
    }
   ],
   "source": [
    "df.isnull().sum()"
   ]
  },
  {
   "cell_type": "code",
   "execution_count": 10,
   "metadata": {},
   "outputs": [
    {
     "data": {
      "text/plain": [
       "1    629\n",
       "3    511\n",
       "2    333\n",
       "Name: contraceptive, dtype: int64"
      ]
     },
     "execution_count": 10,
     "metadata": {},
     "output_type": "execute_result"
    }
   ],
   "source": [
    "df.contraceptive.value_counts()"
   ]
  },
  {
   "cell_type": "code",
   "execution_count": 11,
   "metadata": {},
   "outputs": [
    {
     "data": {
      "text/plain": [
       "<matplotlib.axes._subplots.AxesSubplot at 0x18c5f84aa08>"
      ]
     },
     "execution_count": 11,
     "metadata": {},
     "output_type": "execute_result"
    },
    {
     "data": {
      "image/png": "[encoded data removed]",
      "text/plain": [
       "<Figure size 432x288 with 1 Axes>"
      ]
     },
     "metadata": {
      "needs_background": "light"
     },
     "output_type": "display_data"
    }
   ],
   "source": [
    "df.contraceptive.hist()"
   ]
  },
  {
   "cell_type": "markdown",
   "metadata": {},
   "source": [
    "### 2.2.one_hot_encoding"
   ]
  },
  {
   "cell_type": "code",
   "execution_count": 12,
   "metadata": {},
   "outputs": [],
   "source": [
    "def one_hot_encoding(idx):\n",
    "    y = np.zeros((len(idx),max(idx)+1))\n",
    "    y[np.arange(len(idx)), idx] = 1\n",
    "    return y"
   ]
  },
  {
   "cell_type": "markdown",
   "metadata": {},
   "source": [
    "### 2.3.Scaling"
   ]
  },
  {
   "cell_type": "code",
   "execution_count": 13,
   "metadata": {},
   "outputs": [],
   "source": [
    "scaler = StandardScaler()\n",
    "df[['Age','num_child']] = scaler.fit_transform(df[['Age','num_child']])"
   ]
  },
  {
   "cell_type": "code",
   "execution_count": 14,
   "metadata": {},
   "outputs": [
    {
     "data": {
      "text/html": [
       "<div>\n",
       "<style scoped>\n",
       "    .dataframe tbody tr th:only-of-type {\n",
       "        vertical-align: middle;\n",
       "    }\n",
       "\n",
       "    .dataframe tbody tr th {\n",
       "        vertical-align: top;\n",
       "    }\n",
       "\n",
       "    .dataframe thead th {\n",
       "        text-align: right;\n",
       "    }\n",
       "</style>\n",
       "<table border=\"1\" class=\"dataframe\">\n",
       "  <thead>\n",
       "    <tr style=\"text-align: right;\">\n",
       "      <th></th>\n",
       "      <th>Age</th>\n",
       "      <th>Education</th>\n",
       "      <th>H_education</th>\n",
       "      <th>num_child</th>\n",
       "      <th>Religion</th>\n",
       "      <th>Employ</th>\n",
       "      <th>H_occupation</th>\n",
       "      <th>living_standard</th>\n",
       "      <th>Media_exposure</th>\n",
       "      <th>contraceptive</th>\n",
       "    </tr>\n",
       "  </thead>\n",
       "  <tbody>\n",
       "    <tr>\n",
       "      <th>count</th>\n",
       "      <td>1.473000e+03</td>\n",
       "      <td>1473.000000</td>\n",
       "      <td>1473.000000</td>\n",
       "      <td>1.473000e+03</td>\n",
       "      <td>1473.000000</td>\n",
       "      <td>1473.000000</td>\n",
       "      <td>1473.000000</td>\n",
       "      <td>1473.000000</td>\n",
       "      <td>1473.000000</td>\n",
       "      <td>1473.000000</td>\n",
       "    </tr>\n",
       "    <tr>\n",
       "      <th>mean</th>\n",
       "      <td>2.990743e-16</td>\n",
       "      <td>2.958588</td>\n",
       "      <td>3.429735</td>\n",
       "      <td>-7.235669e-18</td>\n",
       "      <td>0.850645</td>\n",
       "      <td>0.749491</td>\n",
       "      <td>2.137814</td>\n",
       "      <td>3.133741</td>\n",
       "      <td>0.073999</td>\n",
       "      <td>1.919891</td>\n",
       "    </tr>\n",
       "    <tr>\n",
       "      <th>std</th>\n",
       "      <td>1.000340e+00</td>\n",
       "      <td>1.014994</td>\n",
       "      <td>0.816349</td>\n",
       "      <td>1.000340e+00</td>\n",
       "      <td>0.356559</td>\n",
       "      <td>0.433453</td>\n",
       "      <td>0.864857</td>\n",
       "      <td>0.976161</td>\n",
       "      <td>0.261858</td>\n",
       "      <td>0.876376</td>\n",
       "    </tr>\n",
       "    <tr>\n",
       "      <th>min</th>\n",
       "      <td>-2.010877e+00</td>\n",
       "      <td>1.000000</td>\n",
       "      <td>1.000000</td>\n",
       "      <td>-1.383257e+00</td>\n",
       "      <td>0.000000</td>\n",
       "      <td>0.000000</td>\n",
       "      <td>1.000000</td>\n",
       "      <td>1.000000</td>\n",
       "      <td>0.000000</td>\n",
       "      <td>1.000000</td>\n",
       "    </tr>\n",
       "    <tr>\n",
       "      <th>25%</th>\n",
       "      <td>-7.949900e-01</td>\n",
       "      <td>2.000000</td>\n",
       "      <td>3.000000</td>\n",
       "      <td>-9.591234e-01</td>\n",
       "      <td>1.000000</td>\n",
       "      <td>0.000000</td>\n",
       "      <td>1.000000</td>\n",
       "      <td>3.000000</td>\n",
       "      <td>0.000000</td>\n",
       "      <td>1.000000</td>\n",
       "    </tr>\n",
       "    <tr>\n",
       "      <th>50%</th>\n",
       "      <td>-6.545811e-02</td>\n",
       "      <td>3.000000</td>\n",
       "      <td>4.000000</td>\n",
       "      <td>-1.108563e-01</td>\n",
       "      <td>1.000000</td>\n",
       "      <td>1.000000</td>\n",
       "      <td>2.000000</td>\n",
       "      <td>3.000000</td>\n",
       "      <td>0.000000</td>\n",
       "      <td>2.000000</td>\n",
       "    </tr>\n",
       "    <tr>\n",
       "      <th>75%</th>\n",
       "      <td>7.856625e-01</td>\n",
       "      <td>4.000000</td>\n",
       "      <td>4.000000</td>\n",
       "      <td>3.132772e-01</td>\n",
       "      <td>1.000000</td>\n",
       "      <td>1.000000</td>\n",
       "      <td>3.000000</td>\n",
       "      <td>4.000000</td>\n",
       "      <td>0.000000</td>\n",
       "      <td>3.000000</td>\n",
       "    </tr>\n",
       "    <tr>\n",
       "      <th>max</th>\n",
       "      <td>2.001549e+00</td>\n",
       "      <td>4.000000</td>\n",
       "      <td>4.000000</td>\n",
       "      <td>5.402879e+00</td>\n",
       "      <td>1.000000</td>\n",
       "      <td>1.000000</td>\n",
       "      <td>4.000000</td>\n",
       "      <td>4.000000</td>\n",
       "      <td>1.000000</td>\n",
       "      <td>3.000000</td>\n",
       "    </tr>\n",
       "  </tbody>\n",
       "</table>\n",
       "</div>"
      ],
      "text/plain": [
       "                Age    Education  H_education     num_child     Religion  \\\n",
       "count  1.473000e+03  1473.000000  1473.000000  1.473000e+03  1473.000000   \n",
       "mean   2.990743e-16     2.958588     3.429735 -7.235669e-18     0.850645   \n",
       "std    1.000340e+00     1.014994     0.816349  1.000340e+00     0.356559   \n",
       "min   -2.010877e+00     1.000000     1.000000 -1.383257e+00     0.000000   \n",
       "25%   -7.949900e-01     2.000000     3.000000 -9.591234e-01     1.000000   \n",
       "50%   -6.545811e-02     3.000000     4.000000 -1.108563e-01     1.000000   \n",
       "75%    7.856625e-01     4.000000     4.000000  3.132772e-01     1.000000   \n",
       "max    2.001549e+00     4.000000     4.000000  5.402879e+00     1.000000   \n",
       "\n",
       "            Employ  H_occupation  living_standard  Media_exposure  \\\n",
       "count  1473.000000   1473.000000      1473.000000     1473.000000   \n",
       "mean      0.749491      2.137814         3.133741        0.073999   \n",
       "std       0.433453      0.864857         0.976161        0.261858   \n",
       "min       0.000000      1.000000         1.000000        0.000000   \n",
       "25%       0.000000      1.000000         3.000000        0.000000   \n",
       "50%       1.000000      2.000000         3.000000        0.000000   \n",
       "75%       1.000000      3.000000         4.000000        0.000000   \n",
       "max       1.000000      4.000000         4.000000        1.000000   \n",
       "\n",
       "       contraceptive  \n",
       "count    1473.000000  \n",
       "mean        1.919891  \n",
       "std         0.876376  \n",
       "min         1.000000  \n",
       "25%         1.000000  \n",
       "50%         2.000000  \n",
       "75%         3.000000  \n",
       "max         3.000000  "
      ]
     },
     "execution_count": 14,
     "metadata": {},
     "output_type": "execute_result"
    }
   ],
   "source": [
    "df.describe()"
   ]
  },
  {
   "cell_type": "markdown",
   "metadata": {},
   "source": [
    "Notice Age and number of children are negative. In practice, it is not possible but, it is done to scale int values provided in these features."
   ]
  },
  {
   "cell_type": "code",
   "execution_count": 15,
   "metadata": {},
   "outputs": [],
   "source": [
    "x = df[['Age','num_child','Employ','Media_exposure']].values\n",
    "y = one_hot_encoding(df.contraceptive.values-1)\n",
    "\n",
    "liv_cats = df.living_standard.max()\n",
    "edu_cats = df.Education.max()\n",
    "\n",
    "liv = df.living_standard.values - 1\n",
    "liv_one_hot = one_hot_encoding(liv)\n",
    "edu = df.Education.values - 1\n",
    "edu_one_hot = one_hot_encoding(edu)"
   ]
  },
  {
   "cell_type": "markdown",
   "metadata": {},
   "source": [
    "### 2.4.train-test split"
   ]
  },
  {
   "cell_type": "code",
   "execution_count": 16,
   "metadata": {},
   "outputs": [],
   "source": [
    "train_x, test_x, train_liv, \\\n",
    "test_liv, train_edu, test_edu, train_y, test_y = train_test_split(x,liv_one_hot,edu_one_hot,y,test_size=0.1, random_state=1)"
   ]
  },
  {
   "cell_type": "code",
   "execution_count": 17,
   "metadata": {},
   "outputs": [
    {
     "name": "stdout",
     "output_type": "stream",
     "text": [
      "(1325, 4)\n",
      "(148, 4)\n",
      "(1325, 4)\n",
      "(148, 4)\n",
      "(1325, 4)\n",
      "(148, 4)\n",
      "(1325, 3)\n",
      "(148, 3)\n"
     ]
    }
   ],
   "source": [
    "print(train_x.shape)\n",
    "print(test_x.shape)\n",
    "print(train_liv.shape)\n",
    "print(test_liv.shape)\n",
    "print(train_edu.shape)\n",
    "print(test_edu.shape)\n",
    "print(train_y.shape)\n",
    "print(test_y.shape)"
   ]
  },
  {
   "cell_type": "markdown",
   "metadata": {},
   "source": [
    "combining education and living standard variables in main train and test set"
   ]
  },
  {
   "cell_type": "code",
   "execution_count": 18,
   "metadata": {},
   "outputs": [
    {
     "name": "stdout",
     "output_type": "stream",
     "text": [
      "(1325, 12)\n",
      "(148, 12)\n"
     ]
    }
   ],
   "source": [
    "train_x = np.hstack([train_x, train_edu, train_liv])\n",
    "test_x = np.hstack([test_x, test_edu, test_liv])\n",
    "print(train_x.shape)\n",
    "print(test_x.shape)"
   ]
  },
  {
   "cell_type": "markdown",
   "metadata": {},
   "source": [
    "# 3-Basic level Model"
   ]
  },
  {
   "cell_type": "code",
   "execution_count": 19,
   "metadata": {},
   "outputs": [
    {
     "data": {
      "text/plain": [
       "12"
      ]
     },
     "execution_count": 19,
     "metadata": {},
     "output_type": "execute_result"
    }
   ],
   "source": [
    "train_x.shape[1]"
   ]
  },
  {
   "cell_type": "code",
   "execution_count": 20,
   "metadata": {},
   "outputs": [
    {
     "data": {
      "text/plain": [
       "3"
      ]
     },
     "execution_count": 20,
     "metadata": {},
     "output_type": "execute_result"
    }
   ],
   "source": [
    "df.contraceptive.nunique()"
   ]
  },
  {
   "cell_type": "markdown",
   "metadata": {},
   "source": [
    "### 3.1.Defining parameters"
   ]
  },
  {
   "cell_type": "code",
   "execution_count": 21,
   "metadata": {},
   "outputs": [],
   "source": [
    "input_dim=train_x.shape[1]\n",
    "output_dim=df.contraceptive.nunique()\n",
    "epoch=100\n",
    "batch=8"
   ]
  },
  {
   "cell_type": "markdown",
   "metadata": {},
   "source": [
    "### 3.2.Defining Network Structure"
   ]
  },
  {
   "cell_type": "code",
   "execution_count": 22,
   "metadata": {},
   "outputs": [],
   "source": [
    "model = Sequential()\n",
    "model.add(Dense(12,input_dim=train_x.shape[1])) # 12 is size of dense hidden layer, input dim. is also 12.\n",
    "model.add(Activation('relu'))\n",
    "model.add(Dense(output_dim=output_dim))\n",
    "model.add(Activation('softmax'))"
   ]
  },
  {
   "cell_type": "code",
   "execution_count": 23,
   "metadata": {},
   "outputs": [],
   "source": [
    "model.compile(optimizer='adagrad', loss='categorical_crossentropy', metrics=['accuracy'])"
   ]
  },
  {
   "cell_type": "code",
   "execution_count": 24,
   "metadata": {},
   "outputs": [
    {
     "name": "stdout",
     "output_type": "stream",
     "text": [
      "Model: \"sequential_1\"\n",
      "_________________________________________________________________\n",
      "Layer (type)                 Output Shape              Param #   \n",
      "=================================================================\n",
      "dense_1 (Dense)              (None, 12)                156       \n",
      "_________________________________________________________________\n",
      "activation_1 (Activation)    (None, 12)                0         \n",
      "_________________________________________________________________\n",
      "dense_2 (Dense)              (None, 3)                 39        \n",
      "_________________________________________________________________\n",
      "activation_2 (Activation)    (None, 3)                 0         \n",
      "=================================================================\n",
      "Total params: 195\n",
      "Trainable params: 195\n",
      "Non-trainable params: 0\n",
      "_________________________________________________________________\n"
     ]
    }
   ],
   "source": [
    "model.summary()"
   ]
  },
  {
   "cell_type": "markdown",
   "metadata": {},
   "source": [
    "- So at step1 : 12*12 + 12 = 156 <br>\n",
    "This is between input layer and hidden layer. meaning we have 12 input dim.s and 12 neurons in hidden layer. So, multiplying them. then we have 12 biases from 12 neuron hence, adding them as well.\n",
    "- at step3: 3*12 + 3 <br>\n",
    "this is between hidden layer and output layer meaning we have 12 weights coming out of hidden layer and they will act as input now. We have 3 dim. of output layer so 3 multipy by 12. Then we have 3 biases coming from 3 neurons of output layers. "
   ]
  },
  {
   "cell_type": "code",
   "execution_count": 25,
   "metadata": {},
   "outputs": [
    {
     "name": "stdout",
     "output_type": "stream",
     "text": [
      "(12, 12)\n",
      "(12,)\n",
      "(12, 3)\n",
      "(3,)\n"
     ]
    }
   ],
   "source": [
    "# calculation can be undersood by all steps\n",
    "for w in model.get_weights():\n",
    "    print(w.shape)"
   ]
  },
  {
   "cell_type": "markdown",
   "metadata": {},
   "source": [
    "- In total we have 4 steps. We only get computation of W and b at step1 and 3. Two other steps compute activation funtions.\n",
    "\n",
    "- Difference is summary is that it has 5 steps to show as last step is activation function.\n",
    "- For get_weights, we see what weights are on each step of layers i.e 1.input and dense layer weights, 2. biase at dense layer added, 3.dense layer and output layer weights, 4. biase at output layer "
   ]
  },
  {
   "cell_type": "markdown",
   "metadata": {},
   "source": [
    "### 3.3.fit the model"
   ]
  },
  {
   "cell_type": "markdown",
   "metadata": {},
   "source": [
    "- verbose"
   ]
  },
  {
   "cell_type": "markdown",
   "metadata": {},
   "source": [
    "By setting verbose 0, 1 or 2 you just say how do you want to 'see' the training progress for each epoch.<br>\n",
    "\n",
    "- verbose=0 will show you nothing (silent)\n",
    "\n",
    "- verbose=1 will show you an animated progress bar like this:<br>\n",
    "\n",
    "progres_bar\n",
    "\n",
    "- verbose=2 will just mention the number of epoch like this:<br>\n",
    "\n",
    "epoch 1/100"
   ]
  },
  {
   "cell_type": "code",
   "execution_count": 26,
   "metadata": {
    "scrolled": false
   },
   "outputs": [
    {
     "name": "stdout",
     "output_type": "stream",
     "text": [
      "Epoch 1/100\n",
      " - 0s - loss: 1.0503 - accuracy: 0.4174\n",
      "Epoch 2/100\n",
      " - 0s - loss: 1.0094 - accuracy: 0.4657\n",
      "Epoch 3/100\n",
      " - 0s - loss: 0.9941 - accuracy: 0.4702\n",
      "Epoch 4/100\n",
      " - 0s - loss: 0.9841 - accuracy: 0.4755\n",
      "Epoch 5/100\n",
      " - 0s - loss: 0.9762 - accuracy: 0.4830\n",
      "Epoch 6/100\n",
      " - 0s - loss: 0.9697 - accuracy: 0.4906\n",
      "Epoch 7/100\n",
      " - 0s - loss: 0.9641 - accuracy: 0.4974\n",
      "Epoch 8/100\n",
      " - 0s - loss: 0.9593 - accuracy: 0.4943\n",
      "Epoch 9/100\n",
      " - 0s - loss: 0.9550 - accuracy: 0.5019\n",
      "Epoch 10/100\n",
      " - 0s - loss: 0.9511 - accuracy: 0.5064\n",
      "Epoch 11/100\n",
      " - 0s - loss: 0.9476 - accuracy: 0.5162\n",
      "Epoch 12/100\n",
      " - 0s - loss: 0.9443 - accuracy: 0.5321\n",
      "Epoch 13/100\n",
      " - 0s - loss: 0.9412 - accuracy: 0.5434\n",
      "Epoch 14/100\n",
      " - 0s - loss: 0.9380 - accuracy: 0.5464\n",
      "Epoch 15/100\n",
      " - 0s - loss: 0.9351 - accuracy: 0.5555\n",
      "Epoch 16/100\n",
      " - 0s - loss: 0.9323 - accuracy: 0.5615\n",
      "Epoch 17/100\n",
      " - 0s - loss: 0.9296 - accuracy: 0.5585\n",
      "Epoch 18/100\n",
      " - 0s - loss: 0.9271 - accuracy: 0.5577\n",
      "Epoch 19/100\n",
      " - 0s - loss: 0.9248 - accuracy: 0.5585\n",
      "Epoch 20/100\n",
      " - 0s - loss: 0.9225 - accuracy: 0.5623\n",
      "Epoch 21/100\n",
      " - 0s - loss: 0.9205 - accuracy: 0.5585\n",
      "Epoch 22/100\n",
      " - 0s - loss: 0.9186 - accuracy: 0.5570\n",
      "Epoch 23/100\n",
      " - 0s - loss: 0.9169 - accuracy: 0.5592\n",
      "Epoch 24/100\n",
      " - 0s - loss: 0.9154 - accuracy: 0.5668\n",
      "Epoch 25/100\n",
      " - 0s - loss: 0.9139 - accuracy: 0.5645\n",
      "Epoch 26/100\n",
      " - 0s - loss: 0.9127 - accuracy: 0.5645\n",
      "Epoch 27/100\n",
      " - 0s - loss: 0.9114 - accuracy: 0.5675\n",
      "Epoch 28/100\n",
      " - 0s - loss: 0.9103 - accuracy: 0.5660\n",
      "Epoch 29/100\n",
      " - 0s - loss: 0.9093 - accuracy: 0.5660\n",
      "Epoch 30/100\n",
      " - 0s - loss: 0.9084 - accuracy: 0.5645\n",
      "Epoch 31/100\n",
      " - 0s - loss: 0.9076 - accuracy: 0.5668\n",
      "Epoch 32/100\n",
      " - 0s - loss: 0.9068 - accuracy: 0.5660\n",
      "Epoch 33/100\n",
      " - 0s - loss: 0.9060 - accuracy: 0.5653\n",
      "Epoch 34/100\n",
      " - 0s - loss: 0.9053 - accuracy: 0.5675\n",
      "Epoch 35/100\n",
      " - 0s - loss: 0.9047 - accuracy: 0.5698\n",
      "Epoch 36/100\n",
      " - 0s - loss: 0.9040 - accuracy: 0.5683\n",
      "Epoch 37/100\n",
      " - 0s - loss: 0.9034 - accuracy: 0.5683\n",
      "Epoch 38/100\n",
      " - 0s - loss: 0.9028 - accuracy: 0.5668\n",
      "Epoch 39/100\n",
      " - 0s - loss: 0.9023 - accuracy: 0.5675\n",
      "Epoch 40/100\n",
      " - 0s - loss: 0.9019 - accuracy: 0.5691\n",
      "Epoch 41/100\n",
      " - 0s - loss: 0.9014 - accuracy: 0.5660\n",
      "Epoch 42/100\n",
      " - 0s - loss: 0.9009 - accuracy: 0.5698\n",
      "Epoch 43/100\n",
      " - 0s - loss: 0.9005 - accuracy: 0.5668\n",
      "Epoch 44/100\n",
      " - 0s - loss: 0.9000 - accuracy: 0.5683\n",
      "Epoch 45/100\n",
      " - 0s - loss: 0.8996 - accuracy: 0.5668\n",
      "Epoch 46/100\n",
      " - 0s - loss: 0.8993 - accuracy: 0.5630\n",
      "Epoch 47/100\n",
      " - 0s - loss: 0.8989 - accuracy: 0.5653\n",
      "Epoch 48/100\n",
      " - 0s - loss: 0.8985 - accuracy: 0.5668\n",
      "Epoch 49/100\n",
      " - 0s - loss: 0.8982 - accuracy: 0.5668\n",
      "Epoch 50/100\n",
      " - 0s - loss: 0.8979 - accuracy: 0.5675\n",
      "Epoch 51/100\n",
      " - 0s - loss: 0.8976 - accuracy: 0.5660\n",
      "Epoch 52/100\n",
      " - 0s - loss: 0.8973 - accuracy: 0.5668\n",
      "Epoch 53/100\n",
      " - 0s - loss: 0.8970 - accuracy: 0.5645\n",
      "Epoch 54/100\n",
      " - 0s - loss: 0.8967 - accuracy: 0.5675\n",
      "Epoch 55/100\n",
      " - 0s - loss: 0.8965 - accuracy: 0.5668\n",
      "Epoch 56/100\n",
      " - 0s - loss: 0.8962 - accuracy: 0.5653\n",
      "Epoch 57/100\n",
      " - 0s - loss: 0.8960 - accuracy: 0.5675\n",
      "Epoch 58/100\n",
      " - 0s - loss: 0.8957 - accuracy: 0.5691\n",
      "Epoch 59/100\n",
      " - 0s - loss: 0.8955 - accuracy: 0.5683\n",
      "Epoch 60/100\n",
      " - 0s - loss: 0.8953 - accuracy: 0.5691\n",
      "Epoch 61/100\n",
      " - 0s - loss: 0.8950 - accuracy: 0.5668\n",
      "Epoch 62/100\n",
      " - 0s - loss: 0.8948 - accuracy: 0.5660\n",
      "Epoch 63/100\n",
      " - 0s - loss: 0.8946 - accuracy: 0.5683\n",
      "Epoch 64/100\n",
      " - 0s - loss: 0.8944 - accuracy: 0.5691\n",
      "Epoch 65/100\n",
      " - 0s - loss: 0.8942 - accuracy: 0.5683\n",
      "Epoch 66/100\n",
      " - 0s - loss: 0.8940 - accuracy: 0.5683\n",
      "Epoch 67/100\n",
      " - 0s - loss: 0.8938 - accuracy: 0.5668\n",
      "Epoch 68/100\n",
      " - 0s - loss: 0.8937 - accuracy: 0.5706\n",
      "Epoch 69/100\n",
      " - 0s - loss: 0.8935 - accuracy: 0.5660\n",
      "Epoch 70/100\n",
      " - 0s - loss: 0.8934 - accuracy: 0.5668\n",
      "Epoch 71/100\n",
      " - 0s - loss: 0.8932 - accuracy: 0.5668\n",
      "Epoch 72/100\n",
      " - 0s - loss: 0.8930 - accuracy: 0.5660\n",
      "Epoch 73/100\n",
      " - 0s - loss: 0.8929 - accuracy: 0.5675\n",
      "Epoch 74/100\n",
      " - 0s - loss: 0.8927 - accuracy: 0.5668\n",
      "Epoch 75/100\n",
      " - 0s - loss: 0.8926 - accuracy: 0.5675\n",
      "Epoch 76/100\n",
      " - 0s - loss: 0.8924 - accuracy: 0.5675\n",
      "Epoch 77/100\n",
      " - 0s - loss: 0.8923 - accuracy: 0.5698\n",
      "Epoch 78/100\n",
      " - 0s - loss: 0.8922 - accuracy: 0.5691\n",
      "Epoch 79/100\n",
      " - 0s - loss: 0.8920 - accuracy: 0.5660\n",
      "Epoch 80/100\n",
      " - 0s - loss: 0.8919 - accuracy: 0.5698\n",
      "Epoch 81/100\n",
      " - 0s - loss: 0.8918 - accuracy: 0.5691\n",
      "Epoch 82/100\n",
      " - 0s - loss: 0.8916 - accuracy: 0.5713\n",
      "Epoch 83/100\n",
      " - 0s - loss: 0.8915 - accuracy: 0.5713\n",
      "Epoch 84/100\n",
      " - 0s - loss: 0.8914 - accuracy: 0.5691\n",
      "Epoch 85/100\n",
      " - 0s - loss: 0.8913 - accuracy: 0.5713\n",
      "Epoch 86/100\n",
      " - 0s - loss: 0.8911 - accuracy: 0.5713\n",
      "Epoch 87/100\n",
      " - 0s - loss: 0.8910 - accuracy: 0.5691\n",
      "Epoch 88/100\n",
      " - 0s - loss: 0.8909 - accuracy: 0.5706\n",
      "Epoch 89/100\n",
      " - 0s - loss: 0.8908 - accuracy: 0.5698\n",
      "Epoch 90/100\n",
      " - 0s - loss: 0.8907 - accuracy: 0.5721\n",
      "Epoch 91/100\n",
      " - 0s - loss: 0.8906 - accuracy: 0.5706\n",
      "Epoch 92/100\n",
      " - 0s - loss: 0.8905 - accuracy: 0.5706\n",
      "Epoch 93/100\n",
      " - 0s - loss: 0.8903 - accuracy: 0.5721\n",
      "Epoch 94/100\n",
      " - 0s - loss: 0.8902 - accuracy: 0.5728\n",
      "Epoch 95/100\n",
      " - 0s - loss: 0.8902 - accuracy: 0.5721\n",
      "Epoch 96/100\n",
      " - 0s - loss: 0.8900 - accuracy: 0.5698\n",
      "Epoch 97/100\n",
      " - 0s - loss: 0.8899 - accuracy: 0.5728\n",
      "Epoch 98/100\n",
      " - 0s - loss: 0.8898 - accuracy: 0.5706\n",
      "Epoch 99/100\n",
      " - 0s - loss: 0.8897 - accuracy: 0.5721\n",
      "Epoch 100/100\n",
      " - 0s - loss: 0.8896 - accuracy: 0.5706\n"
     ]
    },
    {
     "data": {
      "text/plain": [
       "<keras.callbacks.callbacks.History at 0x18c6014f788>"
      ]
     },
     "execution_count": 26,
     "metadata": {},
     "output_type": "execute_result"
    }
   ],
   "source": [
    "model.fit(train_x, train_y, nb_epoch=epoch,batch_size=batch, verbose=2)"
   ]
  },
  {
   "cell_type": "markdown",
   "metadata": {},
   "source": [
    "# 4- Model Evaluation"
   ]
  },
  {
   "cell_type": "code",
   "execution_count": 27,
   "metadata": {},
   "outputs": [
    {
     "name": "stdout",
     "output_type": "stream",
     "text": [
      "148/148 [==============================] - 0s 128us/step\n",
      "Test accuracy: 0.5945945978164673\n"
     ]
    }
   ],
   "source": [
    "score = model.evaluate(test_x, test_y,\n",
    "                       batch_size=batch)\n",
    "print('Test accuracy:', score[1])"
   ]
  },
  {
   "cell_type": "markdown",
   "metadata": {},
   "source": [
    "On test data, we get higher accuracy than training data."
   ]
  },
  {
   "cell_type": "markdown",
   "metadata": {},
   "source": [
    "### 4.1.probability distribution"
   ]
  },
  {
   "cell_type": "code",
   "execution_count": 28,
   "metadata": {},
   "outputs": [
    {
     "data": {
      "text/plain": [
       "array([[0.27659097, 0.3031548 , 0.42025417],\n",
       "       [0.7828973 , 0.10039046, 0.11671227],\n",
       "       [0.24064758, 0.16997321, 0.5893792 ],\n",
       "       [0.44398442, 0.3544062 , 0.20160937],\n",
       "       [0.7209546 , 0.12301193, 0.15603353]], dtype=float32)"
      ]
     },
     "execution_count": 28,
     "metadata": {},
     "output_type": "execute_result"
    }
   ],
   "source": [
    "y_pred=model.predict(test_x)\n",
    "y_pred[:5]"
   ]
  },
  {
   "cell_type": "markdown",
   "metadata": {},
   "source": [
    "### 4.2.prediction classes"
   ]
  },
  {
   "cell_type": "code",
   "execution_count": 29,
   "metadata": {},
   "outputs": [],
   "source": [
    "## predict crisp classes for test set. Output will be 1-D\n",
    "y_test_class = np.argmax(test_y,axis=1)\n",
    "y_pred_class = np.argmax(y_pred,axis=1)"
   ]
  },
  {
   "cell_type": "code",
   "execution_count": 30,
   "metadata": {},
   "outputs": [
    {
     "data": {
      "text/plain": [
       "array([0, 0, 2, 0, 0], dtype=int64)"
      ]
     },
     "execution_count": 30,
     "metadata": {},
     "output_type": "execute_result"
    }
   ],
   "source": [
    "#true claesses\n",
    "y_test_class[:5]"
   ]
  },
  {
   "cell_type": "code",
   "execution_count": 31,
   "metadata": {},
   "outputs": [
    {
     "data": {
      "text/plain": [
       "array([2, 0, 2, 0, 0], dtype=int64)"
      ]
     },
     "execution_count": 31,
     "metadata": {},
     "output_type": "execute_result"
    }
   ],
   "source": [
    "#predicted classes\n",
    "y_pred_class[:5]"
   ]
  },
  {
   "cell_type": "markdown",
   "metadata": {},
   "source": [
    "### 4.3.weight performance of each step"
   ]
  },
  {
   "cell_type": "code",
   "execution_count": 32,
   "metadata": {},
   "outputs": [
    {
     "data": {
      "text/plain": [
       "[array([[-0.4868305 ,  0.5758508 ,  0.69801813,  0.06488978,  0.30670866,\n",
       "         -0.4495593 , -0.14124537,  0.31386882,  0.6893727 , -0.17765318,\n",
       "          0.14431919,  0.13832472],\n",
       "        [ 0.3792551 ,  0.5005043 , -0.12553741,  0.2844328 , -0.8979327 ,\n",
       "         -0.07528007,  0.10422943, -0.03617512, -0.08558214, -0.549503  ,\n",
       "         -0.42476556, -0.9498079 ],\n",
       "        [-0.01381412, -0.40281686,  0.19423242, -0.3457703 , -0.25569028,\n",
       "          0.23048057, -0.05447122,  0.09585739, -0.12762864, -0.4470554 ,\n",
       "          0.32296336,  0.26520142],\n",
       "        [-0.02045248, -0.01715326,  0.6257382 , -0.32715824,  0.07146992,\n",
       "          0.3123249 ,  0.32078832,  0.14584295,  0.13889214, -0.14512844,\n",
       "         -0.00249851,  0.24065669],\n",
       "        [ 0.06806789,  0.06659345,  0.17989822,  0.20276032,  0.24392037,\n",
       "         -0.08845601,  0.5185902 ,  0.07665098,  0.6407426 , -0.31759295,\n",
       "          0.26000533, -0.16841882],\n",
       "        [-0.33096522,  0.45013732,  0.1998777 ,  0.1542275 ,  0.10773113,\n",
       "         -0.2069799 ,  0.6061577 , -0.11612518, -0.22882709, -0.01013429,\n",
       "         -0.26967067,  0.13460559],\n",
       "        [-0.20064968, -0.39301163, -0.35269436,  0.39578688,  0.5838771 ,\n",
       "         -0.02622399, -0.20165011, -0.08588234,  0.07116286, -0.16088447,\n",
       "         -0.33029166, -0.21383268],\n",
       "        [-0.32968444, -0.08523546, -0.0243936 ,  0.7171815 ,  0.10167253,\n",
       "          0.5616808 , -0.34219193,  0.0972994 , -0.5666621 , -0.27622962,\n",
       "         -0.39533812, -0.2028209 ],\n",
       "        [ 0.5908738 , -0.10387678,  0.4325722 , -0.18568657,  0.5813745 ,\n",
       "          0.44349018, -0.10184439,  0.22211975,  0.3066051 , -0.01524527,\n",
       "          0.4892353 ,  0.31347594],\n",
       "        [ 0.1751606 , -0.07578494, -0.12250246, -0.47300696, -0.06976175,\n",
       "          0.11106218,  0.4178602 , -0.34696302,  0.34779924,  0.21216533,\n",
       "         -0.20407729, -0.23253834],\n",
       "        [ 0.19544731,  0.16847917,  0.0587702 , -0.36671212, -0.26295072,\n",
       "          0.43516338,  0.24895394,  0.34977838,  0.21798587,  0.45866966,\n",
       "          0.5025275 , -0.36889806],\n",
       "        [-0.10655982, -0.522264  , -0.12229465,  0.18605343, -0.08596249,\n",
       "         -0.13312326,  0.33398992, -0.19224438,  0.121212  ,  0.29677185,\n",
       "          0.06839236, -0.20590332]], dtype=float32),\n",
       " array([ 0.11322735, -0.00199387, -0.02470555,  0.23955455, -0.0521677 ,\n",
       "         0.19814254,  0.05264901, -0.03376852,  0.03689025, -0.00680966,\n",
       "        -0.05220621,  0.06150653], dtype=float32),\n",
       " array([[ 2.0879783e-01, -6.9886452e-01,  5.3928578e-01],\n",
       "        [ 2.8594625e-01,  1.4252022e-01, -1.3729179e-01],\n",
       "        [ 3.2826439e-01,  1.1001879e-01, -3.4818414e-01],\n",
       "        [-6.0767388e-01,  1.2715338e-01,  8.6751962e-03],\n",
       "        [ 4.8560032e-01, -3.5618964e-01, -1.1335886e-01],\n",
       "        [-4.3945619e-01, -1.8749346e-01, -7.0614938e-04],\n",
       "        [ 2.8345522e-01, -6.2530762e-01,  5.2880257e-01],\n",
       "        [-2.1772145e-01,  1.1397534e-01, -6.2535328e-01],\n",
       "        [ 7.7983886e-01,  3.0597001e-02, -6.7051888e-02],\n",
       "        [ 8.6925018e-01, -1.8509787e-01, -4.4616929e-01],\n",
       "        [-3.8002551e-01, -8.2229531e-01, -2.3791675e-01],\n",
       "        [ 3.8030392e-01, -6.1544293e-01, -6.3627779e-01]], dtype=float32),\n",
       " array([-0.21398927,  0.10514512,  0.12351968], dtype=float32)]"
      ]
     },
     "execution_count": 32,
     "metadata": {},
     "output_type": "execute_result"
    }
   ],
   "source": [
    "a = model.get_weights()\n",
    "a"
   ]
  },
  {
   "cell_type": "code",
   "execution_count": 33,
   "metadata": {},
   "outputs": [
    {
     "data": {
      "image/png": "[encoded data removed]",
      "text/plain": [
       "<Figure size 432x288 with 1 Axes>"
      ]
     },
     "metadata": {
      "needs_background": "light"
     },
     "output_type": "display_data"
    }
   ],
   "source": [
    "plt.hist(model.get_weights()[0].ravel(),100)\n",
    "plt.show()"
   ]
  },
  {
   "cell_type": "markdown",
   "metadata": {},
   "source": [
    "We ideally seek for a bell shape curve. Here , we can see somewhat a broken sequence of weights over the model"
   ]
  },
  {
   "cell_type": "markdown",
   "metadata": {},
   "source": [
    "# END OF NOTEBOOK"
   ]
  }
 ],
 "metadata": {
  "kernelspec": {
   "display_name": "Python 3.7 (tensorflow)",
   "language": "python",
   "name": "tensorflow"
  },
  "language_info": {
   "codemirror_mode": {
    "name": "ipython",
    "version": 3
   },
   "file_extension": ".py",
   "mimetype": "text/x-python",
   "name": "python",
   "nbconvert_exporter": "python",
   "pygments_lexer": "ipython3",
   "version": "3.7.7"
  }
 },
 "nbformat": 4,
 "nbformat_minor": 4
}
