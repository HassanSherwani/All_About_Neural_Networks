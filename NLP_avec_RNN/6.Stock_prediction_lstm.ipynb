{
  "nbformat": 4,
  "nbformat_minor": 0,
  "metadata": {
    "language_info": {
      "codemirror_mode": {
        "name": "ipython",
        "version": 3
      },
      "file_extension": ".py",
      "mimetype": "text/x-python",
      "name": "python",
      "nbconvert_exporter": "python",
      "pygments_lexer": "ipython3",
      "version": "3.7.4-final"
    },
    "orig_nbformat": 2,
    "kernelspec": {
      "name": "python_defaultSpec_1595456381049",
      "display_name": "Python 3.7.4 64-bit ('base': conda)"
    },
    "colab": {
      "name": "6.Stock_prediction_lstm.ipynb",
      "provenance": [],
      "collapsed_sections": []
    }
  },
  "cells": [
    {
      "cell_type": "markdown",
      "metadata": {
        "id": "0nzZ4kdDz-V6",
        "colab_type": "text"
      },
      "source": [
        "<p>\n",
        "Special thanks Vytautas Bielinskas for dataset <br>\n",
        "</p>"
      ]
    },
    {
      "cell_type": "markdown",
      "metadata": {
        "id": "r_f94e_tz-V7",
        "colab_type": "text"
      },
      "source": [
        "# 1- Import key Modules"
      ]
    },
    {
      "cell_type": "code",
      "metadata": {
        "id": "SQtcSIKs6g6n",
        "colab_type": "code",
        "colab": {}
      },
      "source": [
        "#support both Python 2 and Python 3 with minimal overhead.\n",
        "from __future__ import absolute_import, division, print_function\n",
        "#ignore warnings\n",
        "import warnings\n",
        "warnings.filterwarnings('ignore')"
      ],
      "execution_count": 22,
      "outputs": []
    },
    {
      "cell_type": "code",
      "metadata": {
        "tags": [],
        "id": "zKxJ0PO2z-V8",
        "colab_type": "code",
        "colab": {}
      },
      "source": [
        "# Import modules and packages\n",
        "import numpy as np\n",
        "import pandas as pd\n",
        "import matplotlib.pyplot as plt\n",
        "import datetime as dt\n",
        "from datetime import datetime\n",
        "\n",
        "from keras.callbacks import EarlyStopping, ReduceLROnPlateau, ModelCheckpoint, TensorBoard\n",
        "\n",
        "%matplotlib inline"
      ],
      "execution_count": 1,
      "outputs": []
    },
    {
      "cell_type": "code",
      "metadata": {
        "id": "6382uhy86msm",
        "colab_type": "code",
        "colab": {}
      },
      "source": [
        "# Import Libraries and packages from Keras\n",
        "from keras.models import Sequential\n",
        "from keras.layers import Dense\n",
        "from keras.layers import LSTM\n",
        "from keras.layers import Dropout\n",
        "from keras.optimizers import Adam"
      ],
      "execution_count": 23,
      "outputs": []
    },
    {
      "cell_type": "markdown",
      "metadata": {
        "id": "XqS9auSiz-V_",
        "colab_type": "text"
      },
      "source": [
        "# 2- Loading and preparing dataset"
      ]
    },
    {
      "cell_type": "code",
      "metadata": {
        "id": "tsiqY_Pg6tnH",
        "colab_type": "code",
        "colab": {
          "base_uri": "https://localhost:8080/",
          "height": 34
        },
        "outputId": "abe76417-af07-400c-d9c5-8437eae1cb4c"
      },
      "source": [
        "# Importing Training Set\n",
        "dataset_train = pd.read_csv('GOOG.csv')\n",
        "dataset_train.shape"
      ],
      "execution_count": 26,
      "outputs": [
        {
          "output_type": "execute_result",
          "data": {
            "text/plain": [
              "(4006, 7)"
            ]
          },
          "metadata": {
            "tags": []
          },
          "execution_count": 26
        }
      ]
    },
    {
      "cell_type": "code",
      "metadata": {
        "id": "AYkbtUUk6uWu",
        "colab_type": "code",
        "colab": {
          "base_uri": "https://localhost:8080/",
          "height": 195
        },
        "outputId": "dbfd449b-5234-446d-ba23-c500d9df2bea"
      },
      "source": [
        "dataset_train.head()"
      ],
      "execution_count": 25,
      "outputs": [
        {
          "output_type": "execute_result",
          "data": {
            "text/html": [
              "<div>\n",
              "<style scoped>\n",
              "    .dataframe tbody tr th:only-of-type {\n",
              "        vertical-align: middle;\n",
              "    }\n",
              "\n",
              "    .dataframe tbody tr th {\n",
              "        vertical-align: top;\n",
              "    }\n",
              "\n",
              "    .dataframe thead th {\n",
              "        text-align: right;\n",
              "    }\n",
              "</style>\n",
              "<table border=\"1\" class=\"dataframe\">\n",
              "  <thead>\n",
              "    <tr style=\"text-align: right;\">\n",
              "      <th></th>\n",
              "      <th>Date</th>\n",
              "      <th>Open</th>\n",
              "      <th>High</th>\n",
              "      <th>Low</th>\n",
              "      <th>Close</th>\n",
              "      <th>Adj Close</th>\n",
              "      <th>Volume</th>\n",
              "    </tr>\n",
              "  </thead>\n",
              "  <tbody>\n",
              "    <tr>\n",
              "      <th>0</th>\n",
              "      <td>2004-08-19</td>\n",
              "      <td>49.813286</td>\n",
              "      <td>51.835709</td>\n",
              "      <td>47.800831</td>\n",
              "      <td>49.982655</td>\n",
              "      <td>49.982655</td>\n",
              "      <td>44871300</td>\n",
              "    </tr>\n",
              "    <tr>\n",
              "      <th>1</th>\n",
              "      <td>2004-08-20</td>\n",
              "      <td>50.316402</td>\n",
              "      <td>54.336334</td>\n",
              "      <td>50.062355</td>\n",
              "      <td>53.952770</td>\n",
              "      <td>53.952770</td>\n",
              "      <td>22942800</td>\n",
              "    </tr>\n",
              "    <tr>\n",
              "      <th>2</th>\n",
              "      <td>2004-08-23</td>\n",
              "      <td>55.168217</td>\n",
              "      <td>56.528118</td>\n",
              "      <td>54.321388</td>\n",
              "      <td>54.495735</td>\n",
              "      <td>54.495735</td>\n",
              "      <td>18342800</td>\n",
              "    </tr>\n",
              "    <tr>\n",
              "      <th>3</th>\n",
              "      <td>2004-08-24</td>\n",
              "      <td>55.412300</td>\n",
              "      <td>55.591629</td>\n",
              "      <td>51.591621</td>\n",
              "      <td>52.239193</td>\n",
              "      <td>52.239193</td>\n",
              "      <td>15319700</td>\n",
              "    </tr>\n",
              "    <tr>\n",
              "      <th>4</th>\n",
              "      <td>2004-08-25</td>\n",
              "      <td>52.284027</td>\n",
              "      <td>53.798351</td>\n",
              "      <td>51.746044</td>\n",
              "      <td>52.802086</td>\n",
              "      <td>52.802086</td>\n",
              "      <td>9232100</td>\n",
              "    </tr>\n",
              "  </tbody>\n",
              "</table>\n",
              "</div>"
            ],
            "text/plain": [
              "         Date       Open       High        Low      Close  Adj Close    Volume\n",
              "0  2004-08-19  49.813286  51.835709  47.800831  49.982655  49.982655  44871300\n",
              "1  2004-08-20  50.316402  54.336334  50.062355  53.952770  53.952770  22942800\n",
              "2  2004-08-23  55.168217  56.528118  54.321388  54.495735  54.495735  18342800\n",
              "3  2004-08-24  55.412300  55.591629  51.591621  52.239193  52.239193  15319700\n",
              "4  2004-08-25  52.284027  53.798351  51.746044  52.802086  52.802086   9232100"
            ]
          },
          "metadata": {
            "tags": []
          },
          "execution_count": 25
        }
      ]
    },
    {
      "cell_type": "code",
      "metadata": {
        "tags": [],
        "id": "mNiGoGAlz-V_",
        "colab_type": "code",
        "colab": {}
      },
      "source": [
        "# Select features (columns) to be involved intro training and predictions\n",
        "cols = list(dataset_train)[1:6]\n",
        "\n",
        "# Extract dates (will be used in visualization)\n",
        "datelist_train = list(dataset_train['Date'])\n",
        "datelist_train = [dt.datetime.strptime(date, '%Y-%m-%d').date() for date in datelist_train]"
      ],
      "execution_count": 27,
      "outputs": []
    },
    {
      "cell_type": "code",
      "metadata": {
        "id": "MJPf9aFr64_f",
        "colab_type": "code",
        "colab": {
          "base_uri": "https://localhost:8080/",
          "height": 67
        },
        "outputId": "3b7e3020-6dc3-441e-bbb0-a32a7c65b4f3"
      },
      "source": [
        "print('Training set shape == {}'.format(dataset_train.shape))\n",
        "print('All timestamps == {}'.format(len(datelist_train)))\n",
        "print('Featured selected: {}'.format(cols))"
      ],
      "execution_count": 28,
      "outputs": [
        {
          "output_type": "stream",
          "text": [
            "Training set shape == (4006, 7)\n",
            "All timestamps == 4006\n",
            "Featured selected: ['Open', 'High', 'Low', 'Close', 'Adj Close']\n"
          ],
          "name": "stdout"
        }
      ]
    },
    {
      "cell_type": "markdown",
      "metadata": {
        "id": "LIB5mr-Cz-WC",
        "colab_type": "text"
      },
      "source": [
        "<h3>Step #2. Data pre-processing</h3>\n",
        "<p>\n",
        "Removing all commas and convert data to matrix shape format.\n",
        "</p>"
      ]
    },
    {
      "cell_type": "code",
      "metadata": {
        "tags": [],
        "id": "uvkAcAwRz-WD",
        "colab_type": "code",
        "colab": {}
      },
      "source": [
        "dataset_train = dataset_train[cols].astype(str)\n",
        "for i in cols:\n",
        "    for j in range(0, len(dataset_train)):\n",
        "        dataset_train[i][j] = dataset_train[i][j].replace(',', '')\n",
        "\n",
        "dataset_train = dataset_train.astype(float)"
      ],
      "execution_count": 6,
      "outputs": []
    },
    {
      "cell_type": "code",
      "metadata": {
        "id": "2TVIxtFE0vft",
        "colab_type": "code",
        "colab": {
          "base_uri": "https://localhost:8080/",
          "height": 151
        },
        "outputId": "b840d449-f482-401f-c3f3-77168bf96831"
      },
      "source": [
        "# Using multiple features (predictors)\n",
        "training_set = np.array(dataset_train)\n",
        "print('Shape of training set == {}.'.format(training_set.shape))\n",
        "training_set"
      ],
      "execution_count": 8,
      "outputs": [
        {
          "output_type": "stream",
          "text": [
            "Shape of training set == (4006, 5).\n"
          ],
          "name": "stdout"
        },
        {
          "output_type": "execute_result",
          "data": {
            "text/plain": [
              "array([[  49.813286,   51.835709,   47.800831,   49.982655,   49.982655],\n",
              "       [  50.316402,   54.336334,   50.062355,   53.95277 ,   53.95277 ],\n",
              "       [  55.168217,   56.528118,   54.321388,   54.495735,   54.495735],\n",
              "       ...,\n",
              "       [1523.130005, 1535.329956, 1498.      , 1513.640015, 1513.640015],\n",
              "       [1500.      , 1518.689941, 1486.310059, 1518.      , 1518.      ],\n",
              "       [1521.619995, 1523.439941, 1498.420044, 1515.550049, 1515.550049]])"
            ]
          },
          "metadata": {
            "tags": []
          },
          "execution_count": 8
        }
      ]
    },
    {
      "cell_type": "code",
      "metadata": {
        "tags": [],
        "id": "dqtwNQiKz-WG",
        "colab_type": "code",
        "colab": {
          "base_uri": "https://localhost:8080/",
          "height": 134
        },
        "outputId": "86da1b2c-df80-4b66-9619-37b0ca421650"
      },
      "source": [
        "# Feature Scaling\n",
        "from sklearn.preprocessing import StandardScaler\n",
        "\n",
        "sc = StandardScaler()\n",
        "training_set_scaled = sc.fit_transform(training_set)\n",
        "\n",
        "sc_predict = StandardScaler()\n",
        "sc_predict.fit_transform(training_set[:, 0:1])"
      ],
      "execution_count": 9,
      "outputs": [
        {
          "output_type": "execute_result",
          "data": {
            "text/plain": [
              "array([[-1.27195197],\n",
              "       [-1.27058974],\n",
              "       [-1.25745309],\n",
              "       ...,\n",
              "       [ 2.71716347],\n",
              "       [ 2.65453724],\n",
              "       [ 2.713075  ]])"
            ]
          },
          "metadata": {
            "tags": []
          },
          "execution_count": 9
        }
      ]
    },
    {
      "cell_type": "code",
      "metadata": {
        "tags": [],
        "id": "oBM-247Fz-WJ",
        "colab_type": "code",
        "colab": {
          "base_uri": "https://localhost:8080/",
          "height": 50
        },
        "outputId": "27f67092-40ac-4cce-c78f-1890b691f239"
      },
      "source": [
        "# Creating a data structure with 90 timestamps and 1 output\n",
        "X_train = []\n",
        "y_train = []\n",
        "\n",
        "n_future = 60   # Number of days we want top predict into the future\n",
        "n_past = 90     # Number of past days we want to use to predict the future\n",
        "\n",
        "for i in range(n_past, len(training_set_scaled) - n_future +1):\n",
        "    X_train.append(training_set_scaled[i - n_past:i, 0:dataset_train.shape[1] - 1])\n",
        "    y_train.append(training_set_scaled[i + n_future - 1:i + n_future, 0])\n",
        "\n",
        "X_train, y_train = np.array(X_train), np.array(y_train)\n",
        "\n",
        "print('X_train shape == {}.'.format(X_train.shape))\n",
        "print('y_train shape == {}.'.format(y_train.shape))"
      ],
      "execution_count": 10,
      "outputs": [
        {
          "output_type": "stream",
          "text": [
            "X_train shape == (3857, 90, 4).\n",
            "y_train shape == (3857, 1).\n"
          ],
          "name": "stdout"
        }
      ]
    },
    {
      "cell_type": "markdown",
      "metadata": {
        "id": "9gWKM18qz-WL",
        "colab_type": "text"
      },
      "source": [
        "<h2>PART 2. Create a model. Training</h2>"
      ]
    },
    {
      "cell_type": "markdown",
      "metadata": {
        "id": "f3593PY-z-WM",
        "colab_type": "text"
      },
      "source": [
        "<h3>Step #3. Building the LSTM based Neural Network</h3>"
      ]
    },
    {
      "cell_type": "code",
      "metadata": {
        "id": "S35DaNRYz-WM",
        "colab_type": "code",
        "colab": {}
      },
      "source": [
        "# Import Libraries and packages from Keras\n",
        "from keras.models import Sequential\n",
        "from keras.layers import Dense\n",
        "from keras.layers import LSTM\n",
        "from keras.layers import Dropout\n",
        "from keras.optimizers import Adam"
      ],
      "execution_count": 11,
      "outputs": []
    },
    {
      "cell_type": "code",
      "metadata": {
        "tags": [],
        "id": "RkVLwGabz-WP",
        "colab_type": "code",
        "colab": {}
      },
      "source": [
        "# Initializing the Neural Network based on LSTM\n",
        "model = Sequential()\n",
        "\n",
        "# Adding 1st LSTM layer\n",
        "model.add(LSTM(units=64, return_sequences=True, input_shape=(n_past, dataset_train.shape[1]-1)))\n",
        "\n",
        "# Adding 2nd LSTM layer\n",
        "model.add(LSTM(units=10, return_sequences=False))\n",
        "\n",
        "# Adding Dropout\n",
        "model.add(Dropout(0.20))\n",
        "\n",
        "# Output layer\n",
        "model.add(Dense(units=1, activation='linear')) # y_train has output with shape 1\n",
        "\n",
        "# Compiling the Neural Network\n",
        "model.compile(optimizer = Adam(learning_rate=0.01), loss='mean_squared_error')"
      ],
      "execution_count": 12,
      "outputs": []
    },
    {
      "cell_type": "markdown",
      "metadata": {
        "id": "LXAg3cCYz-WS",
        "colab_type": "text"
      },
      "source": [
        "<h3>Step #4. Start training</h3>"
      ]
    },
    {
      "cell_type": "code",
      "metadata": {
        "tags": [],
        "id": "LaNvyTwjz-WS",
        "colab_type": "code",
        "colab": {
          "base_uri": "https://localhost:8080/",
          "height": 1000
        },
        "outputId": "24a11911-82db-4374-9613-7ee91cac7a1f"
      },
      "source": [
        "%%time\n",
        "es = EarlyStopping(monitor='val_loss', min_delta=1e-10, patience=10, verbose=1)\n",
        "rlr = ReduceLROnPlateau(monitor='val_loss', factor=0.5, patience=10, verbose=1)\n",
        "mcp = ModelCheckpoint(filepath='weights.h5', monitor='val_loss', verbose=1, save_best_only=True, save_weights_only=True)\n",
        "\n",
        "tb = TensorBoard('logs')\n",
        "\n",
        "history = model.fit(X_train, y_train, shuffle=True, epochs=30, callbacks=[es, rlr, mcp, tb], validation_split=0.2, verbose=1, batch_size=256)"
      ],
      "execution_count": 13,
      "outputs": [
        {
          "output_type": "stream",
          "text": [
            "Epoch 1/30\n",
            " 1/13 [=>............................] - ETA: 0s - loss: 0.2422WARNING:tensorflow:From /usr/local/lib/python3.6/dist-packages/tensorflow/python/ops/summary_ops_v2.py:1277: stop (from tensorflow.python.eager.profiler) is deprecated and will be removed after 2020-07-01.\n",
            "Instructions for updating:\n",
            "use `tf.profiler.experimental.stop` instead.\n",
            "13/13 [==============================] - ETA: 0s - loss: 0.0952\n",
            "Epoch 00001: val_loss improved from inf to 0.24599, saving model to weights.h5\n",
            "13/13 [==============================] - 4s 291ms/step - loss: 0.0952 - val_loss: 0.2460\n",
            "Epoch 2/30\n",
            "13/13 [==============================] - ETA: 0s - loss: 0.0315\n",
            "Epoch 00002: val_loss improved from 0.24599 to 0.23961, saving model to weights.h5\n",
            "13/13 [==============================] - 3s 207ms/step - loss: 0.0315 - val_loss: 0.2396\n",
            "Epoch 3/30\n",
            "13/13 [==============================] - ETA: 0s - loss: 0.0274\n",
            "Epoch 00003: val_loss improved from 0.23961 to 0.10777, saving model to weights.h5\n",
            "13/13 [==============================] - 3s 207ms/step - loss: 0.0274 - val_loss: 0.1078\n",
            "Epoch 4/30\n",
            "13/13 [==============================] - ETA: 0s - loss: 0.0266\n",
            "Epoch 00004: val_loss did not improve from 0.10777\n",
            "13/13 [==============================] - 3s 205ms/step - loss: 0.0266 - val_loss: 0.1586\n",
            "Epoch 5/30\n",
            "13/13 [==============================] - ETA: 0s - loss: 0.0264\n",
            "Epoch 00005: val_loss did not improve from 0.10777\n",
            "13/13 [==============================] - 3s 206ms/step - loss: 0.0264 - val_loss: 0.3063\n",
            "Epoch 6/30\n",
            "13/13 [==============================] - ETA: 0s - loss: 0.0264\n",
            "Epoch 00006: val_loss did not improve from 0.10777\n",
            "13/13 [==============================] - 3s 208ms/step - loss: 0.0264 - val_loss: 0.1149\n",
            "Epoch 7/30\n",
            "13/13 [==============================] - ETA: 0s - loss: 0.0260\n",
            "Epoch 00007: val_loss did not improve from 0.10777\n",
            "13/13 [==============================] - 3s 206ms/step - loss: 0.0260 - val_loss: 0.1089\n",
            "Epoch 8/30\n",
            "13/13 [==============================] - ETA: 0s - loss: 0.0252\n",
            "Epoch 00008: val_loss did not improve from 0.10777\n",
            "13/13 [==============================] - 3s 205ms/step - loss: 0.0252 - val_loss: 0.1462\n",
            "Epoch 9/30\n",
            "13/13 [==============================] - ETA: 0s - loss: 0.0263\n",
            "Epoch 00009: val_loss improved from 0.10777 to 0.10587, saving model to weights.h5\n",
            "13/13 [==============================] - 3s 206ms/step - loss: 0.0263 - val_loss: 0.1059\n",
            "Epoch 10/30\n",
            "13/13 [==============================] - ETA: 0s - loss: 0.0248\n",
            "Epoch 00010: val_loss improved from 0.10587 to 0.08969, saving model to weights.h5\n",
            "13/13 [==============================] - 3s 207ms/step - loss: 0.0248 - val_loss: 0.0897\n",
            "Epoch 11/30\n",
            "13/13 [==============================] - ETA: 0s - loss: 0.0231\n",
            "Epoch 00011: val_loss did not improve from 0.08969\n",
            "13/13 [==============================] - 3s 207ms/step - loss: 0.0231 - val_loss: 0.0947\n",
            "Epoch 12/30\n",
            "13/13 [==============================] - ETA: 0s - loss: 0.0239\n",
            "Epoch 00012: val_loss improved from 0.08969 to 0.08750, saving model to weights.h5\n",
            "13/13 [==============================] - 3s 206ms/step - loss: 0.0239 - val_loss: 0.0875\n",
            "Epoch 13/30\n",
            "13/13 [==============================] - ETA: 0s - loss: 0.0243\n",
            "Epoch 00013: val_loss did not improve from 0.08750\n",
            "13/13 [==============================] - 3s 221ms/step - loss: 0.0243 - val_loss: 0.0973\n",
            "Epoch 14/30\n",
            "13/13 [==============================] - ETA: 0s - loss: 0.0242\n",
            "Epoch 00014: val_loss did not improve from 0.08750\n",
            "13/13 [==============================] - 3s 217ms/step - loss: 0.0242 - val_loss: 0.0964\n",
            "Epoch 15/30\n",
            "13/13 [==============================] - ETA: 0s - loss: 0.0229\n",
            "Epoch 00015: val_loss did not improve from 0.08750\n",
            "13/13 [==============================] - 3s 218ms/step - loss: 0.0229 - val_loss: 0.0900\n",
            "Epoch 16/30\n",
            "13/13 [==============================] - ETA: 0s - loss: 0.0234\n",
            "Epoch 00016: val_loss did not improve from 0.08750\n",
            "13/13 [==============================] - 3s 210ms/step - loss: 0.0234 - val_loss: 0.1377\n",
            "Epoch 17/30\n",
            "13/13 [==============================] - ETA: 0s - loss: 0.0237\n",
            "Epoch 00017: val_loss did not improve from 0.08750\n",
            "13/13 [==============================] - 3s 206ms/step - loss: 0.0237 - val_loss: 0.1014\n",
            "Epoch 18/30\n",
            "13/13 [==============================] - ETA: 0s - loss: 0.0227\n",
            "Epoch 00018: val_loss did not improve from 0.08750\n",
            "13/13 [==============================] - 3s 205ms/step - loss: 0.0227 - val_loss: 0.0953\n",
            "Epoch 19/30\n",
            "13/13 [==============================] - ETA: 0s - loss: 0.0232\n",
            "Epoch 00019: val_loss did not improve from 0.08750\n",
            "13/13 [==============================] - 3s 206ms/step - loss: 0.0232 - val_loss: 0.1627\n",
            "Epoch 20/30\n",
            "13/13 [==============================] - ETA: 0s - loss: 0.0224\n",
            "Epoch 00020: val_loss did not improve from 0.08750\n",
            "13/13 [==============================] - 3s 209ms/step - loss: 0.0224 - val_loss: 0.0972\n",
            "Epoch 21/30\n",
            "13/13 [==============================] - ETA: 0s - loss: 0.0225\n",
            "Epoch 00021: val_loss did not improve from 0.08750\n",
            "13/13 [==============================] - 3s 206ms/step - loss: 0.0225 - val_loss: 0.0883\n",
            "Epoch 22/30\n",
            "13/13 [==============================] - ETA: 0s - loss: 0.0235\n",
            "Epoch 00022: ReduceLROnPlateau reducing learning rate to 0.004999999888241291.\n",
            "\n",
            "Epoch 00022: val_loss did not improve from 0.08750\n",
            "13/13 [==============================] - 3s 206ms/step - loss: 0.0235 - val_loss: 0.1075\n",
            "Epoch 00022: early stopping\n",
            "CPU times: user 1min 43s, sys: 8.92 s, total: 1min 52s\n",
            "Wall time: 1min 9s\n"
          ],
          "name": "stdout"
        }
      ]
    },
    {
      "cell_type": "markdown",
      "metadata": {
        "id": "zeh5GIhWz-WV",
        "colab_type": "text"
      },
      "source": [
        "<p>\n",
        "Notes:<br>\n",
        "<ul>\n",
        "<li><b>EarlyStopping</b> - Stop training when a monitored metric has stopped improving.</li>\n",
        "<li><code>monitor</code> - quantity to be monitored.</li>\n",
        "<li><code>min_delta</code> - minimum change in the monitored quantity to qualify as an improvement, i.e. an absolute change of less than <code>min_delta</code>, will count as no improvement.</li>\n",
        "<li><code>patience</code> - number of epochs with no improvement after which training will be stopped.</li>\n",
        "</ul>\n",
        "\n",
        "<ul>\n",
        "<li><b>ReduceLROnPlateau</b> - Reduce learning rate when a metric has stopped improving.</li>\n",
        "<li><code>factor</code> - factor by which the learning rate will be reduced. <code>new_lr = lr * factor</code>.</li>\n",
        "</ul>\n",
        "</p>\n",
        "\n",
        "<hr>\n",
        "\n",
        "<p>\n",
        "The last date for our training set is <code>30-Dec-2016</code>.<br>\n",
        "</p>\n",
        "\n",
        "<p>\n",
        "We will perform predictions for the next <b>20</b> days, since <b>2017-01-01</b> to <b>2017-01-20</b>.\n",
        "</p>"
      ]
    },
    {
      "cell_type": "markdown",
      "metadata": {
        "id": "0NfCrojgz-WV",
        "colab_type": "text"
      },
      "source": [
        "<h2>PART 3. Make future predictions</h2>"
      ]
    },
    {
      "cell_type": "code",
      "metadata": {
        "id": "h7U0N3uyz-WW",
        "colab_type": "code",
        "colab": {}
      },
      "source": [
        "# Generate list of sequence of days for predictions\n",
        "datelist_future = pd.date_range(datelist_train[-1], periods=n_future, freq='1d').tolist()\n",
        "\n",
        "'''\n",
        "Remeber, we have datelist_train from begining.\n",
        "'''\n",
        "\n",
        "# Convert Pandas Timestamp to Datetime object (for transformation) --> FUTURE\n",
        "datelist_future_ = []\n",
        "for this_timestamp in datelist_future:\n",
        "    datelist_future_.append(this_timestamp.date())"
      ],
      "execution_count": 14,
      "outputs": []
    },
    {
      "cell_type": "markdown",
      "metadata": {
        "id": "PCLnacMTz-WY",
        "colab_type": "text"
      },
      "source": [
        "<h3>Step #5. Make predictions for future dates</h3>"
      ]
    },
    {
      "cell_type": "code",
      "metadata": {
        "tags": [],
        "id": "t_PE7KOTz-WY",
        "colab_type": "code",
        "colab": {}
      },
      "source": [
        "# Perform predictions\n",
        "predictions_future = model.predict(X_train[-n_future:])\n",
        "\n",
        "predictions_train = model.predict(X_train[n_past:])"
      ],
      "execution_count": 15,
      "outputs": []
    },
    {
      "cell_type": "code",
      "metadata": {
        "tags": [],
        "id": "J5taVyAsz-Wb",
        "colab_type": "code",
        "colab": {
          "base_uri": "https://localhost:8080/",
          "height": 136
        },
        "outputId": "4be4d424-fb8b-4197-a993-ee33b48dc84b"
      },
      "source": [
        "# Inverse the predictions to original measurements\n",
        "\n",
        "# ---> Special function: convert <datetime.date> to <Timestamp>\n",
        "def datetime_to_timestamp(x):\n",
        "    '''\n",
        "        x : a given datetime value (datetime.date)\n",
        "    '''\n",
        "    return datetime.strptime(x.strftime('%Y%m%d'), '%Y%m%d')\n",
        "\n",
        "\n",
        "y_pred_future = sc_predict.inverse_transform(predictions_future)\n",
        "y_pred_train = sc_predict.inverse_transform(predictions_train)\n",
        "\n",
        "PREDICTIONS_FUTURE = pd.DataFrame(y_pred_future, columns=['Open']).set_index(pd.Series(datelist_future))\n",
        "PREDICTION_TRAIN = pd.DataFrame(y_pred_train, columns=['Open']).set_index(pd.Series(datelist_train[2 * n_past + n_future -1:]))\n",
        "\n",
        "# Convert <datetime.date> to <Timestamp> for PREDCITION_TRAIN\n",
        "PREDICTION_TRAIN.index = PREDICTION_TRAIN.index.to_series().apply(datetime_to_timestamp)\n",
        "\n",
        "PREDICTION_TRAIN.head(3)"
      ],
      "execution_count": 16,
      "outputs": [
        {
          "output_type": "execute_result",
          "data": {
            "text/html": [
              "<div>\n",
              "<style scoped>\n",
              "    .dataframe tbody tr th:only-of-type {\n",
              "        vertical-align: middle;\n",
              "    }\n",
              "\n",
              "    .dataframe tbody tr th {\n",
              "        vertical-align: top;\n",
              "    }\n",
              "\n",
              "    .dataframe thead th {\n",
              "        text-align: right;\n",
              "    }\n",
              "</style>\n",
              "<table border=\"1\" class=\"dataframe\">\n",
              "  <thead>\n",
              "    <tr style=\"text-align: right;\">\n",
              "      <th></th>\n",
              "      <th>Open</th>\n",
              "    </tr>\n",
              "  </thead>\n",
              "  <tbody>\n",
              "    <tr>\n",
              "      <th>2005-08-01</th>\n",
              "      <td>164.753250</td>\n",
              "    </tr>\n",
              "    <tr>\n",
              "      <th>2005-08-02</th>\n",
              "      <td>165.125778</td>\n",
              "    </tr>\n",
              "    <tr>\n",
              "      <th>2005-08-03</th>\n",
              "      <td>165.370438</td>\n",
              "    </tr>\n",
              "  </tbody>\n",
              "</table>\n",
              "</div>"
            ],
            "text/plain": [
              "                  Open\n",
              "2005-08-01  164.753250\n",
              "2005-08-02  165.125778\n",
              "2005-08-03  165.370438"
            ]
          },
          "metadata": {
            "tags": []
          },
          "execution_count": 16
        }
      ]
    },
    {
      "cell_type": "code",
      "metadata": {
        "id": "XHCTMKTL5Hr7",
        "colab_type": "code",
        "colab": {
          "base_uri": "https://localhost:8080/",
          "height": 168
        },
        "outputId": "315805fe-b719-4554-def3-8a2033324294"
      },
      "source": [
        "print(PREDICTION_TRAIN.info())"
      ],
      "execution_count": 18,
      "outputs": [
        {
          "output_type": "stream",
          "text": [
            "<class 'pandas.core.frame.DataFrame'>\n",
            "DatetimeIndex: 3767 entries, 2005-08-01 to 2020-07-17\n",
            "Data columns (total 1 columns):\n",
            " #   Column  Non-Null Count  Dtype  \n",
            "---  ------  --------------  -----  \n",
            " 0   Open    3767 non-null   float32\n",
            "dtypes: float32(1)\n",
            "memory usage: 204.1 KB\n",
            "None\n"
          ],
          "name": "stdout"
        }
      ]
    },
    {
      "cell_type": "markdown",
      "metadata": {
        "id": "LUTXt2jyz-Wd",
        "colab_type": "text"
      },
      "source": [
        "<h3>Step #6. Visualize the Predictions</h3>"
      ]
    },
    {
      "cell_type": "code",
      "metadata": {
        "id": "Bc7uLYSg5V4Y",
        "colab_type": "code",
        "colab": {
          "base_uri": "https://localhost:8080/",
          "height": 306
        },
        "outputId": "3208b329-30f8-4039-9c4b-ebacfc4279fc"
      },
      "source": [
        "PREDICTION_TRAIN.plot()\n",
        "plt.show()"
      ],
      "execution_count": 19,
      "outputs": [
        {
          "output_type": "display_data",
          "data": {
            "image/png": "[encoded data removed]",
            "text/plain": [
              "<Figure size 1008x360 with 1 Axes>"
            ]
          },
          "metadata": {
            "tags": [],
            "needs_background": "light"
          }
        }
      ]
    },
    {
      "cell_type": "code",
      "metadata": {
        "id": "oya-AgJJ6NEx",
        "colab_type": "code",
        "colab": {}
      },
      "source": [
        "# Parse training set timestamp for better visualization\n",
        "dataset_train = pd.DataFrame(dataset_train, columns=cols)\n",
        "dataset_train.index = datelist_train\n",
        "dataset_train.index = pd.to_datetime(dataset_train.index)"
      ],
      "execution_count": null,
      "outputs": []
    },
    {
      "cell_type": "code",
      "metadata": {
        "id": "rCdz7z18z-We",
        "colab_type": "code",
        "colab": {
          "base_uri": "https://localhost:8080/",
          "height": 377
        },
        "outputId": "436f0516-1605-4bfa-a2bb-aac5da635372"
      },
      "source": [
        "# Set plot size \n",
        "from pylab import rcParams\n",
        "rcParams['figure.figsize'] = 14, 5\n",
        "\n",
        "# Plot parameters\n",
        "START_DATE_FOR_PLOTTING = '2012-06-01'\n",
        "\n",
        "plt.plot(PREDICTIONS_FUTURE.index, PREDICTIONS_FUTURE['Open'], color='r', label='Predicted Stock Price')\n",
        "plt.plot(PREDICTION_TRAIN.loc[START_DATE_FOR_PLOTTING:].index, PREDICTION_TRAIN.loc[START_DATE_FOR_PLOTTING:]['Open'], color='orange', label='Training predictions')\n",
        "plt.plot(dataset_train.loc[START_DATE_FOR_PLOTTING:].index, dataset_train.loc[START_DATE_FOR_PLOTTING:]['Open'], color='b', label='Actual Stock Price')\n",
        "\n",
        "plt.axvline(x = min(PREDICTIONS_FUTURE.index), color='green', linewidth=2, linestyle='--')\n",
        "\n",
        "plt.grid(which='major', color='#cccccc', alpha=0.5)\n",
        "\n",
        "plt.legend(shadow=True)\n",
        "plt.title('Predcitions and Acutal Stock Prices', family='Arial', fontsize=12)\n",
        "plt.xlabel('Timeline', family='Arial', fontsize=10)\n",
        "plt.ylabel('Stock Price Value', family='Arial', fontsize=10)\n",
        "plt.xticks(rotation=45, fontsize=8)\n",
        "plt.show()"
      ],
      "execution_count": 21,
      "outputs": [
        {
          "output_type": "stream",
          "text": [
            "findfont: Font family ['Arial'] not found. Falling back to DejaVu Sans.\n"
          ],
          "name": "stderr"
        },
        {
          "output_type": "display_data",
          "data": {
            "image/png": "[encoded data removed]",
            "text/plain": [
              "<Figure size 1008x360 with 1 Axes>"
            ]
          },
          "metadata": {
            "tags": [],
            "needs_background": "light"
          }
        }
      ]
    }
  ]
}